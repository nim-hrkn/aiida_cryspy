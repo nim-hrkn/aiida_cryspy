{
 "cells": [
  {
   "cell_type": "code",
   "execution_count": 1,
   "id": "2403b9fc",
   "metadata": {},
   "outputs": [
    {
     "data": {
      "text/plain": [
       "<aiida.manage.configuration.profile.Profile at 0x7f0d16e2c210>"
      ]
     },
     "execution_count": 1,
     "metadata": {},
     "output_type": "execute_result"
    }
   ],
   "source": [
    "import aiida\n",
    "aiida.load_profile()"
   ]
  },
  {
   "cell_type": "code",
   "execution_count": 2,
   "id": "8d8e582e",
   "metadata": {},
   "outputs": [],
   "source": [
    "from CrySPY.IO import pkl_data\n",
    "from aiida.plugins import DataFactory"
   ]
  },
  {
   "cell_type": "code",
   "execution_count": 3,
   "id": "110c5914",
   "metadata": {},
   "outputs": [
    {
     "data": {
      "text/plain": [
       "4"
      ]
     },
     "execution_count": 3,
     "metadata": {},
     "output_type": "execute_result"
    }
   ],
   "source": [
    "bo_id_data = pkl_data.load_bo_id()\n",
    "len(bo_id_data)"
   ]
  },
  {
   "cell_type": "code",
   "execution_count": 4,
   "id": "4ebb39ec",
   "metadata": {},
   "outputs": [
    {
     "data": {
      "text/plain": [
       "[[3, 14, 10, 2, 1, 28, 12, 25]]"
      ]
     },
     "execution_count": 4,
     "metadata": {},
     "output_type": "execute_result"
    }
   ],
   "source": [
    "bo_id_data[3]"
   ]
  },
  {
   "cell_type": "code",
   "execution_count": null,
   "id": "76dba148",
   "metadata": {},
   "outputs": [],
   "source": []
  },
  {
   "cell_type": "code",
   "execution_count": 8,
   "id": "8c5fa03f",
   "metadata": {},
   "outputs": [],
   "source": [
    "BOidData = DataFactory(\"cryspy.bo_id_data\")"
   ]
  },
  {
   "cell_type": "code",
   "execution_count": 9,
   "id": "f223fd67",
   "metadata": {},
   "outputs": [],
   "source": [
    "bo_data_node = BOidData(bo_id_data)"
   ]
  },
  {
   "cell_type": "code",
   "execution_count": 10,
   "id": "deb62944",
   "metadata": {},
   "outputs": [
    {
     "data": {
      "text/plain": [
       "<BOidData: uuid: b5795784-cddd-4f45-b365-eeaad1773311 (pk: 39918)>"
      ]
     },
     "execution_count": 10,
     "metadata": {},
     "output_type": "execute_result"
    }
   ],
   "source": [
    "bo_data_node.store()"
   ]
  },
  {
   "cell_type": "code",
   "execution_count": 11,
   "id": "b942725d",
   "metadata": {},
   "outputs": [],
   "source": [
    "from aiida.orm import load_node\n",
    "node = load_node(39918)"
   ]
  },
  {
   "cell_type": "code",
   "execution_count": 13,
   "id": "7c1f5f44",
   "metadata": {},
   "outputs": [
    {
     "data": {
      "text/plain": [
       "(1, [3, 14, 10, 2, 1, 28, 12, 25], [], [[3, 14, 10, 2, 1, 28, 12, 25]])"
      ]
     },
     "execution_count": 13,
     "metadata": {},
     "output_type": "execute_result"
    }
   ],
   "source": [
    "node.bo_id_data"
   ]
  },
  {
   "cell_type": "code",
   "execution_count": null,
   "id": "a175265c",
   "metadata": {},
   "outputs": [],
   "source": []
  }
 ],
 "metadata": {
  "kernelspec": {
   "display_name": "py39",
   "language": "python",
   "name": "py39"
  },
  "language_info": {
   "codemirror_mode": {
    "name": "ipython",
    "version": 3
   },
   "file_extension": ".py",
   "mimetype": "text/x-python",
   "name": "python",
   "nbconvert_exporter": "python",
   "pygments_lexer": "ipython3",
   "version": "3.7.13"
  }
 },
 "nbformat": 4,
 "nbformat_minor": 5
}
