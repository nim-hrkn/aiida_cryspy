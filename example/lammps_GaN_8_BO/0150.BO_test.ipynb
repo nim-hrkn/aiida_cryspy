{
 "cells": [
  {
   "cell_type": "markdown",
   "id": "90a1ffe2",
   "metadata": {},
   "source": [
    "Please read explanation in the RS first.\n",
    "The common things are explained in the RS file."
   ]
  },
  {
   "cell_type": "code",
   "execution_count": null,
   "id": "4021e8d0",
   "metadata": {},
   "outputs": [],
   "source": [
    "#!/usr/bin/env python3\n",
    "'''\n",
    "Main script\n",
    "'''\n",
    "\n",
    "import os\n",
    "from pymatgen.io.vasp.inputs import Poscar\n",
    "from pymatgen.core import Structure\n",
    "\n",
    "from CrySPY.interface import select_code\n",
    "from CrySPY.job.ctrl_job import Ctrl_job\n",
    "from CrySPY.IO import read_input as rin\n",
    "from CrySPY.start import cryspy_init, cryspy_restart\n",
    "\n",
    "from aiida_lammps.tests.utils import (\n",
    "    get_or_create_local_computer, get_or_create_code)\n",
    "from aiida_lammps.tests.utils import lammps_version\n",
    "\n",
    "from aiida.engine import run_get_node, run, submit\n",
    "from aiida.plugins import DataFactory, WorkflowFactory\n",
    "import numpy as np\n",
    "from aiida.orm import Code\n",
    "from aiida.orm import Str, Dict, Int, List, Float\n",
    "from aiida.engine import calcfunction, WorkChain, append_\n",
    "from aiida.plugins import DataFactory\n",
    "from itertools import cycle\n",
    "import os\n",
    "import io\n",
    "from configparser import ConfigParser\n",
    "\n",
    "from CrySPY.gen_struc.random.gen_pyxtal import Rnd_struc_gen_pyxtal\n"
   ]
  },
  {
   "cell_type": "code",
   "execution_count": null,
   "id": "3e4b6ea7",
   "metadata": {},
   "outputs": [],
   "source": [
    "import aiida\n",
    "aiida.load_profile()\n"
   ]
  },
  {
   "cell_type": "code",
   "execution_count": null,
   "id": "da8044c2",
   "metadata": {},
   "outputs": [],
   "source": [
    "SIMULATOR_PREFIX = 'simulator_'\n",
    "ID_PREFIX = 'ID_'\n"
   ]
  },
  {
   "cell_type": "code",
   "execution_count": null,
   "id": "13a83d52",
   "metadata": {},
   "outputs": [],
   "source": [
    "!pwd\n"
   ]
  },
  {
   "cell_type": "code",
   "execution_count": null,
   "id": "51f11e3f",
   "metadata": {},
   "outputs": [],
   "source": [
    "import os\n",
    "import numpy as np\n",
    "\n",
    "\n",
    "from aiida.plugins import DataFactory\n",
    "from aiida.orm import Code\n",
    "from aiida.orm import Str, Dict, List, Int\n",
    "from aiida.engine import calcfunction, WorkChain\n",
    "\n",
    "from CrySPY.IO import read_input as rin\n",
    "from pymatgen.io.vasp.inputs import Poscar\n",
    "from pymatgen.core import Structure\n",
    "\n",
    "# load types\n",
    "StructureData = DataFactory('structure')\n",
    "FolderData = DataFactory('folder')\n",
    "SinglefileData = DataFactory('singlefile')\n",
    "ArrayData = DataFactory('array')\n",
    "LammpsPotential = DataFactory('lammps.potential')\n",
    "TrajectoryData = DataFactory('array.trajectory')\n",
    "\n",
    "# PandasFrameData = DataFactory('cryspy.dataframe')\n",
    "PandasFrameData = DataFactory('dataframe.frame')\n",
    "\n",
    "ConfigparserData = DataFactory('cryspy.configparser')\n",
    "StructurecollectionData = DataFactory('cryspy.structurecollection')\n",
    "EAData = DataFactory('cryspy.ea_data')\n",
    "EAidData = DataFactory('cryspy.ea_id_data')\n",
    "RSidData = DataFactory('cryspy.rs_id_data')\n",
    "BOData = DataFactory(\"cryspy.bo_data\")\n",
    "BOidData = DataFactory('cryspy.bo_id_data')\n"
   ]
  },
  {
   "cell_type": "code",
   "execution_count": null,
   "id": "9d3265f0",
   "metadata": {},
   "outputs": [],
   "source": [
    "pwd = os.getcwd()\n",
    "cryspy_in = os.path.join(pwd, 'cryspy.in0')\n",
    "cryspy_in_node = SinglefileData(cryspy_in)\n",
    "            \n",
    "inputs = {'cryspy_in': cryspy_in_node}\n",
    "initialize_WorkChain = WorkflowFactory('cryspy.initial_structures')\n",
    "initial_result = run(initialize_WorkChain, **inputs)\n"
   ]
  },
  {
   "cell_type": "code",
   "execution_count": null,
   "id": "0b8cee99",
   "metadata": {},
   "outputs": [],
   "source": [
    "# outputs\n",
    "initial_result\n"
   ]
  },
  {
   "cell_type": "code",
   "execution_count": null,
   "id": "edc5aa93",
   "metadata": {},
   "outputs": [],
   "source": [
    "initial_structures_node = initial_result[\"initial_structures\"]\n",
    "rslt_data_node = initial_result[\"rslt_data\"]\n",
    "id_data_node = initial_result[\"id_data\"]\n",
    "detail_data_node = initial_result[\"detail_data\"]\n",
    "cryspy_in_node = initial_result[\"cryspy_in\"]\n"
   ]
  },
  {
   "cell_type": "code",
   "execution_count": null,
   "id": "97cb90f1",
   "metadata": {},
   "outputs": [],
   "source": [
    "import shutil\n",
    "# cryspy.inは実行中に書き換えられる。このpackageでは読まれないはずだが念のためにコピーする。\n",
    "shutil.copy(\"cryspy.in0\", \"cryspy.in\")\n"
   ]
  },
  {
   "cell_type": "markdown",
   "id": "e78ce319",
   "metadata": {},
   "source": [
    "# select structures to optimize"
   ]
  },
  {
   "cell_type": "code",
   "execution_count": null,
   "id": "899f3e76",
   "metadata": {},
   "outputs": [],
   "source": [
    "initial_result[\"id_data\"].bo_id_data\n"
   ]
  },
  {
   "cell_type": "code",
   "execution_count": null,
   "id": "f7e05777",
   "metadata": {},
   "outputs": [],
   "source": [
    "inputs = {\"id_data\":  id_data_node, \"initial_structures\":initial_structures_node }\n",
    "\n",
    "select_structure_to_run_WorkChain = WorkflowFactory('cryspy.select_structures')\n",
    "select_structure_result = run(select_structure_to_run_WorkChain, **inputs)\n",
    "select_structure_result"
   ]
  },
  {
   "cell_type": "code",
   "execution_count": null,
   "id": "47a04d5f",
   "metadata": {},
   "outputs": [],
   "source": [
    "work_path_node = select_structure_result[\"work_path\"]\n",
    "structures_to_optimize_node = select_structure_result[\"selected_structures\"]\n",
    "id_data_node  = select_structure_result[\"id_data\"]"
   ]
  },
  {
   "cell_type": "code",
   "execution_count": null,
   "id": "a692f5b1",
   "metadata": {},
   "outputs": [],
   "source": [
    "id_data_node.bo_id_data"
   ]
  },
  {
   "cell_type": "markdown",
   "id": "f186f76f",
   "metadata": {},
   "source": [
    "# structure optimization"
   ]
  },
  {
   "cell_type": "code",
   "execution_count": null,
   "id": "7ce5f982",
   "metadata": {},
   "outputs": [],
   "source": [
    "computer_local = 'localhost'\n",
    "code_lammps_opt = get_or_create_code('lammps.optimize',\n",
    "                                     computer_local, 'lammps')\n",
    "meta_options = {\n",
    "    \"resources\": {\n",
    "        \"num_machines\": 1,\n",
    "        \"num_mpiprocs_per_machine\": 4}\n",
    "}\n",
    "code_lammps_opt.label\n"
   ]
  },
  {
   "cell_type": "code",
   "execution_count": null,
   "id": "41f4954d",
   "metadata": {},
   "outputs": [],
   "source": [
    "# lammps potentials\n",
    "pair_style = 'tersoff'\n",
    "potential_dict = {\n",
    "    'Ga Ga Ga': '1.0 0.007874 1.846 1.918000 0.75000 -0.301300 1.0 1.0 1.44970 410.132 2.87 0.15 1.60916 535.199',\n",
    "    'N  N  N': '1.0 0.766120 0.000 0.178493 0.20172 -0.045238 1.0 1.0 2.38426 423.769 2.20 0.20 3.55779 1044.77',\n",
    "    'Ga Ga N': '1.0 0.001632 0.000 65.20700 2.82100 -0.518000 1.0 0.0 0.00000 0.00000 2.90 0.20 0.00000 0.00000',\n",
    "    'Ga N  N': '1.0 0.001632 0.000 65.20700 2.82100 -0.518000 1.0 1.0 2.63906 3864.27 2.90 0.20 2.93516 6136.44',\n",
    "    'N  Ga Ga': '1.0 0.001632 0.000 65.20700 2.82100 -0.518000 1.0 1.0 2.63906 3864.27 2.90 0.20 2.93516 6136.44',\n",
    "    'N  Ga N ': '1.0 0.766120 0.000 0.178493 0.20172 -0.045238 1.0 0.0 0.00000 0.00000 2.20 0.20 0.00000 0.00000',\n",
    "    'N  N  Ga': '1.0 0.001632 0.000 65.20700 2.82100 -0.518000 1.0 0.0 0.00000 0.00000 2.90 0.20 0.00000 0.00000',\n",
    "    'Ga N  Ga': '1.0 0.007874 1.846 1.918000 0.75000 -0.301300 1.0 0.0 0.00000 0.00000 2.87 0.15 0.00000 0.00000'}\n",
    "potential = DataFactory(\"lammps.potential\")(\n",
    "    type=pair_style, data=potential_dict\n",
    ")\n",
    "potential.attributes\n"
   ]
  },
  {
   "cell_type": "code",
   "execution_count": null,
   "id": "e68db394",
   "metadata": {},
   "outputs": [],
   "source": [
    "# lammps.optimize parameters\n",
    "parameters = DataFactory('dict')(dict={\n",
    "    'lammps_version': lammps_version(),\n",
    "    'output_variables': [\"temp\", \"etotal\", \"pe\", \"ke\" , \n",
    "                         \"pxx\", \"pyy\", \"pzz\", \"pxy\", \"pxz\", \"pyz\"],\n",
    "    'thermo_keywords': [\"pxx\", \"pyy\", \"pzz\", \"pxy\", \"pxz\", \"pyz\"],\n",
    "    'units': 'metal',\n",
    "    'relax': {\n",
    "        'type': 'aniso',\n",
    "        'pressure': 0.0,\n",
    "        'vmax': 0.005,\n",
    "    },\n",
    "    \"minimize\": {\n",
    "        'style': 'cg',\n",
    "        'energy_tolerance': 1.0e-5,\n",
    "        'force_tolerance': 1.0e-3,\n",
    "        'max_iterations': 5,\n",
    "        'max_evaluations': 10000\n",
    "        }\n",
    "})"
   ]
  },
  {
   "cell_type": "code",
   "execution_count": null,
   "id": "5cc88dee",
   "metadata": {},
   "outputs": [],
   "source": [
    "if len(structures_to_optimize_node.structurecollection.keys())>0 and len(work_path_node.get_dict())>0:\n",
    "    inputs = {'code_string': Str(code_lammps_opt.label),\n",
    "             \"initial_structures\": structures_to_optimize_node, \n",
    "             \"cwd\": work_path_node,\n",
    "             \"potential\": potential,\n",
    "             \"parameters\": parameters}\n",
    "    optimization_simulator_lammps_WorkChain = WorkflowFactory('cryspy.optimize_structures_lammps')\n",
    "    optimize_result, node = run_get_node(optimization_simulator_lammps_WorkChain, **inputs)\n",
    "    # finish_job(jobs)\n",
    "    "
   ]
  },
  {
   "cell_type": "code",
   "execution_count": null,
   "id": "656fc1b7",
   "metadata": {},
   "outputs": [],
   "source": [
    "optimize_result"
   ]
  },
  {
   "cell_type": "code",
   "execution_count": null,
   "id": "617cb47c",
   "metadata": {},
   "outputs": [],
   "source": [
    "print(optimize_result[\"results\"].get_dict())\n"
   ]
  },
  {
   "cell_type": "code",
   "execution_count": null,
   "id": "f4a6a084",
   "metadata": {},
   "outputs": [],
   "source": [
    "optimized_structures_node = optimize_result[\"final_structures\"]\n",
    "print(optimized_structures_node.structurecollection.keys())\n"
   ]
  },
  {
   "cell_type": "markdown",
   "id": "741004d6",
   "metadata": {},
   "source": [
    "# summary"
   ]
  },
  {
   "cell_type": "code",
   "execution_count": null,
   "id": "bf69f37e",
   "metadata": {},
   "outputs": [],
   "source": [
    "# optの対称性の登録\n",
    "from aiida_cryspy.common import generate_rlst\n",
    "\n",
    "rslt_data_node = generate_rlst(initial_structures_node, optimized_structures_node, \n",
    "                              optimize_result[\"results\"], \n",
    "                              id_data_node, rslt_data_node, cryspy_in_node)\n",
    "\n",
    "# rslt for new EA\n",
    "rslt_data_node.df"
   ]
  },
  {
   "cell_type": "code",
   "execution_count": null,
   "id": "3f62fd9f",
   "metadata": {},
   "outputs": [],
   "source": [
    "from aiida_cryspy.common import update_step_data\n",
    "\n"
   ]
  },
  {
   "cell_type": "code",
   "execution_count": null,
   "id": "9e78b94f",
   "metadata": {},
   "outputs": [],
   "source": [
    "step_data_node = optimize_result[\"step_data\"]"
   ]
  },
  {
   "cell_type": "markdown",
   "id": "aee3ad26",
   "metadata": {},
   "source": [
    "# next_sg\n",
    "\n",
    "It generates new candidates by BO.\n"
   ]
  },
  {
   "cell_type": "code",
   "execution_count": null,
   "id": "6368e619",
   "metadata": {},
   "outputs": [],
   "source": [
    "# update_bo_data should be included in next_sg_WorkChain\n",
    "if False:\n",
    "    from CrySPY.BO.select_descriptor import select_descriptor\n",
    "    @calcfunction\n",
    "    def update_bo_data(bo_data_node, rlst_data_node, optimized_structures_node):\n",
    "        \"\"\"\n",
    "        update descriptors for the optimize structures.\n",
    "        \"\"\"\n",
    "        bo_data = bo_data_node.bo_data\n",
    "        rin = cryspy_in_node.rin\n",
    "        opt_dscrpt_data = {}\n",
    "        for ID in rslt_data_node.df[\"Opt\"].index:\n",
    "            status = rslt_data_node.df[\"Opt\"].loc[ID]\n",
    "            opt_struc = optimized_structures_node.structurecollection[ID]\n",
    "            tmp_dscrpt = select_descriptor(rin, {ID: opt_struc})\n",
    "            opt_dscrpt_data.update(tmp_dscrpt)\n",
    "        opt_dscrpt_data.keys()\n",
    "        detail_data_node = BOData((bo_data[0], opt_dscrpt_data, bo_data[3], bo_data[3], bo_data[4]))\n",
    "        return detail_data_node\n",
    "\n",
    "    detail_data_node = update_bo_data(detail_data_node, rslt_data_node, optimized_structures_node)\n"
   ]
  },
  {
   "cell_type": "code",
   "execution_count": null,
   "id": "fe428009",
   "metadata": {},
   "outputs": [],
   "source": [
    "\n",
    "inputs = {'initial_structures': initial_structures_node,\n",
    "          'optimized_structures': optimized_structures_node,\n",
    "          'rslt_data': rslt_data_node,\n",
    "          'id_data': id_data_node,\n",
    "          'step_data': step_data_node,\n",
    "          'detail_data': detail_data_node,\n",
    "          'cryspy_in': cryspy_in_node}\n",
    "next_sg_WorkChain = WorkflowFactory('cryspy.next_sg')\n",
    "next_sg_results = run(next_sg_WorkChain, **inputs)\n"
   ]
  },
  {
   "cell_type": "code",
   "execution_count": null,
   "id": "a6fe2a4a",
   "metadata": {},
   "outputs": [],
   "source": [
    "next_sg_results"
   ]
  },
  {
   "cell_type": "code",
   "execution_count": null,
   "id": "ef7eb295",
   "metadata": {},
   "outputs": [],
   "source": [
    "id_node = next_sg_results[\"id_data\"]\n",
    "detail_data_node = next_sg_results[\"detail_data\"]\n",
    "rslt_data_ndoe = next_sg_results[\"rslt_data\"]\n",
    "initial_structures_node = next_sg_results[\"initial_structures\"]\n",
    "cryspy_in_node = next_sg_results[\"cryspy_in\"]\n"
   ]
  },
  {
   "cell_type": "markdown",
   "id": "03586bb3",
   "metadata": {},
   "source": [
    "# next structure  optimization"
   ]
  },
  {
   "cell_type": "code",
   "execution_count": null,
   "id": "bdbf4b8d",
   "metadata": {},
   "outputs": [],
   "source": [
    "inputs = {\"id_data\":  id_node, \"initial_structures\": initial_structures_node }\n",
    "\n",
    "select_structure_result = run(select_structure_to_run_WorkChain, **inputs)\n",
    "work_path_node = select_structure_result[\"work_path\"]\n",
    "structures_to_optimize_node = select_structure_result[\"selected_structures\"]\n",
    "print(work_path_node.get_dict().keys(),  structures_to_optimize_node.get_dict().keys())"
   ]
  },
  {
   "cell_type": "code",
   "execution_count": null,
   "id": "6fd3caeb",
   "metadata": {},
   "outputs": [],
   "source": [
    "if len(structures_to_optimize_node.structurecollection.keys())>0 and len(work_path_node.get_dict())>0:\n",
    "    inputs = {'code_string': Str(code_lammps_opt.label),\n",
    "             \"initial_structures\": structures_to_optimize_node, \n",
    "             \"cwd\": work_path_node,\n",
    "             \"potential\": potential,\n",
    "             \"parameters\": parameters}\n",
    "    optimization_simulator_lammps_WorkChain = WorkflowFactory('cryspy.optimize_structures_lammps')\n",
    "    optimize_result, node = run_get_node(optimization_simulator_lammps_WorkChain, **inputs)\n",
    "    # finish_job(jobs)"
   ]
  },
  {
   "cell_type": "code",
   "execution_count": null,
   "id": "d5a128ae",
   "metadata": {},
   "outputs": [],
   "source": [
    "optimize_result"
   ]
  },
  {
   "cell_type": "code",
   "execution_count": null,
   "id": "468884d0",
   "metadata": {},
   "outputs": [],
   "source": [
    "print(optimize_result[\"results\"].get_dict())"
   ]
  },
  {
   "cell_type": "code",
   "execution_count": null,
   "id": "0c0a8be0",
   "metadata": {},
   "outputs": [],
   "source": [
    "from aiida_cryspy.common import merge_structurecollection"
   ]
  },
  {
   "cell_type": "code",
   "execution_count": null,
   "id": "286121c9",
   "metadata": {},
   "outputs": [],
   "source": [
    "optimized_structures_node = merge_structurecollection(optimized_structures_node,\n",
    "                                                      optimize_result[\"final_structures\"])\n",
    "optimized_structures_node.structurecollection.keys()"
   ]
  },
  {
   "cell_type": "markdown",
   "id": "b5815bf4",
   "metadata": {},
   "source": [
    "# summary"
   ]
  },
  {
   "cell_type": "code",
   "execution_count": null,
   "id": "5622b5a8",
   "metadata": {},
   "outputs": [],
   "source": [
    "rslt_data_node = generate_rlst(initial_structures_node, optimized_structures_node, \n",
    "                              optimize_result[\"results\"], \n",
    "                              id_node, rslt_data_node, cryspy_in_node)\n",
    "rslt_data_node.df.sort_values(by=\"E_eV_atom\")\n"
   ]
  },
  {
   "cell_type": "code",
   "execution_count": null,
   "id": "1f010b6e",
   "metadata": {},
   "outputs": [],
   "source": [
    "step_data_node"
   ]
  },
  {
   "cell_type": "code",
   "execution_count": null,
   "id": "fbee16ed",
   "metadata": {},
   "outputs": [],
   "source": [
    "new_step_data = update_step_data(step_data_node, optimize_result[\"step_data\"])\n"
   ]
  },
  {
   "cell_type": "code",
   "execution_count": null,
   "id": "8b4dd7a5",
   "metadata": {},
   "outputs": [],
   "source": [
    "step_data_node = new_step_data"
   ]
  },
  {
   "cell_type": "markdown",
   "id": "fe2878d3",
   "metadata": {},
   "source": [
    "# next_sg"
   ]
  },
  {
   "cell_type": "code",
   "execution_count": null,
   "id": "4528f739",
   "metadata": {},
   "outputs": [],
   "source": [
    "inputs = {'initial_structures': initial_structures_node,\n",
    "         'optimized_structures': optimized_structures_node,\n",
    "          'rslt_data': rslt_data_node,\n",
    "          'id_data': id_data_node,\n",
    "          'detail_data': detail_data_node,\n",
    "          'step_data': step_data_node, \n",
    "          'cryspy_in': cryspy_in_node}\n",
    "\n",
    "next_sg_WorkChain = WorkflowFactory('cryspy.next_sg')\n",
    "next_sg_results = run(next_sg_WorkChain, **inputs)\n"
   ]
  },
  {
   "cell_type": "code",
   "execution_count": null,
   "id": "085b7986",
   "metadata": {},
   "outputs": [],
   "source": [
    "next_sg_results\n"
   ]
  },
  {
   "cell_type": "code",
   "execution_count": null,
   "id": "ab898dc5",
   "metadata": {},
   "outputs": [],
   "source": [
    "id_node = next_sg_results[\"id_data\"]\n",
    "detail_data_node = next_sg_results[\"detail_data\"]\n",
    "rslt_data_ndoe = next_sg_results[\"rslt_data\"]\n",
    "initial_structures_node = next_sg_results[\"initial_structures\"]\n",
    "cryspy_in_node = next_sg_results[\"cryspy_in\"]\n"
   ]
  },
  {
   "cell_type": "markdown",
   "id": "17918fef",
   "metadata": {},
   "source": [
    "# structure optimization "
   ]
  },
  {
   "cell_type": "code",
   "execution_count": null,
   "id": "245123fb",
   "metadata": {},
   "outputs": [],
   "source": [
    "inputs = {\"id_data\":  id_node, \"initial_structures\": initial_structures_node }\n",
    "\n",
    "select_structure_result = run(select_structure_to_run_WorkChain, **inputs)\n",
    "work_path_node = select_structure_result[\"work_path\"]\n",
    "structures_to_optimize_node = select_structure_result[\"selected_structures\"]\n"
   ]
  },
  {
   "cell_type": "code",
   "execution_count": null,
   "id": "eabf7420",
   "metadata": {},
   "outputs": [],
   "source": [
    "work_path_node.get_dict(), structures_to_optimize_node.get_dict().keys()\n"
   ]
  },
  {
   "cell_type": "code",
   "execution_count": null,
   "id": "94827b44",
   "metadata": {},
   "outputs": [],
   "source": [
    "if len(structures_to_optimize_node.structurecollection.keys())>0 and len(work_path_node.get_dict())>0:\n",
    "    inputs = {'code_string': Str(code_lammps_opt.label),\n",
    "             \"initial_structures\": structures_to_optimize_node, \n",
    "             \"cwd\": work_path_node,\n",
    "             \"potential\": potential,\n",
    "             \"parameters\": parameters}\n",
    "    optimization_simulator_lammps_WorkChain = WorkflowFactory('cryspy.optimize_structures_lammps')\n",
    "    optimize_result, node = run_get_node(optimization_simulator_lammps_WorkChain, **inputs)\n",
    "    # finish_job(jobs)\n",
    "    "
   ]
  },
  {
   "cell_type": "code",
   "execution_count": null,
   "id": "ffc5fca3",
   "metadata": {},
   "outputs": [],
   "source": [
    "optimize_result"
   ]
  },
  {
   "cell_type": "code",
   "execution_count": null,
   "id": "0fe28848",
   "metadata": {},
   "outputs": [],
   "source": [
    "optimized_structures_node = merge_structurecollection(optimized_structures_node, \n",
    "                                                      optimize_result[\"final_structures\"])\n",
    "optimized_structures_node.structurecollection.keys()\n"
   ]
  },
  {
   "cell_type": "code",
   "execution_count": null,
   "id": "c93aa931",
   "metadata": {},
   "outputs": [],
   "source": [
    "rslt_data_node_new = generate_rlst(initial_structures_node, optimized_structures_node, \n",
    "                              optimize_result[\"results\"], \n",
    "                              id_node, rslt_data_node, cryspy_in_node)\n",
    "print(rslt_data_node_new.df.shape)\n",
    "rslt_data_node_new.df.sort_values(by=\"E_eV_atom\").head(50)"
   ]
  },
  {
   "cell_type": "code",
   "execution_count": null,
   "id": "9008f454",
   "metadata": {},
   "outputs": [],
   "source": [
    "!verdi node graph generate $rslt_data_node_new.pk"
   ]
  },
  {
   "cell_type": "code",
   "execution_count": null,
   "id": "ce12df50",
   "metadata": {},
   "outputs": [],
   "source": []
  }
 ],
 "metadata": {
  "kernelspec": {
   "display_name": "py39",
   "language": "python",
   "name": "py39"
  },
  "language_info": {
   "codemirror_mode": {
    "name": "ipython",
    "version": 3
   },
   "file_extension": ".py",
   "mimetype": "text/x-python",
   "name": "python",
   "nbconvert_exporter": "python",
   "pygments_lexer": "ipython3",
   "version": "3.7.13"
  }
 },
 "nbformat": 4,
 "nbformat_minor": 5
}
