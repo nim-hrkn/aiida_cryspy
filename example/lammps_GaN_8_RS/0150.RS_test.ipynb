{
 "cells": [
  {
   "cell_type": "code",
   "execution_count": null,
   "id": "4021e8d0",
   "metadata": {},
   "outputs": [],
   "source": [
    "#!/usr/bin/env python3\n",
    "'''\n",
    "Main script\n",
    "'''\n",
    "\n",
    "import os\n",
    "from pymatgen.io.vasp.inputs import Poscar\n",
    "from pymatgen.core import Structure\n",
    "\n",
    "from CrySPY.interface import select_code\n",
    "from CrySPY.job.ctrl_job import Ctrl_job\n",
    "from CrySPY.IO import read_input as rin\n",
    "from CrySPY.start import cryspy_init, cryspy_restart\n",
    "\n",
    "from aiida_lammps.tests.utils import (\n",
    "    get_or_create_local_computer, get_or_create_code)\n",
    "from aiida_lammps.tests.utils import lammps_version\n",
    "\n",
    "from aiida.engine import run_get_node, run, submit\n",
    "from aiida.plugins import DataFactory, WorkflowFactory\n",
    "import numpy as np\n",
    "from aiida.orm import Code\n",
    "from aiida.orm import Str, Dict, Int, List, Float\n",
    "from aiida.engine import calcfunction, WorkChain, append_\n",
    "from aiida.plugins import DataFactory\n",
    "from itertools import cycle\n",
    "import os\n",
    "import io\n",
    "from configparser import ConfigParser\n",
    "\n",
    "from CrySPY.gen_struc.random.gen_pyxtal import Rnd_struc_gen_pyxtal\n"
   ]
  },
  {
   "cell_type": "code",
   "execution_count": null,
   "id": "3e4b6ea7",
   "metadata": {},
   "outputs": [],
   "source": [
    "import aiida\n",
    "aiida.load_profile()\n"
   ]
  },
  {
   "cell_type": "code",
   "execution_count": null,
   "id": "da8044c2",
   "metadata": {},
   "outputs": [],
   "source": [
    "SIMULATOR_PREFIX = 'simulator_'\n",
    "ID_PREFIX = 'ID_'\n"
   ]
  },
  {
   "cell_type": "code",
   "execution_count": null,
   "id": "13a83d52",
   "metadata": {},
   "outputs": [],
   "source": [
    "!pwd"
   ]
  },
  {
   "cell_type": "code",
   "execution_count": null,
   "id": "39bd16e5",
   "metadata": {},
   "outputs": [],
   "source": []
  },
  {
   "cell_type": "code",
   "execution_count": null,
   "id": "51f11e3f",
   "metadata": {},
   "outputs": [],
   "source": [
    "import os\n",
    "import numpy as np\n",
    "\n",
    "\n",
    "from aiida.plugins import DataFactory\n",
    "from aiida.orm import Code\n",
    "from aiida.orm import Str, Dict, List, Int\n",
    "from aiida.engine import calcfunction, WorkChain\n",
    "\n",
    "from CrySPY.IO import read_input as rin\n",
    "from pymatgen.io.vasp.inputs import Poscar\n",
    "from pymatgen.core import Structure\n",
    "\n",
    "# load types\n",
    "StructureData = DataFactory('structure')\n",
    "FolderData = DataFactory('folder')\n",
    "SinglefileData = DataFactory('singlefile')\n",
    "ArrayData = DataFactory('array')\n",
    "LammpsPotential = DataFactory('lammps.potential')\n",
    "TrajectoryData = DataFactory('array.trajectory')\n",
    "\n",
    "# PandasFrameData = DataFactory('cryspy.dataframe')\n",
    "PandasFrameData = DataFactory('dataframe.frame')\n",
    "\n",
    "ConfigparserData = DataFactory('cryspy.configparser')\n",
    "StructurecollectionData = DataFactory('cryspy.structurecollection')\n",
    "EAData = DataFactory('cryspy.ea_data')\n",
    "EAidData = DataFactory('cryspy.ea_id_data')\n",
    "RSidData = DataFactory('cryspy.rs_id_data')\n"
   ]
  },
  {
   "cell_type": "code",
   "execution_count": null,
   "id": "9d3265f0",
   "metadata": {},
   "outputs": [],
   "source": [
    "pwd = os.getcwd()\n",
    "cryspy_in = Str(os.path.join(pwd, 'cryspy.in0'))\n",
    "inputs = {'cryspy_in': cryspy_in}\n",
    "initialize_WorkChain = WorkflowFactory('cryspy.initial_structures')\n",
    "initial_result = run(initialize_WorkChain, **inputs)\n"
   ]
  },
  {
   "cell_type": "code",
   "execution_count": null,
   "id": "0b8cee99",
   "metadata": {},
   "outputs": [],
   "source": [
    "initial_result\n"
   ]
  },
  {
   "cell_type": "markdown",
   "id": "e4f99a17",
   "metadata": {},
   "source": [
    "# output data\n",
    "\n",
    "- initial_structures: initial structures generated randomly.\n",
    "- rslt_data: empty dataframe \n",
    "- id_data: data for job queueing\n",
    "- stat: configparser data\n",
    "- cryspy_in: rin data (Many are duplicated to the content in stat.)\n",
    "\n",
    "cryspy_in will be deleted in future."
   ]
  },
  {
   "cell_type": "code",
   "execution_count": null,
   "id": "628370c5",
   "metadata": {},
   "outputs": [],
   "source": [
    "initial_structures_node = initial_result[\"initial_structures\"]\n",
    "rslt_data_node = initial_result[\"rslt_data\"]\n",
    "id_data_node = initial_result[\"id_data\"]\n",
    "cryspy_in_node = initial_result[\"cryspy_in\"]"
   ]
  },
  {
   "cell_type": "code",
   "execution_count": null,
   "id": "97cb90f1",
   "metadata": {},
   "outputs": [],
   "source": [
    "# This package will read cryspy.in. But it is copied. \n",
    "import shutil\n",
    "shutil.copy(\"cryspy.in0\", \"cryspy.in\") \n"
   ]
  },
  {
   "cell_type": "markdown",
   "id": "967275b5",
   "metadata": {},
   "source": [
    "# "
   ]
  },
  {
   "cell_type": "markdown",
   "id": "e78ce319",
   "metadata": {},
   "source": [
    "# select structures to optimize\n",
    "\n",
    "It selects all in RS.\n",
    "It selects some of them in the other algorithms.\n"
   ]
  },
  {
   "cell_type": "code",
   "execution_count": null,
   "id": "9705f5de",
   "metadata": {},
   "outputs": [],
   "source": [
    "inputs = {\"id_data\":  id_data_node, \"initial_structures\":initial_structures_node }\n",
    "\n",
    "select_structure_to_run_WorkChain = WorkflowFactory('cryspy.select_structures')\n",
    "select_structure_result = run(select_structure_to_run_WorkChain, **inputs)\n",
    "select_structure_result"
   ]
  },
  {
   "cell_type": "code",
   "execution_count": null,
   "id": "47a04d5f",
   "metadata": {},
   "outputs": [],
   "source": [
    "work_path_node = select_structure_result[\"work_path\"]\n",
    "structures_to_optimize_node = select_structure_result[\"selected_structures\"]\n",
    "id_node = select_structure_result[\"id_data\"]"
   ]
  },
  {
   "cell_type": "markdown",
   "id": "4ad5e1d8",
   "metadata": {},
   "source": [
    "\n",
    "queues and running jobs are controlled by AiiDA.\n",
    "Thus, the queues in id_nodes are cleared. \n",
    "\n",
    "The structures in structures_to_optimize_node\n",
    "will be optimized in work_path_node.\n",
    "\n",
    "keys in dict can be integer, but Dict in AiiDA doesn't accept integer key.\n",
    "Thus, the keys in work_path_node is string."
   ]
  },
  {
   "cell_type": "code",
   "execution_count": null,
   "id": "79fcd180",
   "metadata": {},
   "outputs": [],
   "source": [
    "print(\"structures to opimize\")\n",
    "print(structures_to_optimize_node.structurecollection.keys())\n",
    "print(work_path_node.get_dict().keys())"
   ]
  },
  {
   "cell_type": "code",
   "execution_count": null,
   "id": "647a9937",
   "metadata": {},
   "outputs": [],
   "source": [
    "# id_node is cleared.\n",
    "print(\"id_node\")\n",
    "print(id_node.rs_id_data)"
   ]
  },
  {
   "cell_type": "code",
   "execution_count": null,
   "id": "7ce5f982",
   "metadata": {},
   "outputs": [],
   "source": [
    "# define or load lammps.optimize code.\n",
    "\n",
    "computer_local = 'localhost'\n",
    "code_lammps_opt = get_or_create_code('lammps.optimize',\n",
    "                                     computer_local, 'lammps')\n",
    "meta_options = {\n",
    "    \"resources\": {\n",
    "        \"num_machines\": 1,\n",
    "        \"num_mpiprocs_per_machine\": 4}\n",
    "}\n",
    "code_lammps_opt.label\n"
   ]
  },
  {
   "cell_type": "code",
   "execution_count": null,
   "id": "41f4954d",
   "metadata": {},
   "outputs": [],
   "source": [
    "# define lammps potentials\n",
    "pair_style = 'tersoff'\n",
    "potential_dict = {\n",
    "    'Ga Ga Ga': '1.0 0.007874 1.846 1.918000 0.75000 -0.301300 1.0 1.0 1.44970 410.132 2.87 0.15 1.60916 535.199',\n",
    "    'N  N  N': '1.0 0.766120 0.000 0.178493 0.20172 -0.045238 1.0 1.0 2.38426 423.769 2.20 0.20 3.55779 1044.77',\n",
    "    'Ga Ga N': '1.0 0.001632 0.000 65.20700 2.82100 -0.518000 1.0 0.0 0.00000 0.00000 2.90 0.20 0.00000 0.00000',\n",
    "    'Ga N  N': '1.0 0.001632 0.000 65.20700 2.82100 -0.518000 1.0 1.0 2.63906 3864.27 2.90 0.20 2.93516 6136.44',\n",
    "    'N  Ga Ga': '1.0 0.001632 0.000 65.20700 2.82100 -0.518000 1.0 1.0 2.63906 3864.27 2.90 0.20 2.93516 6136.44',\n",
    "    'N  Ga N ': '1.0 0.766120 0.000 0.178493 0.20172 -0.045238 1.0 0.0 0.00000 0.00000 2.20 0.20 0.00000 0.00000',\n",
    "    'N  N  Ga': '1.0 0.001632 0.000 65.20700 2.82100 -0.518000 1.0 0.0 0.00000 0.00000 2.90 0.20 0.00000 0.00000',\n",
    "    'Ga N  Ga': '1.0 0.007874 1.846 1.918000 0.75000 -0.301300 1.0 0.0 0.00000 0.00000 2.87 0.15 0.00000 0.00000'}\n",
    "potential = DataFactory(\"lammps.potential\")(\n",
    "    type=pair_style, data=potential_dict\n",
    ")\n",
    "potential.attributes\n"
   ]
  },
  {
   "cell_type": "code",
   "execution_count": null,
   "id": "e68db394",
   "metadata": {},
   "outputs": [],
   "source": [
    "# lammps.optimize parameters\n",
    "parameters = DataFactory('dict')(dict={\n",
    "    'lammps_version': lammps_version(),\n",
    "    'output_variables': [\"temp\", \"etotal\", \"pe\", \"ke\" , \n",
    "                         \"pxx\", \"pyy\", \"pzz\", \"pxy\", \"pxz\", \"pyz\"],\n",
    "    'thermo_keywords': [\"pxx\", \"pyy\", \"pzz\", \"pxy\", \"pxz\", \"pyz\"],\n",
    "    'units': 'metal',\n",
    "    'relax': {\n",
    "        'type': 'aniso',\n",
    "        'pressure': 0.0,\n",
    "        'vmax': 0.005,\n",
    "    },\n",
    "    \"minimize\": {\n",
    "        'style': 'cg',\n",
    "        'energy_tolerance': 1.0e-5,\n",
    "        'force_tolerance': 1.0e-3,\n",
    "        'max_iterations': 1000,\n",
    "        'max_evaluations': 10000\n",
    "        }\n",
    "})\n"
   ]
  },
  {
   "cell_type": "markdown",
   "id": "088db646",
   "metadata": {},
   "source": [
    "All the structures will be optimized."
   ]
  },
  {
   "cell_type": "code",
   "execution_count": null,
   "id": "5cc88dee",
   "metadata": {},
   "outputs": [],
   "source": [
    "if len(structures_to_optimize_node.structurecollection.keys())>0 and len(work_path_node.get_dict())>0:\n",
    "    inputs = {'code_string': Str(code_lammps_opt.label),\n",
    "             \"initial_structures\": structures_to_optimize_node, \n",
    "             \"cwd\": work_path_node,\n",
    "             \"potential\": potential,\n",
    "             \"parameters\": parameters}\n",
    "    optimization_simulator_lammps_WorkChain = WorkflowFactory('cryspy.optimize_structures_lammps')\n",
    "    optimize_result, node = run_get_node(optimization_simulator_lammps_WorkChain, **inputs)\n",
    "    "
   ]
  },
  {
   "cell_type": "code",
   "execution_count": null,
   "id": "baca07bb",
   "metadata": {},
   "outputs": [],
   "source": [
    "optimize_result\n"
   ]
  },
  {
   "cell_type": "markdown",
   "id": "1699ee5c",
   "metadata": {},
   "source": [
    "# outputs"
   ]
  },
  {
   "cell_type": "code",
   "execution_count": null,
   "id": "617cb47c",
   "metadata": {},
   "outputs": [],
   "source": [
    "# index and total energies.\n",
    "print(optimize_result[\"results\"].get_dict())\n"
   ]
  },
  {
   "cell_type": "code",
   "execution_count": null,
   "id": "f4a6a084",
   "metadata": {},
   "outputs": [],
   "source": [
    "# final_structures\n",
    "# Its format is {0: pymatgen.core.Structure, 1: pymatgen.core.Structure, ...}\n",
    "all_optimized_structures_node = optimize_result[\"final_structures\"]\n",
    "print(all_optimized_structures_node.structurecollection.keys())\n",
    "print(\"\\n0th structure\\n\")\n",
    "print(all_optimized_structures_node.structurecollection[0])\n"
   ]
  },
  {
   "cell_type": "markdown",
   "id": "741004d6",
   "metadata": {},
   "source": [
    "# summary"
   ]
  },
  {
   "cell_type": "code",
   "execution_count": null,
   "id": "abc354a4",
   "metadata": {},
   "outputs": [],
   "source": [
    "# optの対称性の登録\n",
    "from aiida_cryspy.common import generate_rlst\n",
    "\n",
    "rslt_data_node_new = generate_rlst(initial_structures_node, all_optimized_structures_node, \n",
    "                              optimize_result[\"results\"], \n",
    "                              id_node, rslt_data_node, cryspy_in_node)\n",
    "\n",
    "# rslt for new EA\n",
    "rslt_data_node_new.df\n"
   ]
  },
  {
   "cell_type": "code",
   "execution_count": null,
   "id": "afc05a78",
   "metadata": {},
   "outputs": [],
   "source": [
    "print(\"done all for RS\")\n"
   ]
  },
  {
   "cell_type": "code",
   "execution_count": null,
   "id": "d5ac1f9e",
   "metadata": {},
   "outputs": [],
   "source": []
  },
  {
   "cell_type": "code",
   "execution_count": null,
   "id": "ce12df50",
   "metadata": {},
   "outputs": [],
   "source": []
  }
 ],
 "metadata": {
  "kernelspec": {
   "display_name": "py39",
   "language": "python",
   "name": "py39"
  },
  "language_info": {
   "codemirror_mode": {
    "name": "ipython",
    "version": 3
   },
   "file_extension": ".py",
   "mimetype": "text/x-python",
   "name": "python",
   "nbconvert_exporter": "python",
   "pygments_lexer": "ipython3",
   "version": "3.7.13"
  }
 },
 "nbformat": 4,
 "nbformat_minor": 5
}
