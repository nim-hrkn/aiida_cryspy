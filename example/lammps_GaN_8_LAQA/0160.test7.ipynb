{
 "cells": [
  {
   "cell_type": "markdown",
   "id": "0afd7a90",
   "metadata": {},
   "source": [
    "Please read explanation in the RS first.\n",
    "The common things are explained in the RS file."
   ]
  },
  {
   "cell_type": "code",
   "execution_count": null,
   "id": "4021e8d0",
   "metadata": {},
   "outputs": [],
   "source": [
    "#!/usr/bin/env python3\n",
    "'''\n",
    "Main script\n",
    "'''\n",
    "\n",
    "import os\n",
    "from pymatgen.io.vasp.inputs import Poscar\n",
    "from pymatgen.core import Structure\n",
    "\n",
    "from CrySPY.interface import select_code\n",
    "from CrySPY.job.ctrl_job import Ctrl_job\n",
    "from CrySPY.IO import read_input as rin\n",
    "from CrySPY.start import cryspy_init, cryspy_restart\n",
    "\n",
    "from aiida_lammps.tests.utils import (\n",
    "    get_or_create_local_computer, get_or_create_code)\n",
    "from aiida_lammps.tests.utils import lammps_version\n",
    "\n",
    "from aiida.engine import run_get_node, run, submit\n",
    "from aiida.plugins import DataFactory, WorkflowFactory\n",
    "import numpy as np\n",
    "from aiida.orm import Code\n",
    "from aiida.orm import Str, Dict, Int, List, Float\n",
    "from aiida.engine import calcfunction, WorkChain, append_\n",
    "from aiida.plugins import DataFactory\n",
    "from itertools import cycle\n",
    "import os\n",
    "import io\n",
    "from configparser import ConfigParser\n",
    "\n",
    "from CrySPY.gen_struc.random.gen_pyxtal import Rnd_struc_gen_pyxtal\n"
   ]
  },
  {
   "cell_type": "code",
   "execution_count": null,
   "id": "3e4b6ea7",
   "metadata": {},
   "outputs": [],
   "source": [
    "import aiida\n",
    "aiida.load_profile()\n"
   ]
  },
  {
   "cell_type": "code",
   "execution_count": null,
   "id": "da8044c2",
   "metadata": {},
   "outputs": [],
   "source": [
    "SIMULATOR_PREFIX = 'simulator_'\n",
    "ID_PREFIX = 'ID_'\n"
   ]
  },
  {
   "cell_type": "code",
   "execution_count": null,
   "id": "13a83d52",
   "metadata": {},
   "outputs": [],
   "source": [
    "!pwd"
   ]
  },
  {
   "cell_type": "code",
   "execution_count": null,
   "id": "51f11e3f",
   "metadata": {},
   "outputs": [],
   "source": [
    "import os\n",
    "import numpy as np\n",
    "\n",
    "from aiida.plugins import DataFactory\n",
    "from aiida.orm import Code\n",
    "from aiida.orm import Str, Dict, List, Int\n",
    "from aiida.engine import calcfunction, WorkChain\n",
    "\n",
    "# from CrySPY.IO import read_input as rin\n",
    "from pymatgen.io.vasp.inputs import Poscar\n",
    "from pymatgen.core import Structure\n",
    "\n",
    "# load types\n",
    "StructureData = DataFactory('structure')\n",
    "FolderData = DataFactory('folder')\n",
    "SinglefileData = DataFactory('singlefile')\n",
    "ArrayData = DataFactory('array')\n",
    "LammpsPotential = DataFactory('lammps.potential')\n",
    "TrajectoryData = DataFactory('array.trajectory')\n",
    "\n",
    "# PandasFrameData = DataFactory('cryspy.dataframe')\n",
    "PandasFrameData = DataFactory('dataframe.frame')\n",
    "\n",
    "ConfigparserData = DataFactory('cryspy.configparser')\n",
    "StructurecollectionData = DataFactory('cryspy.structurecollection')\n",
    "LAQAData = DataFactory('cryspy.laqa_data')\n",
    "LAQAidData = DataFactory('cryspy.laqa_id_data')\n"
   ]
  },
  {
   "cell_type": "code",
   "execution_count": null,
   "id": "9d3265f0",
   "metadata": {
    "scrolled": false
   },
   "outputs": [],
   "source": [
    "pwd = os.getcwd()\n",
    "cryspy_in = SinglefileData(os.path.join(pwd, 'cryspy.in0'))\n",
    "inputs = {'cryspy_in': cryspy_in}\n",
    "initialize_WorkChain = WorkflowFactory('cryspy.initial_structures')\n",
    "initial_result = run(initialize_WorkChain, **inputs)\n"
   ]
  },
  {
   "cell_type": "code",
   "execution_count": null,
   "id": "0b8cee99",
   "metadata": {},
   "outputs": [],
   "source": [
    "# workflow結果表示\n",
    "initial_result\n"
   ]
  },
  {
   "cell_type": "markdown",
   "id": "8be7e191",
   "metadata": {},
   "source": [
    "In EA, detail_data are used along with id_data. \n",
    "\n",
    "id_data contains queue and running information, but they aren't used in AiiDA.\n"
   ]
  },
  {
   "cell_type": "code",
   "execution_count": null,
   "id": "360979e2",
   "metadata": {},
   "outputs": [],
   "source": [
    "initial_structures_node = initial_result[\"initial_structures\"]\n",
    "rslt_data_node = initial_result[\"rslt_data\"]\n",
    "id_data_node = initial_result[\"id_data\"]\n",
    "detail_data_node = initial_result[\"detail_data\"]\n",
    "stat_node = initial_result[\"stat\"]\n",
    "cryspy_in_node = initial_result[\"cryspy_in\"]\n"
   ]
  },
  {
   "cell_type": "code",
   "execution_count": null,
   "id": "97cb90f1",
   "metadata": {},
   "outputs": [],
   "source": [
    "import shutil\n",
    "# cryspy.inは実行中に書き換えられる。このpackageでは読まれないはずだが念のためにコピーする。\n",
    "shutil.copy(\"cryspy.in0\", \"cryspy.in\")\n"
   ]
  },
  {
   "cell_type": "markdown",
   "id": "967275b5",
   "metadata": {},
   "source": [
    "# "
   ]
  },
  {
   "cell_type": "markdown",
   "id": "e78ce319",
   "metadata": {},
   "source": [
    "# select structures to optimize"
   ]
  },
  {
   "cell_type": "code",
   "execution_count": null,
   "id": "3f17b0a5",
   "metadata": {},
   "outputs": [],
   "source": [
    "id_data_node.laqa_id_data\n"
   ]
  },
  {
   "cell_type": "code",
   "execution_count": null,
   "id": "47a04d5f",
   "metadata": {
    "scrolled": false
   },
   "outputs": [],
   "source": [
    "inputs = {\"id_data\": id_data_node, \"initial_structures\":initial_structures_node }\n",
    "\n",
    "select_structure_to_run_WorkChain = WorkflowFactory('cryspy.select_structures')\n",
    "select_structure_result = run(select_structure_to_run_WorkChain, **inputs)\n",
    "work_path_node = select_structure_result[\"work_path\"]\n",
    "structures_to_optimize_node = select_structure_result[\"selected_structures\"]\n"
   ]
  },
  {
   "cell_type": "code",
   "execution_count": null,
   "id": "08efaaad",
   "metadata": {},
   "outputs": [],
   "source": [
    "work_path_node = select_structure_result[\"work_path\"]\n",
    "structures_to_optimize_node = select_structure_result[\"selected_structures\"]\n",
    "id_node = select_structure_result[\"id_data\"]"
   ]
  },
  {
   "cell_type": "code",
   "execution_count": null,
   "id": "7ce5f982",
   "metadata": {},
   "outputs": [],
   "source": [
    "# lammps code setup\n",
    "computer_local = 'localhost'\n",
    "code_lammps_opt = get_or_create_code('lammps.optimize',\n",
    "                                     computer_local, 'lammps')\n",
    "meta_options = {\n",
    "    \"resources\": {\n",
    "        \"num_machines\": 1,\n",
    "        \"num_mpiprocs_per_machine\": 4}\n",
    "}\n",
    "code_lammps_opt.label\n"
   ]
  },
  {
   "cell_type": "code",
   "execution_count": null,
   "id": "41f4954d",
   "metadata": {},
   "outputs": [],
   "source": [
    "# lammps potentials\n",
    "pair_style = 'tersoff'\n",
    "potential_dict = {\n",
    "    'Ga Ga Ga': '1.0 0.007874 1.846 1.918000 0.75000 -0.301300 1.0 1.0 1.44970 410.132 2.87 0.15 1.60916 535.199',\n",
    "    'N  N  N': '1.0 0.766120 0.000 0.178493 0.20172 -0.045238 1.0 1.0 2.38426 423.769 2.20 0.20 3.55779 1044.77',\n",
    "    'Ga Ga N': '1.0 0.001632 0.000 65.20700 2.82100 -0.518000 1.0 0.0 0.00000 0.00000 2.90 0.20 0.00000 0.00000',\n",
    "    'Ga N  N': '1.0 0.001632 0.000 65.20700 2.82100 -0.518000 1.0 1.0 2.63906 3864.27 2.90 0.20 2.93516 6136.44',\n",
    "    'N  Ga Ga': '1.0 0.001632 0.000 65.20700 2.82100 -0.518000 1.0 1.0 2.63906 3864.27 2.90 0.20 2.93516 6136.44',\n",
    "    'N  Ga N ': '1.0 0.766120 0.000 0.178493 0.20172 -0.045238 1.0 0.0 0.00000 0.00000 2.20 0.20 0.00000 0.00000',\n",
    "    'N  N  Ga': '1.0 0.001632 0.000 65.20700 2.82100 -0.518000 1.0 0.0 0.00000 0.00000 2.90 0.20 0.00000 0.00000',\n",
    "    'Ga N  Ga': '1.0 0.007874 1.846 1.918000 0.75000 -0.301300 1.0 0.0 0.00000 0.00000 2.87 0.15 0.00000 0.00000'}\n",
    "potential = DataFactory(\"lammps.potential\")(\n",
    "    type=pair_style, data=potential_dict\n",
    ")\n",
    "potential.attributes\n"
   ]
  },
  {
   "cell_type": "code",
   "execution_count": null,
   "id": "e68db394",
   "metadata": {},
   "outputs": [],
   "source": [
    "# lammps.optimize parameters\n",
    "parameters = DataFactory('dict')(dict={\n",
    "    'lammps_version': lammps_version(),\n",
    "    'output_variables': [\"temp\", \"etotal\", \"pe\", \"ke\"],\n",
    "    'thermo_keywords': [],\n",
    "    'units': 'metal',\n",
    "    'relax': {\n",
    "        'type': 'aniso',\n",
    "        'pressure': 0.0,\n",
    "        'vmax': 0.005,\n",
    "    },\n",
    "    \"minimize\": {\n",
    "        'style': 'cg',\n",
    "        'energy_tolerance': 1.0e-5,\n",
    "        'force_tolerance': 1.0e-3,\n",
    "        'max_iterations': 1000,\n",
    "        'max_evaluations': 10000\n",
    "        }\n",
    "})\n"
   ]
  },
  {
   "cell_type": "code",
   "execution_count": null,
   "id": "90db72c2",
   "metadata": {},
   "outputs": [],
   "source": [
    "# lammps.optimize parameters\n",
    "parameters = DataFactory('dict')(dict={\n",
    "    'lammps_version': lammps_version(),\n",
    "    'output_variables': [\"temp\", \"etotal\", \"pe\", \"ke\" , \n",
    "                         \"pxx\", \"pyy\", \"pzz\", \"pxy\", \"pxz\", \"pyz\"],\n",
    "    'thermo_keywords': [\"pxx\", \"pyy\", \"pzz\", \"pxy\", \"pxz\", \"pyz\"],\n",
    "    'units': 'metal',\n",
    "    'relax': {\n",
    "        'type': 'aniso',\n",
    "        'pressure': 0.0,\n",
    "        'vmax': 0.005,\n",
    "    },\n",
    "    \"minimize\": {\n",
    "        'style': 'cg',\n",
    "        'energy_tolerance': 1.0e-5,\n",
    "        'force_tolerance': 1.0e-3,\n",
    "        'max_iterations': 5,\n",
    "        'max_evaluations': 10000\n",
    "        }\n",
    "})"
   ]
  },
  {
   "cell_type": "code",
   "execution_count": null,
   "id": "5cc88dee",
   "metadata": {
    "scrolled": true
   },
   "outputs": [],
   "source": [
    "if len(structures_to_optimize_node.structurecollection.keys())>0 and len(work_path_node.get_dict())>0:\n",
    "    inputs = {'code_string': Str(code_lammps_opt.label),\n",
    "             \"initial_structures\": structures_to_optimize_node, \n",
    "             \"cwd\": work_path_node,\n",
    "             \"potential\": potential,\n",
    "             \"parameters\": parameters}\n",
    "    optimization_simulator_lammps_WorkChain = WorkflowFactory('cryspy.optimize_structures_lammps')\n",
    "    optimize_result, node = run_get_node(optimization_simulator_lammps_WorkChain, **inputs)\n",
    "    "
   ]
  },
  {
   "cell_type": "code",
   "execution_count": null,
   "id": "2206ebea",
   "metadata": {},
   "outputs": [],
   "source": [
    "optimize_result\n"
   ]
  },
  {
   "cell_type": "code",
   "execution_count": null,
   "id": "617cb47c",
   "metadata": {},
   "outputs": [],
   "source": [
    "# outputs. results\n",
    "print(optimize_result[\"results\"].get_dict())\n"
   ]
  },
  {
   "cell_type": "code",
   "execution_count": null,
   "id": "430e3e24",
   "metadata": {
    "scrolled": true
   },
   "outputs": [],
   "source": [
    "optimize_result['step_data'].step_data[0]"
   ]
  },
  {
   "cell_type": "code",
   "execution_count": null,
   "id": "f4a6a084",
   "metadata": {},
   "outputs": [],
   "source": [
    "# final structures\n",
    "optimized_structures_node = optimize_result[\"final_structures\"]\n",
    "print(optimized_structures_node.structurecollection.keys())\n",
    "print(\"---\")\n",
    "print(optimized_structures_node.structurecollection[0])\n"
   ]
  },
  {
   "cell_type": "markdown",
   "id": "741004d6",
   "metadata": {},
   "source": [
    "# summary"
   ]
  },
  {
   "cell_type": "code",
   "execution_count": null,
   "id": "94e81755",
   "metadata": {},
   "outputs": [],
   "source": [
    "optimize_result[\"results\"].get_dict()"
   ]
  },
  {
   "cell_type": "code",
   "execution_count": null,
   "id": "abc354a4",
   "metadata": {},
   "outputs": [],
   "source": [
    "# optの対称性の登録\n",
    "from aiida_cryspy.common import generate_rlst\n",
    "\n",
    "rslt_data_node = generate_rlst(initial_structures_node, optimized_structures_node, \n",
    "                              optimize_result[\"results\"], \n",
    "                              id_node, rslt_data_node, stat_node)\n",
    "\n",
    "# rslt for new EA\n",
    "rslt_data_node.df\n"
   ]
  },
  {
   "cell_type": "markdown",
   "id": "4def0fa3",
   "metadata": {},
   "source": [
    "Values must be set in  \n",
    "<pre>\n",
    "            (self.tot_step_select, self.laqa_step,\n",
    "             self.laqa_struc, self.laqa_energy,\n",
    "             self.laqa_bias, self.laqa_score) = pkl_data.load_laqa_data()\n",
    "</pre>\n",
    "from rslt_data and step_data."
   ]
  },
  {
   "cell_type": "code",
   "execution_count": null,
   "id": "dd057d5b",
   "metadata": {},
   "outputs": [],
   "source": [
    "step_data_node = optimize_result['step_data']\n",
    "step_data_node\n"
   ]
  },
  {
   "cell_type": "code",
   "execution_count": null,
   "id": "593cc99d",
   "metadata": {},
   "outputs": [],
   "source": [
    "cryspy_in_node.rin.nselect_laqa\n"
   ]
  },
  {
   "cell_type": "code",
   "execution_count": null,
   "id": "cd705535",
   "metadata": {
    "scrolled": false
   },
   "outputs": [],
   "source": [
    "from CrySPY.LAQA.calc_score import calc_laqa_bias\n",
    "import pandas as pd\n",
    "from aiida.engine import WorkChain\n",
    "\n",
    "\n",
    "RinData = DataFactory('cryspy.rin_data')\n",
    "LAQAStepData = DataFactory('cryspy.laqa_step_data')\n",
    "\n",
    "def _calculate_laqa_scores(step_data_node, wf_laqa = 1.0, ws_laqa = 1.0):\n",
    "    \"\"\"calculate LAQA scores.\n",
    "    \n",
    "    calculate -energy + wf_laqa* force_bias + ws_lawa * stress.\n",
    "    \n",
    "    Args:\n",
    "        step_data_node (LAQAStepData): history data of energy, force and stresses.\n",
    "        wf_laqa (float): force factor.\n",
    "        ws_laqa (float): stress factor.\n",
    "    \"\"\"\n",
    "    step_data = step_data_node.step_data\n",
    "    lines = []\n",
    "    for key, each_step_data in step_data.items():\n",
    "        wf_laqa_bias = calc_laqa_bias(each_step_data[\"force\"], wf_laqa)\n",
    "        ws_laqa_bias = np.linalg.norm(each_step_data[\"stress\"][-1])* ws_laqa\n",
    "        energy = each_step_data[\"energy\"][-1]\n",
    "        nstep = len(each_step_data[\"energy\"])\n",
    "        laqa_score = -energy + wf_laqa_bias+ ws_laqa_bias\n",
    "        lines.append([key, energy, wf_laqa_bias, ws_laqa_bias, nstep, laqa_score])\n",
    "    columns = ['ID','energy', 'wf_laqa_bias', 'ws_laqa_bias', 'nstep', 'score']\n",
    "    laqa_df = pd.DataFrame(lines,  columns=columns)\n",
    "    return laqa_df\n",
    "\n",
    "def _extract_laqa_score(laqa_df):\n",
    "    IDs = laqa_df[\"ID\"].astype(int).values.tolist()\n",
    "    scores = laqa_df[\"score\"].astype(float).values.tolist()\n",
    "    laqa_score = {}\n",
    "    for ID,score in zip(IDs,scores):\n",
    "        ID = int(ID)\n",
    "        laqa_score.update({ID: score})\n",
    "\n",
    "    return laqa_score\n",
    "\n",
    "def laqa_next_selection(laqa_score, nselect_laqa):\n",
    "    id_queueing = []\n",
    "    for k, v in sorted(laqa_score.items(), key=lambda x: -x[1]):\n",
    "        print(k,v)\n",
    "        #if v == -float('int'):\n",
    "        #    break\n",
    "        id_queueing.append(k)\n",
    "        if len(id_queueing) >= nselect_laqa:\n",
    "            break\n",
    "    return id_queueing\n",
    "\n",
    "class generatte_laqa_data_WorkChain(WorkChain):\n",
    "\n",
    "    @classmethod\n",
    "    def define(cls, spec):\n",
    "        super().define(spec)\n",
    "        spec.input('cryspy_in', valid_type=RinData, help='parsed cryspy_in content.')\n",
    "        spec.input('step_data', valid_type=LAQAStepData, help='step data.')\n",
    "        spec.outline(cls.generate_laqa_data)\n",
    "        spec.output('laqa_data', valid_type=LAQAData)\n",
    "        spec.output('laqa_summary', valid_type=PandasFrameData)\n",
    "    \n",
    "    def generate_laqa_data(self):\n",
    "        \n",
    "        rin_node = self.inputs.cryspy_in\n",
    "        step_data_node = self.inputs.step_data\n",
    "        \n",
    "        rin = rin_node.rin\n",
    "        laqa_df = _calculate_laqa_scores(step_data_node, rin.wf_laqa, rin.ws_laqa)\n",
    "        df_node = PandasFrameData(df=laqa_df)\n",
    "\n",
    "        laqa_score = _extract_laqa_score(laqa_df)\n",
    "\n",
    "        values = (step_data_node.step_data,laqa_score)\n",
    "        laqa_data_node = LAQAData(values)\n",
    "        laqa_data_node.store()\n",
    "        df_node = PandasFrameData(df=laqa_df)\n",
    "        df_node.store()\n",
    "\n",
    "        self.out('laqa_data', laqa_data_node)\n",
    "        self.out('laqa_summary', df_node)\n",
    "\n",
    "inputs = {'cryspy_in': cryspy_in_node, 'step_data': step_data_node} \n",
    "generate_result = run(generatte_laqa_data_WorkChain, **inputs)"
   ]
  },
  {
   "cell_type": "code",
   "execution_count": null,
   "id": "51e70309",
   "metadata": {},
   "outputs": [],
   "source": [
    "generate_result[\"laqa_summary\"].df"
   ]
  },
  {
   "cell_type": "code",
   "execution_count": null,
   "id": "f5f2b98c",
   "metadata": {},
   "outputs": [],
   "source": [
    "generate_result[\"laqa_data\"].laqa_data"
   ]
  },
  {
   "cell_type": "code",
   "execution_count": null,
   "id": "2215a26a",
   "metadata": {},
   "outputs": [],
   "source": [
    "step_data_node.step_data.keys()"
   ]
  },
  {
   "cell_type": "markdown",
   "id": "aee3ad26",
   "metadata": {},
   "source": [
    "# next_sg\n",
    "\n",
    "It generates new candidates by LAQA.\n"
   ]
  },
  {
   "cell_type": "code",
   "execution_count": null,
   "id": "f484670f",
   "metadata": {},
   "outputs": [],
   "source": [
    "from aiida.engine import WorkChain, calcfunction\n",
    "from aiida.plugins import DataFactory\n",
    "from CrySPY.BO.select_descriptor import select_descriptor\n",
    "from CrySPY.job.ctrl_job import Ctrl_job\n",
    "from CrySPY.LAQA.calc_score import calc_laqa_bias\n",
    "\n",
    "PandasFrameData = DataFactory('dataframe.frame')\n",
    "StructurecollectionData = DataFactory('cryspy.structurecollection')\n",
    "\n",
    "EAData = DataFactory('cryspy.ea_data')\n",
    "BOData = DataFactory('cryspy.bo_data')\n",
    "LAQAData = DataFactory('cryspy.laqa_data')\n",
    "\n",
    "EAidData = DataFactory('cryspy.ea_id_data')\n",
    "BOidData = DataFactory('cryspy.bo_id_data')\n",
    "LAQAidData = DataFactory('cryspy.laqa_id_data')\n",
    "\n",
    "LAQAStepData = DataFactory('cryspy.laqa_step_data')\n",
    "\n",
    "\n",
    "ConfigparserData = DataFactory('cryspy.configparser')\n",
    "RinData = DataFactory('cryspy.rin_data')\n",
    "\n",
    "\n",
    "def _update_bo_data(rin_node, bo_data_node, rslt_data_node, optimized_structures_node):\n",
    "    \"\"\"\n",
    "    update detail_data_node for the optimize structures.\n",
    "\n",
    "    from ctrl_collect_bo.\n",
    "    \"\"\"\n",
    "    rin = rin_node.rin\n",
    "    bo_data = bo_data_node.bo_data\n",
    "    opt_dscrpt_data = {}\n",
    "    for ID in rslt_data_node.df[\"Opt\"].index:\n",
    "        status = rslt_data_node.df[\"Opt\"].loc[ID]\n",
    "        # Must be 'status' used?\n",
    "        opt_struc = optimized_structures_node.structurecollection[ID]\n",
    "        tmp_dscrpt = select_descriptor(rin, {ID: opt_struc})\n",
    "        opt_dscrpt_data.update(tmp_dscrpt)\n",
    "    opt_dscrpt_data.keys()\n",
    "    detail_data_node = BOData((bo_data[0], opt_dscrpt_data, bo_data[3], bo_data[3], bo_data[4]))\n",
    "    return detail_data_node\n",
    "\n",
    "\n",
    "def _calculate_laqa_scores(step_data, wf_laqa=1.0, ws_laqa=1.0):\n",
    "    \"\"\"calculate LAQA scores.\n",
    "\n",
    "    calculate -energy + wf_laqa* force_bias + ws_lawa * stress.\n",
    "\n",
    "    Args:\n",
    "        step_data (dict): history data of energy, force and stresses.\n",
    "        wf_laqa (float): force factor.\n",
    "        ws_laqa (float): stress factor.\n",
    "    \"\"\"\n",
    "    lines = []\n",
    "    for key, each_step_data in step_data.items():\n",
    "        wf_laqa_bias = calc_laqa_bias(each_step_data[\"force\"], wf_laqa)\n",
    "        ws_laqa_bias = np.linalg.norm(each_step_data[\"stress\"][-1]) * ws_laqa\n",
    "        energy = each_step_data[\"energy\"][-1]\n",
    "        nstep = len(each_step_data[\"energy\"])\n",
    "        laqa_score = -energy + wf_laqa_bias + ws_laqa_bias\n",
    "        lines.append([key, energy, wf_laqa_bias, ws_laqa_bias, nstep, laqa_score])\n",
    "    columns = ['ID', 'energy', 'wf_laqa_bias', 'ws_laqa_bias', 'nstep', 'score']\n",
    "    laqa_df = pd.DataFrame(lines,  columns=columns)\n",
    "    return laqa_df\n",
    "\n",
    "\n",
    "def _extract_laqa_score(laqa_df):\n",
    "    IDs = laqa_df[\"ID\"].astype(int).values.tolist()\n",
    "    scores = laqa_df[\"score\"].astype(float).values.tolist()\n",
    "    laqa_score = {}\n",
    "    for ID, score in zip(IDs, scores):\n",
    "        ID = int(ID)\n",
    "        laqa_score.update({ID: score})\n",
    "    return laqa_score\n",
    "\n",
    "\n",
    "def _update_step_data(laqa_data_node, step_data_node):\n",
    "    step_data = laqa_data_node.laqa_data[0]\n",
    "    new_step_data = step_data_node.step_data\n",
    "    for key,value in new_step_data.items():\n",
    "        step_data.update({key: value})\n",
    "    return step_data\n",
    "\n",
    "\n",
    "def _generate_laqa_data(rin_node, laqa_data_node, step_data_node):\n",
    "    rin = rin_node.rin\n",
    "    updated_step_data = _update_step_data(laqa_data_node, step_data_node)\n",
    "    laqa_df = _calculate_laqa_scores(updated_step_data, rin.wf_laqa, rin.ws_laqa)\n",
    "    laqa_score = _extract_laqa_score(laqa_df)\n",
    "    laqa_node = LAQAData((updated_step_data, laqa_score))\n",
    "    df_node = PandasFrameData(df=laqa_df)\n",
    "    return laqa_node, df_node\n",
    "\n",
    "\n",
    "def _laqa_next_selection(laqa_data_node, nselect_laqa):\n",
    "    laqa_score = laqa_data_node.laqa_data[1]\n",
    "    id_queueing = []\n",
    "    for k, v in sorted(laqa_score.items(), key=lambda x: -x[1]):\n",
    "        print(k, v)\n",
    "        # if v == -float('int'):\n",
    "        #    break\n",
    "        id_queueing.append(k)\n",
    "        if len(id_queueing) >= nselect_laqa:\n",
    "            break\n",
    "    return id_queueing\n",
    "\n",
    "\n",
    "class next_sg_WorkChain(WorkChain):\n",
    "    \"\"\"next_sg()\n",
    "\n",
    "    Q. Why are the initial_strucutures as input  necessary?\n",
    "    A. It is to add new structures to the initial_structures.\n",
    "\n",
    "    \"\"\"\n",
    "    @classmethod\n",
    "    def define(cls, spec):\n",
    "        super().define(spec)\n",
    "        spec.input(\"initial_structures\", valid_type=StructurecollectionData, help='initial structures')\n",
    "        spec.input(\"optimized_structures\", valid_type=StructurecollectionData, help='optimized structures')\n",
    "        spec.input(\"rslt_data\", valid_type=PandasFrameData, help='summary data')\n",
    "        spec.input(\"id_data\", valid_type=(EAidData, BOidData, LAQAidData), help='id_data')\n",
    "        spec.input('step_data', valid_type=LAQAStepData, required=False, help='optimization step data')\n",
    "        spec.input(\"detail_data\", valid_type=(EAData, BOData, LAQAData), help='detail_data')\n",
    "        spec.input(\"stat\", valid_type=ConfigparserData, help='cryspy_in content')\n",
    "        spec.input('cryspy_in', valid_type=RinData, help='cryspy_in')\n",
    "\n",
    "        spec.outline(\n",
    "            cls.validate_inputdata,\n",
    "            cls.call_next_sg\n",
    "        )\n",
    "\n",
    "        spec.output('id_data', valid_type=(EAidData, BOidData, LAQAidData))\n",
    "        spec.output('detail_data', valid_type=(EAData, BOData, LAQAData))\n",
    "        spec.output('rslt_data', valid_type=PandasFrameData)\n",
    "        spec.output('initial_structures', valid_type=StructurecollectionData)\n",
    "        spec.output(\"stat\", valid_type=ConfigparserData)\n",
    "        spec.output('cryspy_in', valid_type=RinData)\n",
    "\n",
    "    def validate_inputdata(self):\n",
    "        id_data = self.inputs.id_data\n",
    "        detail_data = self.inputs.detail_data\n",
    "        # both data must be consistent\n",
    "        if isinstance(id_data, EAidData):\n",
    "            algo = \"EA\"\n",
    "        elif isinstance(id_data, BOidData):\n",
    "            algo = \"BO\"\n",
    "        elif isinstance(id_data, LAQAidData):\n",
    "            algo = 'LAQA'\n",
    "        else:\n",
    "            raise TypeError(f'unknown type for id_data. type={type(id_data)}')\n",
    "\n",
    "        if isinstance(detail_data, EAData):\n",
    "            algo_data = \"EA\"\n",
    "        elif isinstance(detail_data, BOData):\n",
    "            algo_data = \"BO\"\n",
    "        elif isinstance(detail_data, LAQAData):\n",
    "            algo_data = \"LAQA\"\n",
    "        else:\n",
    "            raise TypeError(f'unknown type for detail_data. type={type(detail_data)}')\n",
    "\n",
    "        if algo != algo_data:\n",
    "            raise TypeError(f'type(id_data) != type(detail_data), type={type(id_data)}, type={type(detail_data)}')\n",
    "        self.ctx.algo = algo\n",
    "\n",
    "    def call_next_sg(self):\n",
    "\n",
    "        initial_structures = self.inputs.initial_structures.structurecollection\n",
    "        opt_struc = self.inputs.optimized_structures.structurecollection\n",
    "        rslt_data = self.inputs.rslt_data.df\n",
    "        algo = self.ctx.algo\n",
    "\n",
    "        id_data = self.inputs.id_data\n",
    "        if isinstance(id_data, EAidData):\n",
    "            algo = 'EA'\n",
    "            id_data = id_data.ea_id_data\n",
    "        elif isinstance(id_data, BOidData):\n",
    "            algo = \"BO\"\n",
    "            id_data = id_data.bo_id_data\n",
    "        elif isinstance(id_data, LAQAidData):\n",
    "            algo = 'LAQA'\n",
    "            id_data = id_data.laqa_id_data\n",
    "        # the other types are added.\n",
    "        else:\n",
    "            raise TypeError(f'internal error: unknown type for id_data, type={type(id_data)}')\n",
    "\n",
    "        if algo == \"EA\":\n",
    "            detail_data = self.inputs.detail_data.ea_data\n",
    "        # algo==\"RS\" doesn't come to this function.\n",
    "        elif algo == \"BO\":\n",
    "            detail_data_node = _update_bo_data(self.inputs.cryspy_in,\n",
    "                                               self.inputs.detail_data,\n",
    "                                               self.inputs.rslt_data,\n",
    "                                               self.inputs.optimized_structures)\n",
    "            detail_data = detail_data_node.bo_data\n",
    "        elif algo == 'LAQA':\n",
    "            step_data_node = self.inputs.step_data\n",
    "            detail_data_node = self.inputs.detail_data\n",
    "            detail_data_node, df_laqa_score = _generate_laqa_data(self.inputs.cryspy_in, detail_data_node, step_data_node)\n",
    "            detail_data_node.store()\n",
    "            # df_laqa_score.store()\n",
    "        else:\n",
    "            raise TypeError(f'internal error: unknown type for id_data, type={type(id_data)}')\n",
    "\n",
    "        rin = self.inputs.cryspy_in.rin\n",
    "        stat = self.inputs.stat.configparser\n",
    "\n",
    "        if algo == \"BO\":\n",
    "            # BO doesn't increase structures.\n",
    "            jobs = Ctrl_job(rin, stat, initial_structures,\n",
    "                            opt_struc,\n",
    "                            rslt_data, id_data, detail_data\n",
    "                            )\n",
    "            rin, stat, _, id_data, detail_data, rslt_data = jobs.next_sg()\n",
    "            id_data_node = BOidData(id_data)\n",
    "            id_data_node.store()\n",
    "            detail_data_node = BOData(detail_data)\n",
    "            detail_data_node.store()\n",
    "            struc_node = self.inputs.initial_structures  # the same node\n",
    "        elif algo == \"EA\":\n",
    "            jobs = Ctrl_job(rin, stat, initial_structures,\n",
    "                            opt_struc,\n",
    "                            rslt_data, id_data, detail_data\n",
    "                            )\n",
    "            rin, stat, init_struc_data, id_data, detail_data, rslt_data = jobs.next_sg()\n",
    "            id_data_node = EAidData(id_data)\n",
    "            id_data_node.store()\n",
    "            detail_data_node = EAData(detail_data)\n",
    "            detail_data_node.store()\n",
    "            struc_node = StructurecollectionData(init_struc_data)\n",
    "            struc_node.store()\n",
    "        elif algo == 'LAQA':\n",
    "            id_queueing = _laqa_next_selection(detail_data_node, rin.nselect_laqa)\n",
    "            id_data_node = LAQAidData((id_queueing, [], []))\n",
    "            id_data_node.store()\n",
    "            struc_node = self.inputs.optimized_structures\n",
    "\n",
    "        rslt_data_node = PandasFrameData(rslt_data)\n",
    "        rslt_data_node.store()\n",
    "\n",
    "        stat_node = ConfigparserData(stat)\n",
    "        stat_node.store()\n",
    "\n",
    "        rin_node = RinData(rin)\n",
    "        rin_node.store()\n",
    "\n",
    "        self.out(\"id_data\", id_data_node)\n",
    "        self.out(\"detail_data\", detail_data_node)\n",
    "        self.out(\"rslt_data\", rslt_data_node)\n",
    "        self.out('initial_structures', struc_node)\n",
    "        self.out('stat', stat_node)\n",
    "        self.out('cryspy_in', rin_node)\n"
   ]
  },
  {
   "cell_type": "code",
   "execution_count": null,
   "id": "fe428009",
   "metadata": {
    "scrolled": false
   },
   "outputs": [],
   "source": [
    "inputs = {'initial_structures': initial_structures_node,\n",
    "         'optimized_structures': optimized_structures_node,\n",
    "          'rslt_data': rslt_data_node,\n",
    "          'id_data': id_node,\n",
    "          'detail_data': detail_data_node,\n",
    "          'step_data': step_data_node, \n",
    "         'stat': stat_node,\n",
    "         'cryspy_in': cryspy_in_node}\n",
    "# next_sg_WorkChain = WorkflowFactory('cryspy.next_sg')\n",
    "next_sg_results = run(next_sg_WorkChain, **inputs)\n"
   ]
  },
  {
   "cell_type": "code",
   "execution_count": null,
   "id": "a6fe2a4a",
   "metadata": {},
   "outputs": [],
   "source": [
    "next_sg_results\n"
   ]
  },
  {
   "cell_type": "code",
   "execution_count": null,
   "id": "081deb0b",
   "metadata": {},
   "outputs": [],
   "source": [
    "initial_structures_node = next_sg_results[\"initial_structures\"]\n",
    "cryspy_in_node = next_sg_results[\"cryspy_in\"]\n",
    "stat_node = next_sg_results[\"stat\"]\n",
    "id_node = next_sg_results[\"id_data\"]\n",
    "detail_data_node = next_sg_results[\"detail_data\"]\n",
    "rslt_data = next_sg_results[\"rslt_data\"]\n"
   ]
  },
  {
   "cell_type": "code",
   "execution_count": null,
   "id": "4c1d542a",
   "metadata": {},
   "outputs": [],
   "source": [
    "rslt_data.df.sort_values(by=\"E_eV_atom\")\n"
   ]
  },
  {
   "cell_type": "code",
   "execution_count": null,
   "id": "ce714077",
   "metadata": {},
   "outputs": [],
   "source": [
    "id_node.laqa_id_data, initial_structures_node.structurecollection"
   ]
  },
  {
   "cell_type": "code",
   "execution_count": null,
   "id": "ec377dab",
   "metadata": {},
   "outputs": [],
   "source": [
    "detail_data_node.laqa_data[0].keys()"
   ]
  },
  {
   "cell_type": "markdown",
   "id": "03586bb3",
   "metadata": {},
   "source": [
    "# next structure  optimization"
   ]
  },
  {
   "cell_type": "code",
   "execution_count": null,
   "id": "6355a221",
   "metadata": {},
   "outputs": [],
   "source": [
    "# The next step select IDs in id_node.ea_id_data[1] from initial_structures_node.structurecollection\n",
    "print(initial_structures_node.structurecollection.keys())\n",
    "print(id_node.laqa_id_data)\n"
   ]
  },
  {
   "cell_type": "code",
   "execution_count": null,
   "id": "45e82f2a",
   "metadata": {},
   "outputs": [],
   "source": [
    "inputs = {\"id_data\":  id_node, \"initial_structures\": initial_structures_node }\n",
    "select_structure_result = run(select_structure_to_run_WorkChain, **inputs)\n"
   ]
  },
  {
   "cell_type": "code",
   "execution_count": null,
   "id": "bdbf4b8d",
   "metadata": {},
   "outputs": [],
   "source": [
    "work_path_node = select_structure_result[\"work_path\"]\n",
    "structures_to_optimize_node = select_structure_result[\"selected_structures\"]\n",
    "print(work_path_node.get_dict().keys(),  structures_to_optimize_node.get_dict().keys())\n"
   ]
  },
  {
   "cell_type": "code",
   "execution_count": null,
   "id": "6fd3caeb",
   "metadata": {},
   "outputs": [],
   "source": [
    "if len(structures_to_optimize_node.structurecollection.keys())>0 and len(work_path_node.get_dict())>0:\n",
    "    inputs = {'code_string': Str(code_lammps_opt.label),\n",
    "             \"initial_structures\": structures_to_optimize_node, \n",
    "             \"cwd\": work_path_node,\n",
    "             \"potential\": potential,\n",
    "             \"parameters\": parameters}\n",
    "    optimization_simulator_lammps_WorkChain = WorkflowFactory('cryspy.optimize_structures_lammps')\n",
    "    optimize_result, node = run_get_node(optimization_simulator_lammps_WorkChain, **inputs)\n"
   ]
  },
  {
   "cell_type": "code",
   "execution_count": null,
   "id": "1c6a932c",
   "metadata": {},
   "outputs": [],
   "source": [
    "optimize_result"
   ]
  },
  {
   "cell_type": "code",
   "execution_count": null,
   "id": "468884d0",
   "metadata": {},
   "outputs": [],
   "source": [
    "print(optimize_result[\"results\"].get_dict())"
   ]
  },
  {
   "cell_type": "code",
   "execution_count": null,
   "id": "ba5dcf41",
   "metadata": {},
   "outputs": [],
   "source": [
    "# merge data to optimized_structures_node\n",
    "print(optimized_structures_node.structurecollection.keys())\n",
    "print(optimize_result[\"final_structures\"].structurecollection.keys())"
   ]
  },
  {
   "cell_type": "code",
   "execution_count": null,
   "id": "e67cd317",
   "metadata": {},
   "outputs": [],
   "source": [
    "from aiida_cryspy.common import merge_structurecollection\n",
    "optimized_structures_node = merge_structurecollection(optimized_structures_node, \n",
    "                                                          optimize_result[\"final_structures\"])\n",
    "print(\"merged optimized_structures_node\",\n",
    "optimized_structures_node.structurecollection.keys())"
   ]
  },
  {
   "cell_type": "code",
   "execution_count": null,
   "id": "c15e8109",
   "metadata": {},
   "outputs": [],
   "source": [
    "id_node = next_sg_results[\"id_data\"]\n",
    "initial_structures_node = next_sg_results[\"initial_structures\"]\n",
    "print(initial_structures_node.structurecollection.keys())\n",
    "print(optimized_structures_node.structurecollection.keys())"
   ]
  },
  {
   "cell_type": "code",
   "execution_count": null,
   "id": "5622b5a8",
   "metadata": {},
   "outputs": [],
   "source": [
    "rslt_data_node = generate_rlst(initial_structures_node, optimized_structures_node, \n",
    "                              optimize_result[\"results\"], \n",
    "                              id_node, rslt_data_node, stat_node)\n",
    "rslt_data_node.df.sort_values(by=\"E_eV_atom\")"
   ]
  },
  {
   "cell_type": "markdown",
   "id": "fe2878d3",
   "metadata": {},
   "source": [
    "# next_sg"
   ]
  },
  {
   "cell_type": "code",
   "execution_count": null,
   "id": "3bfaa2d3",
   "metadata": {},
   "outputs": [],
   "source": [
    "step_data_node = optimize_result['step_data']\n"
   ]
  },
  {
   "cell_type": "code",
   "execution_count": null,
   "id": "4528f739",
   "metadata": {
    "scrolled": false
   },
   "outputs": [],
   "source": [
    "inputs = {'initial_structures': initial_structures_node,\n",
    "         'optimized_structures': optimized_structures_node,\n",
    "          'rslt_data': rslt_data_node,\n",
    "          'id_data': id_data_node,\n",
    "          'detail_data': detail_data_node,\n",
    "          'step_data': step_data_node, \n",
    "         'stat': stat_node, 'cryspy_in': cryspy_in_node}\n",
    "\n",
    "# next_sg_WorkChain = WorkflowFactory('cryspy.next_sg')\n",
    "next_sg_results = run(next_sg_WorkChain, **inputs)\n"
   ]
  },
  {
   "cell_type": "code",
   "execution_count": null,
   "id": "085b7986",
   "metadata": {},
   "outputs": [],
   "source": [
    "next_sg_results\n"
   ]
  },
  {
   "cell_type": "code",
   "execution_count": null,
   "id": "86021c10",
   "metadata": {},
   "outputs": [],
   "source": [
    "initial_structures_node = next_sg_results[\"initial_structures\"]\n",
    "cryspy_in_node = next_sg_results[\"cryspy_in\"]\n",
    "stat_node = next_sg_results[\"stat\"]\n",
    "id_node = next_sg_results[\"id_data\"]\n",
    "detail_data_node = next_sg_results[\"detail_data\"]\n",
    "rslt_data = next_sg_results[\"rslt_data\"]\n"
   ]
  },
  {
   "cell_type": "markdown",
   "id": "17918fef",
   "metadata": {},
   "source": [
    "# structure optimization "
   ]
  },
  {
   "cell_type": "code",
   "execution_count": null,
   "id": "245123fb",
   "metadata": {},
   "outputs": [],
   "source": [
    "inputs = {\"id_data\":  id_node, \"initial_structures\": initial_structures_node }\n",
    "\n",
    "select_structure_result = run(select_structure_to_run_WorkChain, **inputs)\n",
    "work_path_node = select_structure_result[\"work_path\"]\n",
    "structures_to_optimize_node = select_structure_result[\"selected_structures\"]\n"
   ]
  },
  {
   "cell_type": "code",
   "execution_count": null,
   "id": "94827b44",
   "metadata": {},
   "outputs": [],
   "source": [
    "if len(structures_to_optimize_node.structurecollection.keys())>0 and len(work_path_node.get_dict())>0:\n",
    "    inputs = {'code_string': Str(code_lammps_opt.label),\n",
    "             \"initial_structures\": structures_to_optimize_node, \n",
    "             \"cwd\": work_path_node,\n",
    "             \"potential\": potential,\n",
    "             \"parameters\": parameters}\n",
    "    optimization_simulator_lammps_WorkChain = WorkflowFactory('cryspy.optimize_structures_lammps')\n",
    "    optimize_result, node = run_get_node(optimization_simulator_lammps_WorkChain, **inputs)\n",
    "    # finish_job(jobs)\n",
    "    "
   ]
  },
  {
   "cell_type": "code",
   "execution_count": null,
   "id": "ffc5fca3",
   "metadata": {},
   "outputs": [],
   "source": [
    "optimize_result"
   ]
  },
  {
   "cell_type": "code",
   "execution_count": null,
   "id": "0fe28848",
   "metadata": {},
   "outputs": [],
   "source": [
    "id_node = next_sg_results[\"id_data\"]\n",
    "all_initial_structures_node = next_sg_results[\"initial_structures\"]\n",
    "optimized_structures_node = merge_structurecollection(optimized_structures_node, \n",
    "                                                      optimize_result[\"final_structures\"])\n",
    "print(\"all the optimized structures\")\n",
    "print(optimized_structures_node.structurecollection.keys())\n"
   ]
  },
  {
   "cell_type": "code",
   "execution_count": null,
   "id": "c93aa931",
   "metadata": {},
   "outputs": [],
   "source": [
    "rslt_data_node = generate_rlst(initial_structures_node, optimized_structures_node, \n",
    "                              optimize_result[\"results\"], \n",
    "                              id_node, rslt_data_node, stat_node)\n",
    "print(rslt_data_node.df.shape)\n",
    "rslt_data_node.df.sort_values(by=\"E_eV_atom\").head(50)"
   ]
  },
  {
   "cell_type": "code",
   "execution_count": null,
   "id": "9008f454",
   "metadata": {},
   "outputs": [],
   "source": [
    "!verdi node graph generate $rslt_data_node.pk\n",
    "# The resulting image is too big to show in jupyter."
   ]
  },
  {
   "cell_type": "code",
   "execution_count": null,
   "id": "ce12df50",
   "metadata": {},
   "outputs": [],
   "source": []
  },
  {
   "cell_type": "code",
   "execution_count": null,
   "id": "fa5cdfa8",
   "metadata": {},
   "outputs": [],
   "source": []
  }
 ],
 "metadata": {
  "kernelspec": {
   "display_name": "py39",
   "language": "python",
   "name": "py39"
  },
  "language_info": {
   "codemirror_mode": {
    "name": "ipython",
    "version": 3
   },
   "file_extension": ".py",
   "mimetype": "text/x-python",
   "name": "python",
   "nbconvert_exporter": "python",
   "pygments_lexer": "ipython3",
   "version": "3.7.13"
  }
 },
 "nbformat": 4,
 "nbformat_minor": 5
}
