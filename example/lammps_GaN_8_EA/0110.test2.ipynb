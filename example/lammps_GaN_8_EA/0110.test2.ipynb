{
 "cells": [
  {
   "cell_type": "code",
   "execution_count": null,
   "id": "4021e8d0",
   "metadata": {},
   "outputs": [],
   "source": [
    "#!/usr/bin/env python3\n",
    "'''\n",
    "Main script\n",
    "'''\n",
    "\n",
    "import os\n",
    "from pymatgen.io.vasp.inputs import Poscar\n",
    "\n",
    "from CrySPY.interface import select_code\n",
    "from CrySPY.job.ctrl_job import Ctrl_job\n",
    "from CrySPY.IO import read_input as rin\n",
    "from CrySPY.start import cryspy_init, cryspy_restart\n",
    "\n",
    "from aiida_lammps.tests.utils import (\n",
    "    get_or_create_local_computer, get_or_create_code)\n",
    "from aiida_lammps.tests.utils import lammps_version\n",
    "\n",
    "from aiida.engine import run_get_node, run\n",
    "from aiida.plugins import DataFactory, WorkflowFactory\n",
    "import numpy as np\n",
    "from aiida.orm import Code\n",
    "from aiida.orm import Str, Dict, Int, List, Float\n",
    "from aiida.engine import calcfunction, WorkChain, append_\n",
    "from aiida.plugins import DataFactory\n",
    "from itertools import cycle\n",
    "import os\n",
    "import io\n",
    "\n",
    "from CrySPY.gen_struc.random.gen_pyxtal import Rnd_struc_gen_pyxtal"
   ]
  },
  {
   "cell_type": "code",
   "execution_count": null,
   "id": "3e4b6ea7",
   "metadata": {},
   "outputs": [],
   "source": [
    "import aiida\n",
    "aiida.load_profile()"
   ]
  },
  {
   "cell_type": "code",
   "execution_count": null,
   "id": "d0e121a5",
   "metadata": {},
   "outputs": [],
   "source": [
    "\n",
    "# ## parallel submit\n",
    "# ref.\n",
    "# https://aiida.readthedocs.io/projects/aiida-core/en/latest/topics/workflows/usage.html?highlight=tocontext#submitting-sub-processes\n",
    "#\n",
    "\n",
    "# load types\n",
    "StructureData = DataFactory('structure')\n",
    "FolderData = DataFactory('folder')\n",
    "SinglefileData = DataFactory('singlefile')\n",
    "ArrayData = DataFactory('array')\n",
    "List = DataFactory('list')\n",
    "LammpsPotential = DataFactory('lammps.potential')\n",
    "TrajectoryData = DataFactory('array.trajectory')\n"
   ]
  },
  {
   "cell_type": "code",
   "execution_count": null,
   "id": "69aa3d40",
   "metadata": {},
   "outputs": [],
   "source": []
  },
  {
   "cell_type": "code",
   "execution_count": null,
   "id": "ec0208da",
   "metadata": {},
   "outputs": [],
   "source": [
    "rin.readin()          # read input data, cryspy,in\n",
    "rin.algo"
   ]
  },
  {
   "cell_type": "code",
   "execution_count": null,
   "id": "9d3265f0",
   "metadata": {},
   "outputs": [],
   "source": [
    "rin.natot, rin.atype, rin.nat,rin.vol_factor, rin.vol_mu, rin.vol_sigma, rin.mindist, rin.spgnum, rin.symprec"
   ]
  },
  {
   "cell_type": "code",
   "execution_count": null,
   "id": "5e17176e",
   "metadata": {},
   "outputs": [],
   "source": [
    "initial_structure_WorkChain = WorkflowFactory('cryspy.random_structures')"
   ]
  },
  {
   "cell_type": "code",
   "execution_count": null,
   "id": "05801d52",
   "metadata": {
    "scrolled": false
   },
   "outputs": [],
   "source": [
    "\n",
    "params = {\"vol_mu\":rin.vol_mu, \"vol_sigma\":rin.vol_sigma, \n",
    "          \"mindist\":rin.mindist}\n",
    "\n",
    "inputs = {\"tot_struc\": Int(rin.tot_struc),\n",
    "    \"natot\":Int(rin.natot), \"atype\":List(list=rin.atype),\n",
    "                                        \"nat\":List(list=rin.nat), \"vol_factor\":List(list=rin.vol_factor),\n",
    "                                        \"spgnum\":Str(rin.spgnum), \"symprec\":Float(float(rin.symprec)),\n",
    "         'params': Dict(dict=params)}\n",
    "print(\"inputs\", inputs)\n",
    "initial_structures_result, node = run_get_node(initial_structure_WorkChain, **inputs)"
   ]
  },
  {
   "cell_type": "code",
   "execution_count": null,
   "id": "fd1b84f6",
   "metadata": {},
   "outputs": [],
   "source": [
    "initial_structures = initial_structures_result[\"structures\"]\n",
    "initial_structures"
   ]
  },
  {
   "cell_type": "code",
   "execution_count": null,
   "id": "f92e9c12",
   "metadata": {},
   "outputs": [],
   "source": [
    "!verdi node graph generate $node.pk\n"
   ]
  },
  {
   "cell_type": "code",
   "execution_count": null,
   "id": "98aabe36",
   "metadata": {},
   "outputs": [],
   "source": []
  },
  {
   "cell_type": "code",
   "execution_count": null,
   "id": "72133ae4",
   "metadata": {},
   "outputs": [],
   "source": [
    "\n"
   ]
  },
  {
   "cell_type": "code",
   "execution_count": null,
   "id": "7ce5f982",
   "metadata": {},
   "outputs": [],
   "source": [
    "\n",
    "computer_local = 'localhost'\n",
    "code_lammps_opt = get_or_create_code('lammps.optimize',\n",
    "                                     computer_local, 'lammps')\n",
    "meta_options = {\n",
    "    \"resources\": {\n",
    "        \"num_machines\": 1,\n",
    "        \"num_mpiprocs_per_machine\": 4}\n",
    "}\n"
   ]
  },
  {
   "cell_type": "code",
   "execution_count": null,
   "id": "0b9abc48",
   "metadata": {},
   "outputs": [],
   "source": [
    "code_lammps_opt.label"
   ]
  },
  {
   "cell_type": "code",
   "execution_count": null,
   "id": "bd14a398",
   "metadata": {},
   "outputs": [],
   "source": []
  },
  {
   "cell_type": "code",
   "execution_count": null,
   "id": "11b4b1b1",
   "metadata": {},
   "outputs": [],
   "source": [
    "\n"
   ]
  },
  {
   "cell_type": "code",
   "execution_count": null,
   "id": "15fb3b0e",
   "metadata": {},
   "outputs": [],
   "source": []
  },
  {
   "cell_type": "code",
   "execution_count": null,
   "id": "41f4954d",
   "metadata": {},
   "outputs": [],
   "source": [
    "# lammps potentials\n",
    "pair_style = 'tersoff'\n",
    "potential_dict = {\n",
    "    'Ga Ga Ga': '1.0 0.007874 1.846 1.918000 0.75000 -0.301300 1.0 1.0 1.44970 410.132 2.87 0.15 1.60916 535.199',\n",
    "    'N  N  N': '1.0 0.766120 0.000 0.178493 0.20172 -0.045238 1.0 1.0 2.38426 423.769 2.20 0.20 3.55779 1044.77',\n",
    "    'Ga Ga N': '1.0 0.001632 0.000 65.20700 2.82100 -0.518000 1.0 0.0 0.00000 0.00000 2.90 0.20 0.00000 0.00000',\n",
    "    'Ga N  N': '1.0 0.001632 0.000 65.20700 2.82100 -0.518000 1.0 1.0 2.63906 3864.27 2.90 0.20 2.93516 6136.44',\n",
    "    'N  Ga Ga': '1.0 0.001632 0.000 65.20700 2.82100 -0.518000 1.0 1.0 2.63906 3864.27 2.90 0.20 2.93516 6136.44',\n",
    "    'N  Ga N ': '1.0 0.766120 0.000 0.178493 0.20172 -0.045238 1.0 0.0 0.00000 0.00000 2.20 0.20 0.00000 0.00000',\n",
    "    'N  N  Ga': '1.0 0.001632 0.000 65.20700 2.82100 -0.518000 1.0 0.0 0.00000 0.00000 2.90 0.20 0.00000 0.00000',\n",
    "    'Ga N  Ga': '1.0 0.007874 1.846 1.918000 0.75000 -0.301300 1.0 0.0 0.00000 0.00000 2.87 0.15 0.00000 0.00000'}\n",
    "potential = DataFactory(\"lammps.potential\")(\n",
    "    type=pair_style, data=potential_dict\n",
    ")\n",
    "potential.attributes"
   ]
  },
  {
   "cell_type": "code",
   "execution_count": null,
   "id": "e68db394",
   "metadata": {
    "scrolled": false
   },
   "outputs": [],
   "source": [
    "# lammps.optimize parameters\n",
    "parameters = DataFactory('dict')(dict={\n",
    "    'lammps_version': lammps_version(),\n",
    "    'output_variables': [\"temp\", \"etotal\", \"pe\", \"ke\"],\n",
    "    'thermo_keywords': [],\n",
    "    'units': 'metal',\n",
    "    'relax': {\n",
    "        'type': 'aniso',\n",
    "        'pressure': 0.0,\n",
    "        'vmax': 0.005,\n",
    "    },\n",
    "    \"minimize\": {\n",
    "        'style': 'cg',\n",
    "        'energy_tolerance': 1.0e-5,\n",
    "        'force_tolerance': 1.0e-3,\n",
    "        'max_iterations': 1000,\n",
    "        'max_evaluations': 10000\n",
    "        }\n",
    "})\n"
   ]
  },
  {
   "cell_type": "code",
   "execution_count": null,
   "id": "da7eec8c",
   "metadata": {},
   "outputs": [],
   "source": []
  },
  {
   "cell_type": "code",
   "execution_count": null,
   "id": "c122cedc",
   "metadata": {
    "scrolled": false
   },
   "outputs": [],
   "source": [
    "\n",
    "optimization_simulator_lammps_WorkChain = \\\n",
    "WorkflowFactory('cryspy.optimize_structures_lammps')\n",
    "\n",
    "inputs = {'code_string': Str(code_lammps_opt.label),\n",
    "         \"initial_structures\": initial_structures,\n",
    "         \"potential\": potential,\n",
    "         \"parameters\": parameters}\n",
    "\n",
    "results, node = run_get_node(optimization_simulator_lammps_WorkChain, **inputs)\n"
   ]
  },
  {
   "cell_type": "code",
   "execution_count": null,
   "id": "863061f5",
   "metadata": {},
   "outputs": [],
   "source": [
    "import pandas as pd\n",
    "df = pd.DataFrame(results[\"results\"].get_dict())\n",
    "df"
   ]
  },
  {
   "cell_type": "code",
   "execution_count": null,
   "id": "1fde7962",
   "metadata": {},
   "outputs": [],
   "source": [
    "!verdi node graph generate $node.pk\n"
   ]
  },
  {
   "cell_type": "code",
   "execution_count": null,
   "id": "ec87962c",
   "metadata": {},
   "outputs": [],
   "source": []
  },
  {
   "cell_type": "code",
   "execution_count": null,
   "id": "de8b8f15",
   "metadata": {},
   "outputs": [],
   "source": []
  },
  {
   "cell_type": "code",
   "execution_count": null,
   "id": "c3d9a45b",
   "metadata": {},
   "outputs": [],
   "source": []
  }
 ],
 "metadata": {
  "kernelspec": {
   "display_name": "py39",
   "language": "python",
   "name": "py39"
  },
  "language_info": {
   "codemirror_mode": {
    "name": "ipython",
    "version": 3
   },
   "file_extension": ".py",
   "mimetype": "text/x-python",
   "name": "python",
   "nbconvert_exporter": "python",
   "pygments_lexer": "ipython3",
   "version": "3.9.13"
  }
 },
 "nbformat": 4,
 "nbformat_minor": 5
}
