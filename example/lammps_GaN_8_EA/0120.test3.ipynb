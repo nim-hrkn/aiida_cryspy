{
 "cells": [
  {
   "cell_type": "code",
   "execution_count": 1,
   "id": "4021e8d0",
   "metadata": {},
   "outputs": [],
   "source": [
    "#!/usr/bin/env python3\n",
    "'''\n",
    "Main script\n",
    "'''\n",
    "\n",
    "import os\n",
    "from pymatgen.io.vasp.inputs import Poscar\n",
    "from pymatgen.core import Structure\n",
    "\n",
    "from CrySPY.interface import select_code\n",
    "from CrySPY.job.ctrl_job import Ctrl_job\n",
    "from CrySPY.IO import read_input as rin\n",
    "from CrySPY.start import cryspy_init, cryspy_restart\n",
    "\n",
    "from aiida_lammps.tests.utils import (\n",
    "    get_or_create_local_computer, get_or_create_code)\n",
    "from aiida_lammps.tests.utils import lammps_version\n",
    "\n",
    "from aiida.engine import run_get_node, run, submit\n",
    "from aiida.plugins import DataFactory, WorkflowFactory\n",
    "import numpy as np\n",
    "from aiida.orm import Code\n",
    "from aiida.orm import Str, Dict, Int, List, Float\n",
    "from aiida.engine import calcfunction, WorkChain, append_\n",
    "from aiida.plugins import DataFactory\n",
    "from itertools import cycle\n",
    "import os\n",
    "import io\n",
    "from configparser import ConfigParser\n",
    "\n",
    "from CrySPY.gen_struc.random.gen_pyxtal import Rnd_struc_gen_pyxtal\n"
   ]
  },
  {
   "cell_type": "code",
   "execution_count": 2,
   "id": "3e4b6ea7",
   "metadata": {},
   "outputs": [
    {
     "data": {
      "text/plain": [
       "<aiida.manage.configuration.profile.Profile at 0x7f661d302be0>"
      ]
     },
     "execution_count": 2,
     "metadata": {},
     "output_type": "execute_result"
    }
   ],
   "source": [
    "import aiida\n",
    "aiida.load_profile()\n"
   ]
  },
  {
   "cell_type": "code",
   "execution_count": null,
   "id": "f1e3d05d",
   "metadata": {},
   "outputs": [],
   "source": []
  },
  {
   "cell_type": "code",
   "execution_count": 3,
   "id": "da8044c2",
   "metadata": {},
   "outputs": [],
   "source": [
    "SIMULATOR_PREFIX = 'simulator_'\n",
    "ID_PREFIX = 'ID_'\n"
   ]
  },
  {
   "cell_type": "code",
   "execution_count": 4,
   "id": "69aa3d40",
   "metadata": {},
   "outputs": [
    {
     "name": "stdout",
     "output_type": "stream",
     "text": [
      "/home/max/Documents/aiida_cryspy/example/lammps_GaN_8_EA\n"
     ]
    }
   ],
   "source": [
    "# nodebank settings\n",
    "\n",
    "from tools.nodebank import NodeBank\n",
    "pwd = os.getcwd()\n",
    "print(pwd)\n",
    "nodebank = NodeBank(pwd)\n"
   ]
  },
  {
   "cell_type": "code",
   "execution_count": 5,
   "id": "62fcc427",
   "metadata": {},
   "outputs": [],
   "source": [
    "import os\n",
    "import numpy as np\n",
    "\n",
    "\n",
    "from aiida.plugins import DataFactory\n",
    "from aiida.orm import Code\n",
    "from aiida.orm import Str, Dict, List, Int\n",
    "from aiida.engine import calcfunction, WorkChain\n",
    "\n",
    "from CrySPY.IO import read_input as rin\n",
    "from pymatgen.io.vasp.inputs import Poscar\n",
    "from pymatgen.core import Structure\n",
    "\n",
    "# load types\n",
    "StructureData = DataFactory('structure')\n",
    "FolderData = DataFactory('folder')\n",
    "SinglefileData = DataFactory('singlefile')\n",
    "ArrayData = DataFactory('array')\n",
    "LammpsPotential = DataFactory('lammps.potential')\n",
    "TrajectoryData = DataFactory('array.trajectory')\n",
    "\n",
    "ConfigparserData = DataFactory('cryspy.configparser')\n",
    "PystructuredictData = DataFactory('cryspy.pystructuredict')\n",
    "PandasFrameData = DataFactory('cryspy.dataframe')\n",
    "\n",
    "SIMULATOR_PREFIX = 'simulator_'\n",
    "ID_PREFIX = 'ID_'\n",
    "\n",
    "\n",
    "class initialize_WorkChain(WorkChain):\n",
    "    \"\"\"start.initialize()\n",
    "    \"\"\"\n",
    "\n",
    "    @classmethod\n",
    "    def define(cls, spec):\n",
    "        super().define(spec)\n",
    "        spec.input(\"cryspy_in\", valid_type=SinglefileData, help='cryspy_in. (temporary implementation)')\n",
    "\n",
    "        spec.outline(\n",
    "            cls.start_initialize,\n",
    "            cls.make_aiidadata,\n",
    "        )\n",
    "        spec.output(\"init_struc\", valid_type=PystructuredictData, help='initial structures')\n",
    "        spec.output(\"opt_struc\", valid_type=PystructuredictData, help='optimized structures')\n",
    "        spec.output(\"rstl_data\", valid_type=PandasFrameData, help='rst_data')\n",
    "        spec.output(\"ea_info\", valid_type=PandasFrameData, help='ea_info')\n",
    "        spec.output(\"ea_origin\", valid_type=PandasFrameData, help='ea_origin')\n",
    "        spec.output(\"ea_id_gen\", valid_type=Int, help='ea_origin')\n",
    "        spec.output(\"ea_id_queueing\", valid_type=List, help='ea_origin')\n",
    "        spec.output(\"ea_id_running\", valid_type=List, help='ea_origin')\n",
    "        spec.output('stat', valid_type=ConfigparserData, help='configparser content')\n",
    "\n",
    "    def start_initialize(self):\n",
    "        from CrySPY.start import cryspy_init\n",
    "        cryspy_init.initialize(self.inputs.cryspy_in)\n",
    "\n",
    "    def make_aiidadata(self):\n",
    "        \"\"\"must handle\n",
    "        EA_data.pkl  \n",
    "        EA_id_data.pkl  \n",
    "        init_struc_data.pkl  \n",
    "        opt_struc_data.pkl  \n",
    "        rslt_data.pkl\n",
    "        \"\"\"\n",
    "        if False:\n",
    "            @calcfunction\n",
    "            def aiida_load_init_struc():\n",
    "                from CrySPY.IO.pkl_data import load_init_struc\n",
    "                struc_dict = load_init_struc()\n",
    "                structures = {}\n",
    "                for _i, value in struc_dict.items():\n",
    "                    content = value.as_dict()\n",
    "                    key = f'ID_{_i}'\n",
    "                    structures[key] = content\n",
    "                return Dict(dict=structures)\n",
    "            self.out('init_struc', aiida_load_init_struc())\n",
    "        else:\n",
    "            @calcfunction\n",
    "            def aiida_load_init_struc(): \n",
    "                from CrySPY.IO.pkl_data import load_init_struc\n",
    "                struc_dict = load_init_struc()\n",
    "                pystructuredict = PystructuredictData(struc_dict)\n",
    "                return pystructuredict\n",
    "            self.out('init_struc', aiida_load_init_struc())\n",
    "            \n",
    "        if False:\n",
    "            @calcfunction\n",
    "            def aiida_load_opt_struc():\n",
    "                from CrySPY.IO.pkl_data import load_opt_struc\n",
    "                struc_dict = load_opt_struc()\n",
    "                structures = {}\n",
    "                for _i, value in struc_dict.items():\n",
    "                    content = value.as_dict()\n",
    "                    key = f'ID_{_i}'\n",
    "                    structures[key] = content\n",
    "                return Dict(dict=structures)\n",
    "            self.out('opt_struc', aiida_load_opt_struc())\n",
    "        else:\n",
    "            @calcfunction\n",
    "            def aiida_load_opt_struc():\n",
    "                from CrySPY.IO.pkl_data import load_opt_struc\n",
    "                struc_dict = load_opt_struc()\n",
    "                pystructuredict = PystructuredictData(struc_dict)\n",
    "                return pystructuredict\n",
    "            self.out('opt_struc', aiida_load_opt_struc())\n",
    "\n",
    "        if False:\n",
    "            @calcfunction\n",
    "            def aiida_load_rslt():\n",
    "                from CrySPY.IO.pkl_data import load_rslt\n",
    "                rstl_data_dic = {}\n",
    "                rstl_data = load_rslt()\n",
    "                for key in rstl_data.columns:\n",
    "                    rstl_data_dic[key] = rstl_data[key].values.tolist()\n",
    "                return Dict(dict=rstl_data_dic)\n",
    "            self.out('rstl_data', aiida_load_rslt())\n",
    "        else:\n",
    "            @calcfunction\n",
    "            def aiida_load_rslt():\n",
    "                from CrySPY.IO.pkl_data import load_rslt\n",
    "                rstl_data = load_rslt()\n",
    "                display(rstl_data)\n",
    "                df_node = PandasFrameData(rstl_data)\n",
    "                return df_node\n",
    "            self.out('rstl_data', aiida_load_rslt())\n",
    "\n",
    "        if False:\n",
    "            @calcfunction\n",
    "            def aiida_load_ea_info():\n",
    "                from CrySPY.IO.pkl_data import load_ea_data\n",
    "                ea_data = {}\n",
    "                elite_struc, elite_fitness, ea_info, ea_origin = load_ea_data()\n",
    "                ea_info_dic = {}\n",
    "                for key in ea_info.columns:\n",
    "                    ea_info_dic[key] = ea_info[key].values.tolist()\n",
    "                return Dict(dict=ea_info_dic)\n",
    "            @calcfunction\n",
    "            def aiida_load_ea_origin():\n",
    "                from CrySPY.IO.pkl_data import load_ea_data\n",
    "                ea_data = {}\n",
    "                elite_struc, elite_fitness, ea_info, ea_origin = load_ea_data()\n",
    "                ea_origin_dic = {}\n",
    "                for key in ea_origin.columns:\n",
    "                    ea_origin_dic[key] = ea_origin[key].values.tolist()\n",
    "                return Dict(dict=ea_origin_dic)\n",
    "            self.out('ea_info', aiida_load_ea_info())\n",
    "            self.out('ea_origin', aiida_load_ea_origin())            \n",
    "        else:\n",
    "            from CrySPY.IO.pkl_data import load_ea_data\n",
    "            @calcfunction\n",
    "            def aiida_load_ea_info():\n",
    "                elite_struc, elite_fitness, ea_info, ea_origin = load_ea_data()\n",
    "                df_ea_info_node = PandasFrameData(ea_info)\n",
    "                return df_ea_info_node\n",
    "            @calcfunction\n",
    "            def aiida_load_ea_origin():\n",
    "                elite_struc, elite_fitness, ea_info, ea_origin = load_ea_data()\n",
    "                df_ea_origin_node = PandasFrameData(ea_origin)\n",
    "                return df_ea_origin_node\n",
    "            self.out('ea_info', aiida_load_ea_info())\n",
    "            self.out('ea_origin', aiida_load_ea_origin()) \n",
    "\n",
    "        @calcfunction\n",
    "        def aiida_load_ea_id_gen():\n",
    "            from CrySPY.IO.pkl_data import load_ea_id\n",
    "            gen, id_queueing, id_running = load_ea_id()\n",
    "            return Int(gen)\n",
    "\n",
    "        @calcfunction\n",
    "        def aiida_load_ea_id_queueing():\n",
    "            from CrySPY.IO.pkl_data import load_ea_id\n",
    "            gen, id_queueing, id_running = load_ea_id()\n",
    "            return List(list=id_queueing)\n",
    "\n",
    "        @calcfunction\n",
    "        def aiida_load_ea_id_running():\n",
    "            from CrySPY.IO.pkl_data import load_ea_id\n",
    "            gen, id_queueing, id_running = load_ea_id()\n",
    "            return List(list=id_running)\n",
    "        self.out('ea_id_gen', aiida_load_ea_id_gen())\n",
    "        self.out('ea_id_queueing', aiida_load_ea_id_queueing())\n",
    "        self.out('ea_id_running', aiida_load_ea_id_running())\n"
   ]
  },
  {
   "cell_type": "code",
   "execution_count": null,
   "id": "9d8688be",
   "metadata": {},
   "outputs": [],
   "source": []
  },
  {
   "cell_type": "code",
   "execution_count": 6,
   "id": "9d3265f0",
   "metadata": {
    "scrolled": false
   },
   "outputs": [
    {
     "name": "stdout",
     "output_type": "stream",
     "text": [
      "2022/09/12 08:06:43\n",
      "CrySPY 0.10.3\n",
      "Start cryspy.py\n",
      "\n",
      "Read input file, uuid: 82694dfc-e2bf-4204-8a2f-b5604df60592 (pk: 17690)\n",
      "\n",
      "\n",
      "readin\n",
      "\n",
      "\n",
      "Write input data in cryspy.out\n",
      "Save input data in cryspy.stat\n",
      "\n",
      "\n",
      "write_stat\n",
      "\n",
      "\n",
      "\n",
      "# --------- Generate initial structures\n",
      "Structure ID      0 was generated. Space group:   2 -->   2 P-1\n",
      "Structure ID      1 was generated. Space group: 127 --> 123 P4/mmm\n",
      "Structure ID      2 was generated. Space group: 212 --> 212 P4_332\n",
      "Structure ID      3 was generated. Space group:  20 -->  20 C222_1\n",
      "Structure ID      4 was generated. Space group: 149 --> 187 P-6m2\n",
      "Structure ID      5 was generated. Space group:  34 -->  34 Pnn2\n",
      "Structure ID      6 was generated. Space group: 100 -->  99 P4mm\n",
      "Structure ID      7 was generated. Space group:  41 -->  41 Aea2\n"
     ]
    },
    {
     "name": "stderr",
     "output_type": "stream",
     "text": [
      "Compoisition [16 16] not compatible with symmetry 225 :spg = 225 retry.\n"
     ]
    },
    {
     "name": "stdout",
     "output_type": "stream",
     "text": [
      "Structure ID      8 was generated. Space group:  12 -->  12 C2/m\n",
      "Structure ID      9 was generated. Space group: 182 --> 194 P6_3/mmc\n",
      "Structure ID     10 was generated. Space group:  20 -->  20 C222_1\n",
      "Structure ID     11 was generated. Space group:  26 -->  26 Pmc2_1\n",
      "Structure ID     12 was generated. Space group:  62 -->  62 Pnma\n",
      "Structure ID     13 was generated. Space group: 191 --> 191 P6/mmm\n",
      "Structure ID     14 was generated. Space group:  92 -->  92 P4_12_12\n",
      "Structure ID     15 was generated. Space group: 104 --> 107 I4mm\n",
      "Structure ID     16 was generated. Space group:  84 --> 131 P4_2/mmc\n"
     ]
    },
    {
     "name": "stderr",
     "output_type": "stream",
     "text": [
      "Compoisition [16 16] not compatible with symmetry 228 :spg = 228 retry.\n"
     ]
    },
    {
     "name": "stdout",
     "output_type": "stream",
     "text": [
      "Structure ID     17 was generated. Space group: 149 --> 187 P-6m2\n",
      "Structure ID     18 was generated. Space group: 140 --> 140 I4/mcm\n",
      "Structure ID     19 was generated. Space group:  56 -->  59 Pmmn\n",
      "Structure ID     20 was generated. Space group:  89 --> 123 P4/mmm\n",
      "Structure ID     21 was generated. Space group:  98 -->  98 I4_122\n",
      "Structure ID     22 was generated. Space group: 158 --> 156 P3m1\n",
      "Structure ID     23 was generated. Space group:  91 -->  91 P4_122\n",
      "Structure ID     24 was generated. Space group:  17 -->  17 P222_1\n",
      "Structure ID     25 was generated. Space group: 188 --> 187 P-6m2\n",
      "Structure ID     26 was generated. Space group:  93 --> 131 P4_2/mmc\n",
      "Structure ID     27 was generated. Space group:  91 -->  91 P4_122\n",
      "Structure ID     28 was generated. Space group: 165 --> 164 P-3m1\n",
      "Structure ID     29 was generated. Space group:  58 -->  58 Pnnm\n",
      "\n",
      "\n",
      "save_init_struc\n",
      "\n",
      "\n",
      "\n",
      "\n",
      "save_opt_struc\n",
      "\n",
      "\n",
      "\n",
      "\n",
      "save_rslt\n",
      "\n",
      "\n",
      "\n",
      "# ---------- Initialize evolutionary algorithm\n",
      "# ------ Generation 1\n",
      "30 structures by random\n",
      "\n"
     ]
    },
    {
     "name": "stderr",
     "output_type": "stream",
     "text": [
      "Compoisition [4 4] not compatible with symmetry 223 :spg = 223 retry.\n",
      "Compoisition [4 4] not compatible with symmetry 145 :spg = 145 retry.\n"
     ]
    },
    {
     "name": "stdout",
     "output_type": "stream",
     "text": [
      "\n",
      "\n",
      "save_ea_id\n",
      "\n",
      "\n",
      "\n",
      "\n",
      "save_ea_data\n",
      "\n",
      "\n",
      "\n",
      "\n",
      "save_rslt\n",
      "\n",
      "\n",
      "\n",
      "\n",
      "write_stat\n",
      "\n",
      "\n",
      "\n",
      "\n",
      "load_init_struc\n",
      "\n",
      "\n",
      "\n",
      "\n",
      "load_opt_struc\n",
      "\n",
      "\n",
      "\n",
      "\n",
      "load_rslt\n",
      "\n",
      "\n"
     ]
    },
    {
     "data": {
      "text/html": [
       "<div>\n",
       "<style scoped>\n",
       "    .dataframe tbody tr th:only-of-type {\n",
       "        vertical-align: middle;\n",
       "    }\n",
       "\n",
       "    .dataframe tbody tr th {\n",
       "        vertical-align: top;\n",
       "    }\n",
       "\n",
       "    .dataframe thead th {\n",
       "        text-align: right;\n",
       "    }\n",
       "</style>\n",
       "<table border=\"1\" class=\"dataframe\">\n",
       "  <thead>\n",
       "    <tr style=\"text-align: right;\">\n",
       "      <th></th>\n",
       "      <th>Gen</th>\n",
       "      <th>Spg_num</th>\n",
       "      <th>Spg_sym</th>\n",
       "      <th>Spg_num_opt</th>\n",
       "      <th>Spg_sym_opt</th>\n",
       "      <th>E_eV_atom</th>\n",
       "      <th>Magmom</th>\n",
       "      <th>Opt</th>\n",
       "    </tr>\n",
       "  </thead>\n",
       "  <tbody>\n",
       "  </tbody>\n",
       "</table>\n",
       "</div>"
      ],
      "text/plain": [
       "Empty DataFrame\n",
       "Columns: [Gen, Spg_num, Spg_sym, Spg_num_opt, Spg_sym_opt, E_eV_atom, Magmom, Opt]\n",
       "Index: []"
      ]
     },
     "metadata": {},
     "output_type": "display_data"
    },
    {
     "name": "stdout",
     "output_type": "stream",
     "text": [
      "\n",
      "\n",
      "load_ea_data\n",
      "\n",
      "\n",
      "\n",
      "\n",
      "load_ea_data\n",
      "\n",
      "\n",
      "\n",
      "\n",
      "load_ea_id\n",
      "\n",
      "\n",
      "\n",
      "\n",
      "load_ea_id\n",
      "\n",
      "\n",
      "\n",
      "\n",
      "load_ea_id\n",
      "\n",
      "\n"
     ]
    }
   ],
   "source": [
    "pwd = os.getcwd()\n",
    "cryspy_in = SinglefileData(os.path.join(pwd, 'cryspy.in0'))\n",
    "inputs = {'cryspy_in': cryspy_in}\n",
    "# initialize_WorkChain = WorkflowFactory('cryspy.initial_structures')\n",
    "initial_result = run(initialize_WorkChain, **inputs)\n"
   ]
  },
  {
   "cell_type": "code",
   "execution_count": null,
   "id": "0b8cee99",
   "metadata": {},
   "outputs": [],
   "source": [
    "# workflow結果表示\n",
    "initial_result"
   ]
  },
  {
   "cell_type": "code",
   "execution_count": null,
   "id": "e61102e9",
   "metadata": {},
   "outputs": [],
   "source": [
    "initial_result[\"init_struc\"].pystructuredict"
   ]
  },
  {
   "cell_type": "code",
   "execution_count": null,
   "id": "97cb90f1",
   "metadata": {},
   "outputs": [],
   "source": [
    "import shutil\n",
    "# cryspy.inは実行中に書き換えられる。\n",
    "shutil.copy(\"cryspy.in0\", \"cryspy.in\")\n"
   ]
  },
  {
   "cell_type": "code",
   "execution_count": null,
   "id": "86f025a7",
   "metadata": {},
   "outputs": [],
   "source": [
    "init_struc_data = initial_result[\"init_struc\"]\n",
    "init_struc_data.pystructuredict\n"
   ]
  },
  {
   "cell_type": "code",
   "execution_count": null,
   "id": "4ffc2f69",
   "metadata": {},
   "outputs": [],
   "source": [
    "initial_result"
   ]
  },
  {
   "cell_type": "code",
   "execution_count": null,
   "id": "23074eac",
   "metadata": {},
   "outputs": [],
   "source": [
    "# where is crpspy.stat file?"
   ]
  },
  {
   "cell_type": "markdown",
   "id": "a804cb18",
   "metadata": {},
   "source": [
    "# restart"
   ]
  },
  {
   "cell_type": "code",
   "execution_count": null,
   "id": "00441fe0",
   "metadata": {},
   "outputs": [],
   "source": [
    "'''\n",
    "Restart CrySPY\n",
    "'''\n",
    "\n",
    "import os\n",
    "\n",
    "from CrySPY import utility\n",
    "from CrySPY.BO import bo_restart\n",
    "from CrySPY.EA import ea_append\n",
    "from CrySPY.gen_struc.random.random_generation import Rnd_struc_gen\n",
    "from CrySPY.gen_struc.random.gen_pyxtal import Rnd_struc_gen_pyxtal\n",
    "from CrySPY.IO import io_stat, pkl_data\n",
    "from CrySPY.IO import read_input as rin\n",
    "from CrySPY.LAQA import laqa_restart\n",
    "from CrySPY.RS import rs_restart\n",
    "\n",
    "\n",
    "def restart(cryspy_in='cryspy.in', cryspy_stat='cryspy.stat',\n",
    "            aiida=False,\n",
    "            stat=None, init_struc_data=None):\n",
    "    \"\"\"\n",
    "    under construction.\n",
    "    \n",
    "    \n",
    "    cryspy_in can be SinglefileData.\n",
    "    \n",
    "    I can't understand the flow chart when SystemExit() occurs.\n",
    "    \n",
    "    \"\"\"\n",
    "    print('\\n\\n')\n",
    "    print(utility.get_date())\n",
    "    print(utility.get_version())\n",
    "    print('Restart cryspy.py\\n\\n')\n",
    "    \n",
    "    if aiida:\n",
    "        if stat is None:\n",
    "            raise ValueError('stat must be given.')\n",
    "        if init_struc_data is None:\n",
    "            raise ValueError('init_struc_data must be given.')\n",
    "\n",
    "    # ---------- read stat\n",
    "    if not aiida:\n",
    "        stat = io_stat.stat_read(cryspy_stat)\n",
    "\n",
    "    # ---------- read input and check the change\n",
    "    rin.readin(cryspy_in)\n",
    "    rin.diffinstat(stat)\n",
    "\n",
    "    # ---------- load init_struc_data for appending structures\n",
    "    if not aiida:\n",
    "        init_struc_data = pkl_data.load_init_struc()\n",
    "\n",
    "    # ---------- append structures\n",
    "    if len(init_struc_data) < rin.tot_struc:\n",
    "        prev_nstruc = len(init_struc_data)\n",
    "        init_struc_data = append_struc(init_struc_data)\n",
    "        # ------ RS\n",
    "        if rin.algo == 'RS':\n",
    "            rs_restart.restart(stat, prev_nstruc)\n",
    "        # ------ BO\n",
    "        if rin.algo == 'BO':\n",
    "            bo_restart.restart(init_struc_data, prev_nstruc)\n",
    "        # ------ LAQA\n",
    "        if rin.algo == 'LAQA':\n",
    "            laqa_restart.restart(stat, prev_nstruc)\n",
    "        os.remove('lock_cryspy')\n",
    "        raise SystemExit()\n",
    "\n",
    "    elif rin.tot_struc < len(init_struc_data):\n",
    "        raise ValueError('tot_struc < len(init_struc_data)')\n",
    "\n",
    "    # ---------- append structures by EA (option)\n",
    "    if rin.append_struc_ea:\n",
    "        prev_nstruc = len(init_struc_data)\n",
    "        init_struc_data = ea_append.append_struc(stat, init_struc_data, aiida=aiida)\n",
    "        # ------ RS\n",
    "        if rin.algo == 'RS':\n",
    "            rs_restart.restart(stat, prev_nstruc)\n",
    "        # ------ BO\n",
    "        if rin.algo == 'BO':\n",
    "            bo_restart.restart(init_struc_data, prev_nstruc)\n",
    "        # ------ LAQA\n",
    "        if rin.algo == 'LAQA':\n",
    "            laqa_restart.restart(stat, prev_nstruc)\n",
    "        os.remove('lock_cryspy')\n",
    "        raise SystemExit()\n",
    "\n",
    "    # ---------- return\n",
    "    return stat, init_struc_data\n",
    "\n",
    "\n",
    "def append_struc(init_struc_data, aiida=False):\n",
    "    # ---------- append initial structures\n",
    "    print('\\n# ---------- Append structures')\n",
    "    with open('cryspy.out', 'a') as fout:\n",
    "        fout.write('\\n# ---------- Append structures\\n')\n",
    "    id_offset = len(init_struc_data)\n",
    "    nstruc = rin.tot_struc - id_offset\n",
    "\n",
    "    # ---------- pyxtal\n",
    "    if not (rin.spgnum == 0 or rin.use_find_wy):\n",
    "        rsgx = Rnd_struc_gen_pyxtal(natot=rin.natot, atype=rin.atype,\n",
    "                                    nat=rin.nat, vol_factor=rin.vol_factor,\n",
    "                                    vol_mu=rin.vol_mu, vol_sigma=rin.vol_sigma,\n",
    "                                    mindist=rin.mindist,\n",
    "                                    spgnum=rin.spgnum, symprec=rin.symprec)\n",
    "        # ------ crystal\n",
    "        if rin.struc_mode == 'crystal':\n",
    "            rsgx.gen_struc(nstruc=nstruc, id_offset=id_offset,\n",
    "                           init_pos_path='./data/init_POSCARS')\n",
    "        # ------ molecular crystal\n",
    "        elif rin.struc_mode == 'mol':\n",
    "            rsgx.set_mol(mol_file=rin.mol_file, nmol=rin.nmol)\n",
    "            rsgx.gen_struc_mol(nstruc=nstruc, id_offset=id_offset,\n",
    "                               init_pos_path='./data/init_POSCARS',\n",
    "                               timeout_mol=rin.timeout_mol)\n",
    "        # ------ molecular crystal breaking symmetry\n",
    "        elif rin.struc_mode == 'mol_bs':\n",
    "            rsgx.set_mol(mol_file=rin.mol_file, nmol=rin.nmol)\n",
    "            rsgx.gen_struc_mol_break_sym(nstruc=nstruc,\n",
    "                                         rot_mol=rin.rot_mol,\n",
    "                                         nrot=rin.nrot,\n",
    "                                         id_offset=id_offset,\n",
    "                                         init_pos_path='./data/init_POSCARS')\n",
    "        # ------ update\n",
    "        init_struc_data.update(rsgx.init_struc_data)\n",
    "    # ---------- Rnd_struc_gen\n",
    "    else:\n",
    "        rsg = Rnd_struc_gen(natot=rin.natot, atype=rin.atype, nat=rin.nat,\n",
    "                            minlen=rin.minlen, maxlen=rin.maxlen,\n",
    "                            dangle=rin.dangle, mindist=rin.mindist,\n",
    "                            vol_mu=rin.vol_mu, vol_sigma=rin.vol_sigma,\n",
    "                            maxcnt=rin.maxcnt, symprec=rin.symprec)\n",
    "        if rin.spgnum == 0:\n",
    "            rsg.gen_wo_spg(nstruc=nstruc, id_offset=id_offset,\n",
    "                           init_pos_path='./data/init_POSCARS')\n",
    "            init_struc_data.update(rsg.init_struc_data)\n",
    "        else:\n",
    "            fwpath = utility.check_fwpath()\n",
    "            rsg.gen_with_find_wy(nstruc=nstruc, spgnum=rin.spgnum,\n",
    "                                 id_offset=id_offset,\n",
    "                                 init_pos_path='./data/init_POSCARS',\n",
    "                                 fwpath=fwpath)\n",
    "            init_struc_data.update(rsg.init_struc_data)\n",
    "\n",
    "    # ---------- output\n",
    "    print('')    # for blank line\n",
    "    with open('cryspy.out', 'a') as fout:\n",
    "        fout.write('Generated structures up to ID {}\\n\\n'.format(\n",
    "            len(init_struc_data)-1))\n",
    "\n",
    "\n",
    "        pkl_data.save_init_struc(init_struc_data)\n",
    "\n",
    "    return init_struc_data\n",
    "\n"
   ]
  },
  {
   "cell_type": "code",
   "execution_count": null,
   "id": "01b12cab",
   "metadata": {},
   "outputs": [],
   "source": []
  },
  {
   "cell_type": "code",
   "execution_count": null,
   "id": "4cda5201",
   "metadata": {},
   "outputs": [],
   "source": [
    "class jobs_restart_WorkChain(WorkChain):\n",
    "    \"\"\"\n",
    "    restart_WorkChain\n",
    "    \n",
    "    The content of cryspy_in is changed during the step.\n",
    "    \"\"\"\n",
    "    _CRYSPY_IN = \"crpspy.in\"\n",
    "    @classmethod\n",
    "    def define(cls, spec):\n",
    "        super().define(spec)\n",
    "        spec.input(\"cryspy_in\", valid_type=(Str,SinglefileData),\n",
    "                   help='cryspy_in. (temporary implementation)')\n",
    "        spec.input(\"stat\", valid_type=ConfigparserData,\n",
    "                   help='ConfigParser data')\n",
    "        spec.input(\"init_struc\", valid_type=PystructuredictData,\n",
    "                   help='initial structures')\n",
    "        spec.outline(\n",
    "            cls.restart,\n",
    "        )\n",
    "        spec.output(\"init_struc\", valid_type=PystructuredictData, help='initial structures')\n",
    "        spec.output(\"stat\", valid_type=ConfigparserData, help='content of ConfigParser')\n",
    "  \n",
    "    def restart(self):\n",
    "        stat = self.inputs.stat.configparser\n",
    "        init_struc_data = self.inputs.init_struc.pystructuredict\n",
    "        stat, init_struc_data = restart(aiida=True, stat=stat, \n",
    "                                                       init_struc_data=init_struc_data)\n",
    "        statdata = ConfigparserData(stat)\n",
    "        statdata.store()\n",
    "        self.out('stat', statdata)\n",
    "        init_struc = PystructuredictData(init_struc_data)\n",
    "        init_struc.store()\n",
    "        self.out('init_struc',init_struc )\n",
    "        "
   ]
  },
  {
   "cell_type": "code",
   "execution_count": null,
   "id": "da8ddfec",
   "metadata": {
    "scrolled": false
   },
   "outputs": [],
   "source": [
    "stat = io_stat.stat_read()\n",
    "inputs = {\"cryspy_in\": Str(\"cpyspy.in\"), \"stat\":ConfigparserData(stat), \n",
    "          \"init_struc\": initial_result[\"init_struc\"]}\n",
    "restart_results = run(jobs_restart_WorkChain, **inputs)"
   ]
  },
  {
   "cell_type": "code",
   "execution_count": null,
   "id": "0280adbb",
   "metadata": {},
   "outputs": [],
   "source": [
    "restart_results"
   ]
  },
  {
   "cell_type": "code",
   "execution_count": null,
   "id": "caf73708",
   "metadata": {},
   "outputs": [],
   "source": [
    "stat_node = restart_results[\"stat\"]\n",
    "stat_node"
   ]
  },
  {
   "cell_type": "code",
   "execution_count": null,
   "id": "8bc02b91",
   "metadata": {
    "scrolled": true
   },
   "outputs": [],
   "source": [
    "stat = stat_node.configparser\n",
    "stat._sections"
   ]
  },
  {
   "cell_type": "markdown",
   "id": "cab93e44",
   "metadata": {},
   "source": [
    "# handle_jobs"
   ]
  },
  {
   "cell_type": "code",
   "execution_count": null,
   "id": "2a9bbf37",
   "metadata": {},
   "outputs": [],
   "source": [
    "def ctrl_next_struc_step1(jobs):\n",
    "    # ---------- RS\n",
    "    if rin.algo == 'RS':\n",
    "        next_struc_data = jobs.init_struc_data[jobs.current_id]\n",
    "    # ---------- BO\n",
    "    elif rin.algo == 'BO':\n",
    "        next_struc_data = jobs.init_struc_data[jobs.current_id]\n",
    "    # ---------- LAQA\n",
    "    elif rin.algo == 'LAQA':\n",
    "        if jobs.laqa_struc[jobs.current_id]:    # vacant list?\n",
    "            next_struc_data = jobs.laqa_struc[jobs.current_id][-1]\n",
    "        else:\n",
    "            next_struc_data = jobs.init_struc_data[jobs.current_id]\n",
    "    # ---------- EA\n",
    "    elif rin.algo == 'EA':\n",
    "        next_struc_data = jobs.init_struc_data[jobs.current_id]\n",
    "    # ---------- algo is wrong\n",
    "    else:\n",
    "        raise ValueError('Error, algo')\n",
    "        \n",
    "    return next_struc_data\n",
    "\n",
    "def ctrl_next_struc_step2(jobs, next_struc_data ):\n",
    "    # ---------- common part\n",
    "    # ------ in case there is no initial strucure data\n",
    "    if next_struc_data is None:\n",
    "        print('ID {:>6}: initial structure is None'.format(\n",
    "        jobs.current_id))\n",
    "        jobs.ctrl_skip()\n",
    "    # ------ normal initial structure data\n",
    "    else:\n",
    "        if False:\n",
    "            # -- prepare input files for structure optimization\n",
    "            if rin.kpt_flag:\n",
    "                print(\"kpt_flag not supported\")\n",
    "                raise ValueError(\"kpt_flag not supported\")\n",
    "                jobs.kpt_data = select_code.next_struc(next_struc_data,\n",
    "                                                   jobs.current_id,\n",
    "                                                   jobs.work_path,\n",
    "                                                   jobs.kpt_data)\n",
    "            else:\n",
    "                print(\"select_code.next_struc\")\n",
    "                print(jobs.current_id, jobs.work_path)\n",
    "                select_code.next_struc(next_struc_data, jobs.current_id,\n",
    "                                   jobs.work_path)\n",
    "            \n",
    "        # -- prepare jobfile\n",
    "        print(\"prepare_jobfile\")\n",
    "        # jobs.prepare_jobfile()\n",
    "        # -- submit\n",
    "        print(\"submit_next_struc\")\n",
    "        jobs.submit_next_struc(dry_run=True)\n",
    "        print('ID {:>6}: submit job, Stage 1'.format(jobs.current_id))\n",
    "        # -- update status\n",
    "        # jobs.update_status(operation='submit')\n",
    "\n",
    "def ctrl_next_struc(jobs):\n",
    "    next_struc_data = ctrl_next_struc_step1(jobs)\n",
    "\n",
    "    ctrl_next_struc_step2(jobs,next_struc_data)\n",
    "    print(\"must call jobs.update_status(operation='submit')\")\n",
    "    \n",
    "    \n",
    "def handle_job_return_dict(jobs):\n",
    "    print('\\n# ---------- job status')\n",
    "    cwd_dict = {}\n",
    "    struc_dict = {}\n",
    "    print(\"jobs.job_stat\", jobs.job_stat )\n",
    "\n",
    "    for cid in jobs.tmp_running:\n",
    "        # ---------- set work_path and current_id\n",
    "        jobs.work_path = './work/{:06}/'.format(cid)\n",
    "        jobs.current_id = cid\n",
    "        # ---------- handle job\n",
    "        if jobs.job_stat[cid] == 'submitted':\n",
    "            print('ID {:>6}: still queueing or running'.format(cid))\n",
    "        elif jobs.job_stat[cid] == 'done':\n",
    "            jobs.ctrl_done()\n",
    "        elif jobs.job_stat[cid] == 'skip':\n",
    "            jobs.ctrl_skip()\n",
    "        elif jobs.job_stat[cid] == 'else':\n",
    "            raise ValueError('Wrong job_stat in {}. '.format(\n",
    "                jobs.work_path))\n",
    "        elif jobs.job_stat[cid] == 'no_file':\n",
    "            ctrl_next_struc(jobs)\n",
    "            key = str(cid)\n",
    "            cwd_dict[key] = os.path.abspath(jobs.work_path)\n",
    "            struc_dict[key] = jobs.init_struc_data[jobs.current_id]\n",
    "        else:\n",
    "            raise ValueError('Unexpected error in {}stat_job'.format(\n",
    "                jobs.work_path))\n",
    "        \n",
    "    return cwd_dict, struc_dict, jobs.tmp_running\n",
    "\n",
    "def finish_job(jobs):\n",
    "    for cid in jobs.tmp_running:\n",
    "        jobs.current_id = cid\n",
    "        jobs.update_status(operation='submit')\n",
    "    "
   ]
  },
  {
   "cell_type": "code",
   "execution_count": null,
   "id": "ba2f315a",
   "metadata": {},
   "outputs": [],
   "source": [
    "class handle_job_before_submit_WorkChain(WorkChain):\n",
    "    \"\"\"\n",
    "    restart_WorkChain\n",
    "    \n",
    "    execute\n",
    "        jobs = Ctrl_job(stat, init_struc_data)\n",
    "        jobs.check_job()\n",
    "        cwd_dict, struc_dict,id_running = handle_job_return_dict(jobs)  \n",
    "    \n",
    "    \n",
    "    The content of cryspy_in is changed during the step.\n",
    "    \"\"\"\n",
    "    _CRYSPY_IN = \"crpspy.in\"\n",
    "    @classmethod\n",
    "    def define(cls, spec):\n",
    "        super().define(spec)\n",
    "\n",
    "        spec.input(\"stat\", valid_type=ConfigparserData,\n",
    "                   help='ConfigParser data')\n",
    "        spec.input(\"init_struc\", valid_type=PystructuredictData,\n",
    "                   help='initial structures')\n",
    "        spec.outline(\n",
    "            cls.handle_jobs,\n",
    "        )\n",
    "        spec.output(\"struc\", valid_type=PystructuredictData, help='structures to optimize')\n",
    "        spec.output(\"cwd\", valid_type=Dict, help='ConfigParser content')\n",
    "        spec.output('id_running', valid_type=List, help='id running')\n",
    "  \n",
    "    def handle_jobs(self):\n",
    "        \n",
    "        stat = self.inputs.stat.configparser\n",
    "        init_struc_data = self.inputs.init_struc.pystructuredict\n",
    "        \n",
    "        os.makedirs(\"work\", exist_ok=True)\n",
    "        jobs = Ctrl_job(stat, init_struc_data)\n",
    "        jobs.check_job()\n",
    "        cwd_dict, struc_dict,id_running = handle_job_return_dict(jobs)  \n",
    "\n",
    "        if len(cwd_dict)>0:\n",
    "            cwd_dict = Dict(dict=cwd_dict)\n",
    "            cwd_dict.store()\n",
    "            self.out('cwd', cwd_dict)\n",
    "\n",
    "        if len(struc_dict)>0:\n",
    "            init_struc = PystructuredictData(struc_dict)\n",
    "            init_struc.store()\n",
    "            self.out('struc',init_struc )\n",
    "        \n",
    "        id_running=List(list=id_running)\n",
    "        id_running.store()\n",
    "        self.out('id_running', id_running)"
   ]
  },
  {
   "cell_type": "code",
   "execution_count": null,
   "id": "ff43901f",
   "metadata": {
    "scrolled": true
   },
   "outputs": [],
   "source": [
    "inputs = restart_results\n",
    "handle_job_step1 = run(handle_job_before_submit_WorkChain, **inputs)\n"
   ]
  },
  {
   "cell_type": "code",
   "execution_count": null,
   "id": "d7790190",
   "metadata": {},
   "outputs": [],
   "source": [
    "handle_job_step1"
   ]
  },
  {
   "cell_type": "code",
   "execution_count": null,
   "id": "989fef9d",
   "metadata": {},
   "outputs": [],
   "source": [
    "handle_job_step1[\"id_running\"]"
   ]
  },
  {
   "cell_type": "code",
   "execution_count": null,
   "id": "89453c4e",
   "metadata": {},
   "outputs": [],
   "source": [
    "handle_job_step1[\"cwd\"].get_dict()"
   ]
  },
  {
   "cell_type": "code",
   "execution_count": null,
   "id": "b99d3d41",
   "metadata": {},
   "outputs": [],
   "source": [
    "handle_job_step1[\"struc\"].get_dict()"
   ]
  },
  {
   "cell_type": "code",
   "execution_count": null,
   "id": "e603f5c7",
   "metadata": {},
   "outputs": [],
   "source": [
    "struc_node = handle_job_step1[\"struc\"]\n",
    "struc_node.pystructuredict"
   ]
  },
  {
   "cell_type": "code",
   "execution_count": null,
   "id": "cab1c55d",
   "metadata": {},
   "outputs": [],
   "source": []
  },
  {
   "cell_type": "code",
   "execution_count": null,
   "id": "3f60dcf7",
   "metadata": {},
   "outputs": [],
   "source": []
  },
  {
   "cell_type": "code",
   "execution_count": null,
   "id": "257e335c",
   "metadata": {
    "scrolled": true
   },
   "outputs": [],
   "source": [
    "cwd_node = handle_job_step1[\"cwd\"]\n",
    "cwd_node.get_dict()"
   ]
  },
  {
   "cell_type": "code",
   "execution_count": null,
   "id": "7ce5f982",
   "metadata": {},
   "outputs": [],
   "source": [
    "computer_local = 'localhost'\n",
    "code_lammps_opt = get_or_create_code('lammps.optimize',\n",
    "                                     computer_local, 'lammps')\n",
    "meta_options = {\n",
    "    \"resources\": {\n",
    "        \"num_machines\": 1,\n",
    "        \"num_mpiprocs_per_machine\": 4}\n",
    "}\n",
    "code_lammps_opt.label\n"
   ]
  },
  {
   "cell_type": "code",
   "execution_count": null,
   "id": "41f4954d",
   "metadata": {},
   "outputs": [],
   "source": [
    "# lammps potentials\n",
    "pair_style = 'tersoff'\n",
    "potential_dict = {\n",
    "    'Ga Ga Ga': '1.0 0.007874 1.846 1.918000 0.75000 -0.301300 1.0 1.0 1.44970 410.132 2.87 0.15 1.60916 535.199',\n",
    "    'N  N  N': '1.0 0.766120 0.000 0.178493 0.20172 -0.045238 1.0 1.0 2.38426 423.769 2.20 0.20 3.55779 1044.77',\n",
    "    'Ga Ga N': '1.0 0.001632 0.000 65.20700 2.82100 -0.518000 1.0 0.0 0.00000 0.00000 2.90 0.20 0.00000 0.00000',\n",
    "    'Ga N  N': '1.0 0.001632 0.000 65.20700 2.82100 -0.518000 1.0 1.0 2.63906 3864.27 2.90 0.20 2.93516 6136.44',\n",
    "    'N  Ga Ga': '1.0 0.001632 0.000 65.20700 2.82100 -0.518000 1.0 1.0 2.63906 3864.27 2.90 0.20 2.93516 6136.44',\n",
    "    'N  Ga N ': '1.0 0.766120 0.000 0.178493 0.20172 -0.045238 1.0 0.0 0.00000 0.00000 2.20 0.20 0.00000 0.00000',\n",
    "    'N  N  Ga': '1.0 0.001632 0.000 65.20700 2.82100 -0.518000 1.0 0.0 0.00000 0.00000 2.90 0.20 0.00000 0.00000',\n",
    "    'Ga N  Ga': '1.0 0.007874 1.846 1.918000 0.75000 -0.301300 1.0 0.0 0.00000 0.00000 2.87 0.15 0.00000 0.00000'}\n",
    "potential = DataFactory(\"lammps.potential\")(\n",
    "    type=pair_style, data=potential_dict\n",
    ")\n",
    "potential.attributes\n"
   ]
  },
  {
   "cell_type": "code",
   "execution_count": null,
   "id": "e68db394",
   "metadata": {},
   "outputs": [],
   "source": [
    "# lammps.optimize parameters\n",
    "parameters = DataFactory('dict')(dict={\n",
    "    'lammps_version': lammps_version(),\n",
    "    'output_variables': [\"temp\", \"etotal\", \"pe\", \"ke\"],\n",
    "    'thermo_keywords': [],\n",
    "    'units': 'metal',\n",
    "    'relax': {\n",
    "        'type': 'aniso',\n",
    "        'pressure': 0.0,\n",
    "        'vmax': 0.005,\n",
    "    },\n",
    "    \"minimize\": {\n",
    "        'style': 'cg',\n",
    "        'energy_tolerance': 1.0e-5,\n",
    "        'force_tolerance': 1.0e-3,\n",
    "        'max_iterations': 1000,\n",
    "        'max_evaluations': 10000\n",
    "        }\n",
    "})\n"
   ]
  },
  {
   "cell_type": "code",
   "execution_count": null,
   "id": "eada1b1b",
   "metadata": {},
   "outputs": [],
   "source": [
    "code_lammps_opt"
   ]
  },
  {
   "cell_type": "raw",
   "id": "a7969c65",
   "metadata": {},
   "source": [
    "# lammps.optimize test\n",
    "\n",
    "struc = Structure.from_dict(initial_structures[\"ID_0\"][\"struc\"])\n",
    "\n",
    "builder = code_lammps_opt.get_builder()\n",
    "builder.structure = StructureData(pymatgen=struc)\n",
    "builder.potential = potential\n",
    "builder.parameters = parameters\n",
    "builder.metadata.options = meta_options\n",
    "\n",
    "result, code = run_get_node(builder)\n",
    "result\n"
   ]
  },
  {
   "cell_type": "code",
   "execution_count": null,
   "id": "5cc88dee",
   "metadata": {
    "scrolled": false
   },
   "outputs": [],
   "source": [
    "if len(struc_node.get_dict())>0 and len(cwd_node.get_dict())>0:\n",
    "    inputs = {'code_string': Str(code_lammps_opt.label),\n",
    "             \"initial_structures\": struc_node,\n",
    "             \"cwd\": cwd_node,\n",
    "             \"potential\": potential,\n",
    "             \"parameters\": parameters}\n",
    "    optimization_simulator_lammps_WorkChain = WorkflowFactory('cryspy.optimize_structures_lammps')\n",
    "    optimize_result, node = run_get_node(optimization_simulator_lammps_WorkChain, **inputs)\n",
    "    # finish_job(jobs)\n",
    "    "
   ]
  },
  {
   "cell_type": "code",
   "execution_count": null,
   "id": "8a4fe6bf",
   "metadata": {},
   "outputs": [],
   "source": [
    "optimize_result"
   ]
  },
  {
   "cell_type": "code",
   "execution_count": null,
   "id": "e12658a4",
   "metadata": {},
   "outputs": [],
   "source": []
  },
  {
   "cell_type": "code",
   "execution_count": null,
   "id": "f4a6a084",
   "metadata": {},
   "outputs": [],
   "source": [
    "handle_job_step1[\"id_running\"]"
   ]
  },
  {
   "cell_type": "raw",
   "id": "d5c84111",
   "metadata": {},
   "source": [
    "\n",
    "jobs = Ctrl_job(stat_node.configparser, struc_node.pystructuredict)\n",
    "jobs.tmp_running = handle_job_step1[\"id_running\"].get_list()\n",
    "finish_job(jobs)"
   ]
  },
  {
   "cell_type": "code",
   "execution_count": null,
   "id": "e5f39386",
   "metadata": {
    "scrolled": false
   },
   "outputs": [],
   "source": [
    "class submitted_job_status_WorkChain(WorkChain):\n",
    "    \n",
    "    @classmethod\n",
    "    def define(cls, spec):\n",
    "        super().define(spec)\n",
    "        spec.input(\"stat\", valid_type=ConfigparserData, help='ConfigParser content')\n",
    "        spec.input('struc', valid_type=PystructuredictData, help='Structure data')\n",
    "        spec.input(\"tmp_running\", valid_type=List, help='tmp id running')\n",
    "        \n",
    "        spec.outline(\n",
    "            cls.submitted_job_status,\n",
    "        )\n",
    "        spec.output(\"id_running\", valid_type=List,  help='id running')\n",
    "        spec.output(\"id_queueing\", valid_type=List,  help='id queueing')\n",
    "\n",
    "    def submitted_job_status(self):\n",
    "        stat_node = self.inputs.stat\n",
    "        struc_node = self.inputs.struc\n",
    "        tmp_running = self.inputs.tmp_running\n",
    "        jobs = Ctrl_job(stat_node.configparser, struc_node.pystructuredict)\n",
    "        jobs.tmp_running = tmp_running.get_list()\n",
    "        finish_job(jobs)\n",
    "                   \n",
    "        if len(jobs.id_running)>0:\n",
    "            id_running = List(list=jobs.id_running)\n",
    "            print(id_running)\n",
    "            id_running.store()\n",
    "            self.out('id_running',id_running)\n",
    "        \n",
    "        if len(jobs.id_queueing)>0:\n",
    "            id_queueing = List(list=jobs.id_queueing)\n",
    "            id_queueing.store() \n",
    "            print(id_queueing)\n",
    "            self.out('id_queueing', id_queueing)\n",
    "\n",
    "inputs = {'stat': stat_node, 'struc': struc_node, \n",
    "          'tmp_running': handle_job_step1[\"id_running\"]}\n",
    "submitted_job_status = run(submitted_job_status_WorkChain, **inputs)\n",
    "submitted_job_status"
   ]
  },
  {
   "cell_type": "code",
   "execution_count": null,
   "id": "958efbfc",
   "metadata": {},
   "outputs": [],
   "source": [
    "if \"id_running\" in submitted_job_status:\n",
    "    id_running  =  submitted_job_status[\"id_running\"]\n",
    "else:\n",
    "    id_running = []\n",
    "if \"id_queueing\" in submitted_job_status:\n",
    "    id_queueing  =  submitted_job_status[\"id_queueing\"]\n",
    "else:\n",
    "    id_queueing = []\n",
    "id_queueing, id_running"
   ]
  },
  {
   "cell_type": "code",
   "execution_count": null,
   "id": "c2d32c08",
   "metadata": {},
   "outputs": [],
   "source": [
    "jobs = Ctrl_job(stat_node.configparser, struc_node.pystructuredict)\n",
    "print(not (id_queueing or id_running))\n",
    "if not (id_queueing or id_running):\n",
    "    jobs.next_sg()\n",
    "    "
   ]
  },
  {
   "cell_type": "markdown",
   "id": "741004d6",
   "metadata": {},
   "source": [
    "# next run"
   ]
  },
  {
   "cell_type": "code",
   "execution_count": null,
   "id": "aeeee60f",
   "metadata": {},
   "outputs": [],
   "source": [
    "list(struc_node.get_dict().keys())\n"
   ]
  },
  {
   "cell_type": "code",
   "execution_count": null,
   "id": "4239f0d8",
   "metadata": {},
   "outputs": [],
   "source": [
    "stat, struc_dict = cryspy_restart.restart()\n",
    "stat._sections"
   ]
  },
  {
   "cell_type": "code",
   "execution_count": null,
   "id": "01cffd09",
   "metadata": {},
   "outputs": [],
   "source": [
    "stat_node"
   ]
  },
  {
   "cell_type": "code",
   "execution_count": null,
   "id": "64da46d7",
   "metadata": {},
   "outputs": [],
   "source": [
    "inputs = {\"cryspy_in\": Str(\"cpyspy.in\"), \"stat\":stat_node, \n",
    "          \"init_struc\": struc_node}\n",
    "restart_results = run(jobs_restart_WorkChain, **inputs)\n",
    "restart_results"
   ]
  },
  {
   "cell_type": "code",
   "execution_count": null,
   "id": "0fde106e",
   "metadata": {},
   "outputs": [],
   "source": [
    "restart_results[\"stat\"].configparser._sections"
   ]
  },
  {
   "cell_type": "code",
   "execution_count": null,
   "id": "ab8e401e",
   "metadata": {},
   "outputs": [],
   "source": []
  },
  {
   "cell_type": "code",
   "execution_count": null,
   "id": "f91700c3",
   "metadata": {},
   "outputs": [],
   "source": []
  },
  {
   "cell_type": "code",
   "execution_count": null,
   "id": "763ebfa4",
   "metadata": {},
   "outputs": [],
   "source": [
    "if False:\n",
    "    stat, struc_dict = cryspy_restart.restart()\n",
    "    jobs = Ctrl_job(stat, struc_dict)\n",
    "    jobs.check_job()\n",
    "    cwd_dict, struc_dict = handle_job_return_dict(jobs)\n",
    "else:\n",
    "    inputs = {\"stat\": stat_node, \"init_struc\": struc_node}\n",
    "    handle_job_step1 = run(handle_job_before_submit_WorkChain, **inputs)\n",
    "    "
   ]
  },
  {
   "cell_type": "code",
   "execution_count": null,
   "id": "ee5322d9",
   "metadata": {},
   "outputs": [],
   "source": [
    "handle_job_step1"
   ]
  },
  {
   "cell_type": "code",
   "execution_count": null,
   "id": "b8e05546",
   "metadata": {},
   "outputs": [],
   "source": [
    "jobs.id_queueing, jobs.id_running\n"
   ]
  },
  {
   "cell_type": "code",
   "execution_count": null,
   "id": "333cd33b",
   "metadata": {},
   "outputs": [],
   "source": [
    "cwd_dict, struc_dict\n"
   ]
  },
  {
   "cell_type": "code",
   "execution_count": null,
   "id": "4bc0125a",
   "metadata": {},
   "outputs": [],
   "source": [
    "len(struc_dict)\n"
   ]
  },
  {
   "cell_type": "code",
   "execution_count": null,
   "id": "d0128622",
   "metadata": {},
   "outputs": [],
   "source": [
    "if len(struc_dict)>0 and len(cwd_dict)>0:\n",
    "    inputs = {'code_string': Str(code_lammps_opt.label),\n",
    "             \"initial_structures\": Dict(dict=struc_dict),\n",
    "             \"cwd\": Dict(dict=cwd_dict),\n",
    "             \"potential\": potential,\n",
    "             \"parameters\": parameters}\n",
    "    optimization_simulator_lammps_WorkChain = WorkflowFactory('cryspy.optimize_structures_lammps')\n",
    "    result, node = run_get_node(optimization_simulator_lammps_WorkChain, **inputs)\n",
    "    finish_job(jobs)\n",
    "    "
   ]
  },
  {
   "cell_type": "code",
   "execution_count": null,
   "id": "e3a3fe91",
   "metadata": {},
   "outputs": [],
   "source": [
    "jobs.id_queueing, jobs.id_running\n"
   ]
  },
  {
   "cell_type": "raw",
   "id": "4c6e2c95",
   "metadata": {},
   "source": [
    "def convert_struc_dict_to_aiidatype(init_struc):\n",
    "    \"\"\"\n",
    "    CrySPYの init_struc_dataを\n",
    "    workflowのoutputはAiiDAで扱える型への変換を行う。\n",
    "    \"\"\"\n",
    "    init_struc_data = {}\n",
    "    for ID, value in init_struc.items():\n",
    "        if isinstance(value, dict) or isinstance(value, float) or isinstance(value, int):\n",
    "            struc = value\n",
    "        elif isinstance(value,Structure):\n",
    "            struc = value.as_dict()\n",
    "        else:\n",
    "            raise TypeError(f'unknown value type {type(value)}')\n",
    "        key = f'{ID_PREFIX}{ID}'\n",
    "        init_struc_data[key] = struc\n",
    "    return init_struc_data\n",
    "\n",
    "def convert_df_to_aiida_type(rslt_data):\n",
    "    result = {}\n",
    "    for label in rslt_data.columns:\n",
    "        value = rslt_data[label].values.tolist()\n",
    "        result[label] = value\n",
    "    return result\n",
    "\n",
    "def convert_df_from_aiida_type(rslt_data):\n",
    "    if isinstance(rslt_data,Dict):\n",
    "        rslt_data = rslt_data.get_dict()\n",
    "    return pd.DataFrame(rslt_data)\n"
   ]
  },
  {
   "cell_type": "code",
   "execution_count": null,
   "id": "919e9bb6",
   "metadata": {},
   "outputs": [],
   "source": [
    "from CrySPY.IO import read_input as rin\n",
    "from CrySPY.EA import ea_next_gen\n",
    "import os\n",
    "\n",
    "'''\n",
    "Generational change in evolutionary algorithm\n",
    "'''\n",
    "\n",
    "import pandas as pd\n",
    "\n",
    "from CrySPY.EA.ea_child import child_gen\n",
    "from CrySPY.gen_struc.EA.select_parents import Select_parents\n",
    "from CrySPY.IO import out_results\n",
    "from CrySPY.IO import change_input, io_stat, pkl_data\n",
    "from CrySPY.IO import read_input as rin\n",
    "\n",
    "\n",
    "def next_gen(stat, init_struc_data, opt_struc_data, rslt_data, ea_id_data):\n",
    "    # ---------- ea_id_data\n",
    "    gen, id_queueing, id_running = ea_id_data\n",
    "\n",
    "    # ---------- out and log\n",
    "    with open('cryspy.out', 'a') as fout:\n",
    "        fout.write('# ---------- Evolutionary algorithm\\n\\n')\n",
    "        fout.write('# ------ Generation {}\\n'.format(gen + 1))\n",
    "    print('# ---------- Evolutionary algorithm\\n')\n",
    "    print('# ------ Generation {}'.format(gen + 1))\n",
    "\n",
    "    # ---------- current generation\n",
    "    c_rslt = rslt_data[rslt_data['Gen'] == gen]\n",
    "    c_fitness = c_rslt['E_eV_atom'].to_dict()    # {ID: energy, ...}\n",
    "\n",
    "    # ---------- load ea_data, ea_data is used only in this module\n",
    "    elite_struc, elite_fitness, ea_info, ea_origin = pkl_data.load_ea_data()\n",
    "\n",
    "    # ---------- instantiate Seclect_parents class\n",
    "    print('# -- select parents')\n",
    "    sp = Select_parents(opt_struc_data, c_fitness, elite_struc, elite_fitness,\n",
    "                        rin.fit_reverse, rin.n_fittest,\n",
    "                        rin.emax_ea, rin.emin_ea)\n",
    "    if rin.slct_func == 'TNM':\n",
    "        sp.set_tournament(t_size=rin.t_size)\n",
    "    else:\n",
    "        sp.set_roulette(a=rin.a_rlt, b=rin.b_rlt)\n",
    "\n",
    "    # ---------- generate offspring by EA\n",
    "    print('# -- Generate structures')\n",
    "    _, eagen = child_gen(sp, init_struc_data)\n",
    "\n",
    "    # ---------- select elite\n",
    "    if rin.n_elite > 0:\n",
    "        print('# -- select elites')\n",
    "        # ------ init\n",
    "        all_fitness = rslt_data['E_eV_atom'].to_dict()    # {ID: energy, ..,}\n",
    "        elite_struc = {}\n",
    "        elite_fitness = {}\n",
    "        # ------ Select_parents class also works for selecting elite structures\n",
    "        se = Select_parents(opt_struc_data, all_fitness, None, None,\n",
    "                            rin.fit_reverse, rin.n_elite,\n",
    "                            rin.emax_ea, rin.emin_ea)\n",
    "        for cid in se.ranking_dedupe:\n",
    "            print('Structure ID {0:>6} keeps as the elite'.format(cid))\n",
    "            elite_struc[cid] = opt_struc_data[cid]\n",
    "            elite_fitness[cid] = all_fitness[cid]\n",
    "    else:\n",
    "        elite_struc = None\n",
    "        elite_fitness = None\n",
    "    # ---------- out\n",
    "    with open('cryspy.out', 'a') as fout:\n",
    "        fout.write('{} structures keeps as the elite\\n'.format(rin.n_elite))\n",
    "\n",
    "    # ---------- new generation\n",
    "    gen += 1\n",
    "\n",
    "    # ---------- id_queueing\n",
    "    id_queueing = [i for i in range(rin.tot_struc, rin.tot_struc + rin.n_pop)]\n",
    "\n",
    "    # ---------- ea_info\n",
    "    tmp_info = pd.Series([gen, rin.n_pop, rin.n_crsov, rin.n_perm,\n",
    "                          rin.n_strain, rin.n_rand, rin.n_elite,\n",
    "                          rin.crs_lat, rin.slct_func],\n",
    "                         index=ea_info.columns)\n",
    "    ea_info = ea_info.append(tmp_info, ignore_index=True)\n",
    "    # ------ out ea_info\n",
    "    out_results.out_ea_info(ea_info)\n",
    "\n",
    "    # ---------- ea_origin\n",
    "    # ------ EA operation part\n",
    "    for cid in range(rin.tot_struc, rin.tot_struc + rin.n_pop - rin.n_rand):\n",
    "        tmp_origin = pd.Series([gen, cid, eagen.operation[cid],\n",
    "                                eagen.parents[cid]], index=ea_origin.columns)\n",
    "        ea_origin = ea_origin.append(tmp_origin, ignore_index=True)\n",
    "    # ------ random part\n",
    "    for cid in range(rin.tot_struc + rin.n_pop - rin.n_rand,\n",
    "                     rin.tot_struc + rin.n_pop):\n",
    "        tmp_origin = pd.Series([gen, cid, 'random', None],\n",
    "                               index=ea_origin.columns)\n",
    "        ea_origin = ea_origin.append(tmp_origin, ignore_index=True)\n",
    "    # ------ elite part\n",
    "    if rin.n_elite > 0:\n",
    "        for cid in se.ranking_dedupe:\n",
    "            tmp_origin = pd.Series([gen, cid, 'elite', 'elite'],\n",
    "                                   index=ea_origin.columns)\n",
    "            ea_origin = ea_origin.append(tmp_origin, ignore_index=True)\n",
    "    # ------ out ea_origin\n",
    "    out_results.out_ea_origin(ea_origin)\n",
    "\n",
    "    # ---------- save ea_id_data\n",
    "    ea_id_data = (gen, id_queueing, id_running)\n",
    "    pkl_data.save_ea_id(ea_id_data)\n",
    "\n",
    "    # ---------- save ea_data\n",
    "    ea_data = (elite_struc, elite_fitness, ea_info, ea_origin)\n",
    "    pkl_data.save_ea_data(ea_data)\n",
    "\n",
    "    # ---------- change the value of tot_struc\n",
    "    config = change_input.config_read()\n",
    "    change_input.change_basic(config, 'tot_struc', rin.tot_struc + rin.n_pop)\n",
    "    change_input.write_config(config)\n",
    "    print('# -- changed cryspy.in')\n",
    "    print('Changed the value of tot_struc in cryspy.in'\n",
    "          ' from {} to {}'.format(\n",
    "              rin.tot_struc, rin.tot_struc + rin.n_pop))\n",
    "\n",
    "    # ---------- status\n",
    "    io_stat.set_input_common(stat, 'basic', 'tot_struc', rin.tot_struc + rin.n_pop)\n",
    "    io_stat.set_common(stat, 'generation', gen)\n",
    "    io_stat.set_id(stat, 'id_queueing', id_queueing)\n",
    "    io_stat.write_stat(stat)\n",
    "\n",
    "    return elite_struc, elite_fitness, ea_info, ea_origin, stat\n",
    "\n",
    "\n",
    "def next_gen_EA(jobs):\n",
    "    # ---------- log and out\n",
    "    with open('cryspy.out', 'a') as fout:\n",
    "        fout.write('\\nDone generation {}\\n\\n'.format(jobs.gen))\n",
    "    print('\\nDone generation {}\\n'.format(jobs.gen))\n",
    "    # ---------- check point 3\n",
    "    if rin.stop_chkpt == 3:\n",
    "        print('\\nStop at check point 3: EA is ready\\n')\n",
    "        os.remove('lock_cryspy')\n",
    "        raise SystemExit()\n",
    "    # ---------- maxgen_ea\n",
    "    if 0 < rin.maxgen_ea <= jobs.gen:\n",
    "        print('\\nReached maxgen_ea: {}\\n'.format(rin.maxgen_ea))\n",
    "        os.remove('lock_cryspy')\n",
    "        raise SystemExit()\n",
    "    # ---------- EA\n",
    "    ea_id_data = (jobs.gen, jobs.id_queueing, jobs.id_running)\n",
    "    elite_struc, elite_fitness, ea_info, ea_origin, stat = \\\n",
    "        ea_next_gen.next_gen(jobs.stat, jobs.init_struc_data,\n",
    "                             jobs.opt_struc_data, jobs.rslt_data, ea_id_data)\n",
    "\n",
    "def next_sg(jobs):\n",
    "    '''\n",
    "    next selection or generation\n",
    "    '''\n",
    "    if rin.algo == 'BO':\n",
    "        # job.next_select_BO()\n",
    "        raise ValueError('not supported.')\n",
    "    if rin.algo == 'LAQA':\n",
    "        # job.next_select_LAQA()\n",
    "        raise ValueError('not supported.')\n",
    "    if rin.algo == 'EA':\n",
    "        elite_struc, elite_fitness, ea_info, ea_origin, stat = next_gen_EA(jobs)\n",
    "        return elite_struc, elite_fitness, ea_info, ea_origin, stat \n",
    "    "
   ]
  },
  {
   "cell_type": "code",
   "execution_count": null,
   "id": "0a960a94",
   "metadata": {
    "scrolled": false
   },
   "outputs": [],
   "source": [
    "print(len(jobs.id_queueing), len(jobs.id_running))\n",
    "if not (jobs.id_queueing or jobs.id_running):\n",
    "    next_sg(jobs)\n",
    "    "
   ]
  },
  {
   "cell_type": "markdown",
   "id": "03586bb3",
   "metadata": {},
   "source": [
    "# next run"
   ]
  },
  {
   "cell_type": "code",
   "execution_count": null,
   "id": "cace9079",
   "metadata": {},
   "outputs": [],
   "source": [
    "init_struc_data.keys()"
   ]
  },
  {
   "cell_type": "code",
   "execution_count": null,
   "id": "5352640b",
   "metadata": {},
   "outputs": [],
   "source": [
    "stat, struc_dict = cryspy_restart.restart()\n",
    "struc_dict"
   ]
  },
  {
   "cell_type": "code",
   "execution_count": null,
   "id": "575880d2",
   "metadata": {},
   "outputs": [],
   "source": [
    "jobs = Ctrl_job(stat, struc_dict) # init_struc_dataの更新の必要がある。\n",
    "jobs.check_job()"
   ]
  },
  {
   "cell_type": "code",
   "execution_count": null,
   "id": "f0d6007d",
   "metadata": {},
   "outputs": [],
   "source": [
    "stat[\"basic\"][\"tot_struc\"]"
   ]
  },
  {
   "cell_type": "code",
   "execution_count": null,
   "id": "7c20b1f9",
   "metadata": {},
   "outputs": [],
   "source": []
  },
  {
   "cell_type": "code",
   "execution_count": null,
   "id": "a8bcd7f9",
   "metadata": {},
   "outputs": [],
   "source": []
  },
  {
   "cell_type": "code",
   "execution_count": null,
   "id": "a467ac6b",
   "metadata": {},
   "outputs": [],
   "source": [
    "cwd_dict, struc_dict = handle_job_return_dict(jobs)"
   ]
  },
  {
   "cell_type": "code",
   "execution_count": null,
   "id": "2600fba0",
   "metadata": {},
   "outputs": [],
   "source": [
    "jobs.init_struc_data"
   ]
  },
  {
   "cell_type": "code",
   "execution_count": null,
   "id": "d626e5a4",
   "metadata": {},
   "outputs": [],
   "source": [
    "jobs.id_queueing, jobs.id_running\n"
   ]
  },
  {
   "cell_type": "code",
   "execution_count": null,
   "id": "dda0ca55",
   "metadata": {},
   "outputs": [],
   "source": [
    "cwd_dict, struc_dict\n"
   ]
  },
  {
   "cell_type": "code",
   "execution_count": null,
   "id": "194fdef2",
   "metadata": {},
   "outputs": [],
   "source": [
    "if len(struc_dict)>0 and len(cwd_dict)>0:\n",
    "    inputs = {'code_string': Str(code_lammps_opt.label),\n",
    "             \"initial_structures\": Dict(dict=struc_dict),\n",
    "             \"cwd\": Dict(dict=cwd_dict),\n",
    "             \"potential\": potential,\n",
    "             \"parameters\": parameters}\n",
    "    optimization_simulator_lammps_WorkChain = WorkflowFactory('cryspy.optimize_structures_lammps')\n",
    "    result, node = run_get_node(optimization_simulator_lammps_WorkChain, **inputs)\n",
    "    finish_job(jobs)\n",
    "    "
   ]
  },
  {
   "cell_type": "code",
   "execution_count": null,
   "id": "a4284023",
   "metadata": {},
   "outputs": [],
   "source": [
    "print(len(jobs.id_queueing), len(jobs.id_running))\n",
    "if not (jobs.id_queueing or jobs.id_running):\n",
    "    jobs.next_sg()\n",
    "    "
   ]
  },
  {
   "cell_type": "markdown",
   "id": "35abb0c4",
   "metadata": {},
   "source": [
    "# next run\n"
   ]
  },
  {
   "cell_type": "code",
   "execution_count": null,
   "id": "fb2c85e2",
   "metadata": {},
   "outputs": [],
   "source": [
    "stat, struc_dict = cryspy_restart.restart()\n",
    "jobs = Ctrl_job(stat, struc_dict)\n",
    "jobs.check_job()\n",
    "cwd_dict, struc_dict = handle_job_return_dict(jobs)\n"
   ]
  },
  {
   "cell_type": "code",
   "execution_count": null,
   "id": "47a9676b",
   "metadata": {},
   "outputs": [],
   "source": [
    "jobs.id_queueing, jobs.id_running"
   ]
  },
  {
   "cell_type": "code",
   "execution_count": null,
   "id": "a30d682c",
   "metadata": {},
   "outputs": [],
   "source": [
    "cwd_dict, struc_dict"
   ]
  },
  {
   "cell_type": "code",
   "execution_count": null,
   "id": "79c628c5",
   "metadata": {},
   "outputs": [],
   "source": [
    "if len(struc_dict)>0 and len(cwd_dict)>0:\n",
    "    inputs = {'code_string': Str(code_lammps_opt.label),\n",
    "             \"initial_structures\": Dict(dict=struc_dict),\n",
    "             \"cwd\": Dict(dict=cwd_dict),\n",
    "             \"potential\": potential,\n",
    "             \"parameters\": parameters}\n",
    "    optimization_simulator_lammps_WorkChain = WorkflowFactory('cryspy.optimize_structures_lammps')\n",
    "    result, node = run_get_node(optimization_simulator_lammps_WorkChain, **inputs)\n",
    "    finish_job(jobs)"
   ]
  },
  {
   "cell_type": "code",
   "execution_count": null,
   "id": "7dfb7710",
   "metadata": {},
   "outputs": [],
   "source": [
    "print(len(jobs.id_queueing), len(jobs.id_running))\n",
    "if not (jobs.id_queueing or jobs.id_running):\n",
    "    jobs.next_sg()"
   ]
  },
  {
   "cell_type": "code",
   "execution_count": null,
   "id": "87c357e4",
   "metadata": {},
   "outputs": [],
   "source": [
    "!verdi graph generate 14891"
   ]
  },
  {
   "cell_type": "code",
   "execution_count": null,
   "id": "fc929e12",
   "metadata": {},
   "outputs": [],
   "source": [
    "!pwd"
   ]
  },
  {
   "cell_type": "code",
   "execution_count": null,
   "id": "766f5337",
   "metadata": {},
   "outputs": [],
   "source": []
  }
 ],
 "metadata": {
  "kernelspec": {
   "display_name": "py39",
   "language": "python",
   "name": "py39"
  },
  "language_info": {
   "codemirror_mode": {
    "name": "ipython",
    "version": 3
   },
   "file_extension": ".py",
   "mimetype": "text/x-python",
   "name": "python",
   "nbconvert_exporter": "python",
   "pygments_lexer": "ipython3",
   "version": "3.9.13"
  }
 },
 "nbformat": 4,
 "nbformat_minor": 5
}
