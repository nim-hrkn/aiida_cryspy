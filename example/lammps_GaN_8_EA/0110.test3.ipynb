{
 "cells": [
  {
   "cell_type": "code",
   "execution_count": null,
   "id": "4021e8d0",
   "metadata": {},
   "outputs": [],
   "source": [
    "#!/usr/bin/env python3\n",
    "'''\n",
    "Main script\n",
    "'''\n",
    "\n",
    "import os\n",
    "from pymatgen.io.vasp.inputs import Poscar\n",
    "from pymatgen.core import Structure\n",
    "\n",
    "from CrySPY.interface import select_code\n",
    "from CrySPY.job.ctrl_job import Ctrl_job\n",
    "from CrySPY.IO import read_input as rin\n",
    "from CrySPY.start import cryspy_init, cryspy_restart\n",
    "\n",
    "from aiida_lammps.tests.utils import (\n",
    "    get_or_create_local_computer, get_or_create_code)\n",
    "from aiida_lammps.tests.utils import lammps_version\n",
    "\n",
    "from aiida.engine import run_get_node, run, submit\n",
    "from aiida.plugins import DataFactory, WorkflowFactory\n",
    "import numpy as np\n",
    "from aiida.orm import Code\n",
    "from aiida.orm import Str, Dict, Int, List, Float\n",
    "from aiida.engine import calcfunction, WorkChain, append_\n",
    "from aiida.plugins import DataFactory\n",
    "from itertools import cycle\n",
    "import os\n",
    "import io\n",
    "from configparser import ConfigParser\n",
    "\n",
    "from CrySPY.gen_struc.random.gen_pyxtal import Rnd_struc_gen_pyxtal"
   ]
  },
  {
   "cell_type": "code",
   "execution_count": null,
   "id": "3e4b6ea7",
   "metadata": {},
   "outputs": [],
   "source": [
    "import aiida\n",
    "aiida.load_profile()"
   ]
  },
  {
   "cell_type": "code",
   "execution_count": null,
   "id": "d0e121a5",
   "metadata": {},
   "outputs": [],
   "source": [
    "# load types\n",
    "StructureData = DataFactory('structure')\n",
    "FolderData = DataFactory('folder')\n",
    "SinglefileData = DataFactory('singlefile')\n",
    "ArrayData = DataFactory('array')\n",
    "List = DataFactory('list')\n",
    "LammpsPotential = DataFactory('lammps.potential')\n",
    "TrajectoryData = DataFactory('array.trajectory')\n"
   ]
  },
  {
   "cell_type": "code",
   "execution_count": null,
   "id": "da8044c2",
   "metadata": {},
   "outputs": [],
   "source": [
    "SIMULATOR_PREFIX = 'simulator_'\n",
    "ID_PREFIX = 'ID_'"
   ]
  },
  {
   "cell_type": "code",
   "execution_count": null,
   "id": "69aa3d40",
   "metadata": {},
   "outputs": [],
   "source": [
    "# nodebank settings\n",
    "\n",
    "from tools.nodebank import NodeBank\n",
    "pwd = os.getcwd()\n",
    "print(pwd)\n",
    "nodebank = NodeBank(pwd)\n"
   ]
  },
  {
   "cell_type": "code",
   "execution_count": null,
   "id": "9d3265f0",
   "metadata": {},
   "outputs": [],
   "source": [
    "pwd = os.getcwd()\n",
    "cryspy_in = SinglefileData(os.path.join(pwd, 'cryspy.in0'))\n",
    "inputs = {'cryspy_in': cryspy_in}\n",
    "initialize_WorkChain = WorkflowFactory('cryspy.initial_structures')\n",
    "result = run(initialize_WorkChain, **inputs)"
   ]
  },
  {
   "cell_type": "code",
   "execution_count": null,
   "id": "0b8cee99",
   "metadata": {},
   "outputs": [],
   "source": [
    "# workflow結果表示\n",
    "result"
   ]
  },
  {
   "cell_type": "code",
   "execution_count": null,
   "id": "97cb90f1",
   "metadata": {},
   "outputs": [],
   "source": [
    "import shutil\n",
    "# cryspy.inは実行中に書き換えられる。\n",
    "shutil.copy(\"cryspy.in0\", \"cryspy.in\")"
   ]
  },
  {
   "cell_type": "code",
   "execution_count": null,
   "id": "de40e7d9",
   "metadata": {},
   "outputs": [],
   "source": [
    "# workflowのoutputはAiiDAで扱える型。\n",
    "# CrySPYの init_struc_dataへの変換を行う。\n",
    "\n",
    "def convert_struc_dict_from_aiidatype(init_struc):\n",
    "    \"\"\"\n",
    "    workflowのoutputはAiiDAで扱える型なので、\n",
    "    CrySPYの init_struc_dataへの変換を行う。\n",
    "    \"\"\"\n",
    "    if isinstance(init_struc, Dict):\n",
    "        init_struc = init_struc.get_dict() \n",
    "    init_struc_data = {}\n",
    "    for key,value in init_struc.items():\n",
    "        struc = Structure.from_dict(value)\n",
    "        key = int(key.replace(ID_PREFIX,\"\"))\n",
    "        init_struc_data[key] = struc #.as_dict()\n",
    "        \n",
    "    return init_struc_data"
   ]
  },
  {
   "cell_type": "code",
   "execution_count": null,
   "id": "903b0947",
   "metadata": {},
   "outputs": [],
   "source": [
    "init_struc_data = convert_struc_dict_from_aiidatype(result[\"init_struc\"])\n",
    "init_struc_data"
   ]
  },
  {
   "cell_type": "code",
   "execution_count": null,
   "id": "e3663446",
   "metadata": {},
   "outputs": [],
   "source": [
    "!verdi graph generate 14997"
   ]
  },
  {
   "cell_type": "code",
   "execution_count": null,
   "id": "101b4bdf",
   "metadata": {},
   "outputs": [],
   "source": [
    "@calcfunction\n",
    "def aiida_load_stat():\n",
    "    \"\"\"\n",
    "    configparserの型をAiiDAで扱えるDictに変換\n",
    "    \"\"\"\n",
    "    stat, init_struc_data = cryspy_restart.restart()\n",
    "    stat_dict = stat._sections\n",
    "    return Dict(dict=stat_dict)\n",
    "\n",
    "if False:\n",
    "    @calcfunction\n",
    "    def aiida_load_init_struc_data():\n",
    "        stat, struc_dict = cryspy_restart.restart()\n",
    "        structures = {}\n",
    "        for _i, value in struc_dict.items():\n",
    "            content = value.as_dict()\n",
    "            key = f'ID_{_i}'\n",
    "            structures[key] = content\n",
    "        return Dict(dict=structures)                \n",
    "    self.out('init_struc', aiida_load_init_struc_data())\n",
    "\n",
    "stat_dic = aiida_load_stat()\n",
    "stat = ConfigParser()\n",
    "stat.read_dict(dictionary=stat_dic.get_dict())\n",
    "# stat ConfigParser is given.\n"
   ]
  },
  {
   "cell_type": "code",
   "execution_count": null,
   "id": "a93d771b",
   "metadata": {},
   "outputs": [],
   "source": [
    "os.makedirs(\"work\", exist_ok=True)\n",
    "jobs = Ctrl_job(stat, init_struc_data)\n",
    "jobs.check_job()\n"
   ]
  },
  {
   "cell_type": "code",
   "execution_count": null,
   "id": "2a9bbf37",
   "metadata": {},
   "outputs": [],
   "source": [
    "def ctrl_next_struc_step1(jobs):\n",
    "    # ---------- RS\n",
    "    if rin.algo == 'RS':\n",
    "        next_struc_data = jobs.init_struc_data[jobs.current_id]\n",
    "    # ---------- BO\n",
    "    elif rin.algo == 'BO':\n",
    "        next_struc_data = jobs.init_struc_data[jobs.current_id]\n",
    "    # ---------- LAQA\n",
    "    elif rin.algo == 'LAQA':\n",
    "        if jobs.laqa_struc[jobs.current_id]:    # vacant list?\n",
    "            next_struc_data = jobs.laqa_struc[jobs.current_id][-1]\n",
    "        else:\n",
    "            next_struc_data = jobs.init_struc_data[jobs.current_id]\n",
    "    # ---------- EA\n",
    "    elif rin.algo == 'EA':\n",
    "        next_struc_data = jobs.init_struc_data[jobs.current_id]\n",
    "    # ---------- algo is wrong\n",
    "    else:\n",
    "        raise ValueError('Error, algo')\n",
    "        \n",
    "    return next_struc_data\n",
    "\n",
    "def ctrl_next_struc_step2(jobs, next_struc_data ):\n",
    "    # ---------- common part\n",
    "    # ------ in case there is no initial strucure data\n",
    "    if next_struc_data is None:\n",
    "        print('ID {:>6}: initial structure is None'.format(\n",
    "        jobs.current_id))\n",
    "        jobs.ctrl_skip()\n",
    "    # ------ normal initial structure data\n",
    "    else:\n",
    "        if False:\n",
    "            # -- prepare input files for structure optimization\n",
    "            if rin.kpt_flag:\n",
    "                print(\"kpt_flag not supported\")\n",
    "                raise ValueError(\"kpt_flag not supported\")\n",
    "                jobs.kpt_data = select_code.next_struc(next_struc_data,\n",
    "                                                   jobs.current_id,\n",
    "                                                   jobs.work_path,\n",
    "                                                   jobs.kpt_data)\n",
    "            else:\n",
    "                print(\"select_code.next_struc\")\n",
    "                print(jobs.current_id, jobs.work_path)\n",
    "                select_code.next_struc(next_struc_data, jobs.current_id,\n",
    "                                   jobs.work_path)\n",
    "            \n",
    "        # -- prepare jobfile\n",
    "        print(\"prepare_jobfile\")\n",
    "        # jobs.prepare_jobfile()\n",
    "        # -- submit\n",
    "        print(\"submit_next_struc\")\n",
    "        jobs.submit_next_struc(dry_run=True)\n",
    "        print('ID {:>6}: submit job, Stage 1'.format(jobs.current_id))\n",
    "        # -- update status\n",
    "        # jobs.update_status(operation='submit')\n",
    "\n",
    "def ctrl_next_struc(jobs):\n",
    "    next_struc_data = ctrl_next_struc_step1(jobs)\n",
    "\n",
    "    ctrl_next_struc_step2(jobs,next_struc_data)\n",
    "    print(\"must call jobs.update_status(operation='submit')\")\n",
    "    \n",
    "    \n",
    "def handle_job_return_dict(jobs):\n",
    "    print('\\n# ---------- job status')\n",
    "    cwd_dict = {}\n",
    "    struc_dict = {}\n",
    "    for cid in jobs.tmp_running:\n",
    "        # ---------- set work_path and current_id\n",
    "        jobs.work_path = './work/{:06}/'.format(cid)\n",
    "        jobs.current_id = cid\n",
    "        # ---------- handle job\n",
    "        if jobs.job_stat[cid] == 'submitted':\n",
    "            print('ID {:>6}: still queueing or running'.format(cid))\n",
    "        elif jobs.job_stat[cid] == 'done':\n",
    "            jobs.ctrl_done()\n",
    "        elif jobs.job_stat[cid] == 'skip':\n",
    "            jobs.ctrl_skip()\n",
    "        elif jobs.job_stat[cid] == 'else':\n",
    "            raise ValueError('Wrong job_stat in {}. '.format(\n",
    "                jobs.work_path))\n",
    "        elif jobs.job_stat[cid] == 'no_file':\n",
    "            ctrl_next_struc(jobs)\n",
    "            key = f'ID_{cid}'\n",
    "            cwd_dict[key] = os.path.abspath(jobs.work_path)\n",
    "            struc_dict[key] = jobs.init_struc_data[jobs.current_id].as_dict()\n",
    "        else:\n",
    "            raise ValueError('Unexpected error in {}stat_job'.format(\n",
    "                jobs.work_path))\n",
    "        \n",
    "    return cwd_dict, struc_dict\n",
    "\n",
    "def finish_job(jobs):\n",
    "    for cid in jobs.tmp_running:\n",
    "        jobs.current_id = cid\n",
    "        jobs.update_status(operation='submit')\n",
    "    "
   ]
  },
  {
   "cell_type": "code",
   "execution_count": null,
   "id": "fe5c69bf",
   "metadata": {},
   "outputs": [],
   "source": [
    "cwd_dict, struc_dict = handle_job_return_dict(jobs)\n"
   ]
  },
  {
   "cell_type": "code",
   "execution_count": null,
   "id": "e603f5c7",
   "metadata": {},
   "outputs": [],
   "source": [
    "jobs.id_queueing, jobs.id_running\n"
   ]
  },
  {
   "cell_type": "code",
   "execution_count": null,
   "id": "7ce5f982",
   "metadata": {},
   "outputs": [],
   "source": [
    "computer_local = 'localhost'\n",
    "code_lammps_opt = get_or_create_code('lammps.optimize',\n",
    "                                     computer_local, 'lammps')\n",
    "meta_options = {\n",
    "    \"resources\": {\n",
    "        \"num_machines\": 1,\n",
    "        \"num_mpiprocs_per_machine\": 4}\n",
    "}\n",
    "code_lammps_opt.label"
   ]
  },
  {
   "cell_type": "code",
   "execution_count": null,
   "id": "41f4954d",
   "metadata": {},
   "outputs": [],
   "source": [
    "# lammps potentials\n",
    "pair_style = 'tersoff'\n",
    "potential_dict = {\n",
    "    'Ga Ga Ga': '1.0 0.007874 1.846 1.918000 0.75000 -0.301300 1.0 1.0 1.44970 410.132 2.87 0.15 1.60916 535.199',\n",
    "    'N  N  N': '1.0 0.766120 0.000 0.178493 0.20172 -0.045238 1.0 1.0 2.38426 423.769 2.20 0.20 3.55779 1044.77',\n",
    "    'Ga Ga N': '1.0 0.001632 0.000 65.20700 2.82100 -0.518000 1.0 0.0 0.00000 0.00000 2.90 0.20 0.00000 0.00000',\n",
    "    'Ga N  N': '1.0 0.001632 0.000 65.20700 2.82100 -0.518000 1.0 1.0 2.63906 3864.27 2.90 0.20 2.93516 6136.44',\n",
    "    'N  Ga Ga': '1.0 0.001632 0.000 65.20700 2.82100 -0.518000 1.0 1.0 2.63906 3864.27 2.90 0.20 2.93516 6136.44',\n",
    "    'N  Ga N ': '1.0 0.766120 0.000 0.178493 0.20172 -0.045238 1.0 0.0 0.00000 0.00000 2.20 0.20 0.00000 0.00000',\n",
    "    'N  N  Ga': '1.0 0.001632 0.000 65.20700 2.82100 -0.518000 1.0 0.0 0.00000 0.00000 2.90 0.20 0.00000 0.00000',\n",
    "    'Ga N  Ga': '1.0 0.007874 1.846 1.918000 0.75000 -0.301300 1.0 0.0 0.00000 0.00000 2.87 0.15 0.00000 0.00000'}\n",
    "potential = DataFactory(\"lammps.potential\")(\n",
    "    type=pair_style, data=potential_dict\n",
    ")\n",
    "potential.attributes"
   ]
  },
  {
   "cell_type": "code",
   "execution_count": null,
   "id": "e68db394",
   "metadata": {},
   "outputs": [],
   "source": [
    "# lammps.optimize parameters\n",
    "parameters = DataFactory('dict')(dict={\n",
    "    'lammps_version': lammps_version(),\n",
    "    'output_variables': [\"temp\", \"etotal\", \"pe\", \"ke\"],\n",
    "    'thermo_keywords': [],\n",
    "    'units': 'metal',\n",
    "    'relax': {\n",
    "        'type': 'aniso',\n",
    "        'pressure': 0.0,\n",
    "        'vmax': 0.005,\n",
    "    },\n",
    "    \"minimize\": {\n",
    "        'style': 'cg',\n",
    "        'energy_tolerance': 1.0e-5,\n",
    "        'force_tolerance': 1.0e-3,\n",
    "        'max_iterations': 1000,\n",
    "        'max_evaluations': 10000\n",
    "        }\n",
    "})\n"
   ]
  },
  {
   "cell_type": "raw",
   "id": "a7969c65",
   "metadata": {},
   "source": [
    "# lammps.optimize test\n",
    "\n",
    "struc = Structure.from_dict(initial_structures[\"ID_0\"][\"struc\"])\n",
    "\n",
    "builder = code_lammps_opt.get_builder()\n",
    "builder.structure = StructureData(pymatgen=struc)\n",
    "builder.potential = potential\n",
    "builder.parameters = parameters\n",
    "builder.metadata.options = meta_options\n",
    "\n",
    "result, code = run_get_node(builder)\n",
    "result\n"
   ]
  },
  {
   "cell_type": "code",
   "execution_count": null,
   "id": "5cc88dee",
   "metadata": {},
   "outputs": [],
   "source": [
    "if len(struc_dict)>0 and len(cwd_dict)>0:\n",
    "    inputs = {'code_string': Str(code_lammps_opt.label),\n",
    "             \"initial_structures\": Dict(dict=struc_dict),\n",
    "             \"cwd\": Dict(dict=cwd_dict),\n",
    "             \"potential\": potential,\n",
    "             \"parameters\": parameters}\n",
    "    optimization_simulator_lammps_WorkChain = WorkflowFactory('cryspy.optimize_structures_lammps')\n",
    "    result, node = run_get_node(optimization_simulator_lammps_WorkChain, **inputs)\n",
    "    finish_job(jobs)"
   ]
  },
  {
   "cell_type": "code",
   "execution_count": null,
   "id": "c122cedc",
   "metadata": {},
   "outputs": [],
   "source": [
    "jobs.id_queueing,jobs.id_running\n"
   ]
  },
  {
   "cell_type": "code",
   "execution_count": null,
   "id": "c2d32c08",
   "metadata": {},
   "outputs": [],
   "source": [
    "print(not (jobs.id_queueing or jobs.id_running))\n",
    "if not (jobs.id_queueing or jobs.id_running):\n",
    "    jobs.next_sg()"
   ]
  },
  {
   "cell_type": "markdown",
   "id": "741004d6",
   "metadata": {},
   "source": [
    "# next run"
   ]
  },
  {
   "cell_type": "code",
   "execution_count": null,
   "id": "763ebfa4",
   "metadata": {},
   "outputs": [],
   "source": [
    "stat, struc_dict = cryspy_restart.restart()\n",
    "jobs = Ctrl_job(stat, init_struc_data)\n",
    "jobs.check_job()\n",
    "cwd_dict, struc_dict = handle_job_return_dict(jobs)\n"
   ]
  },
  {
   "cell_type": "code",
   "execution_count": null,
   "id": "b8e05546",
   "metadata": {},
   "outputs": [],
   "source": [
    "jobs.id_queueing, jobs.id_running\n"
   ]
  },
  {
   "cell_type": "code",
   "execution_count": null,
   "id": "333cd33b",
   "metadata": {},
   "outputs": [],
   "source": [
    "cwd_dict, struc_dict\n"
   ]
  },
  {
   "cell_type": "code",
   "execution_count": null,
   "id": "4bc0125a",
   "metadata": {},
   "outputs": [],
   "source": [
    "len(struc_dict)\n"
   ]
  },
  {
   "cell_type": "code",
   "execution_count": null,
   "id": "d0128622",
   "metadata": {},
   "outputs": [],
   "source": [
    "if len(struc_dict)>0 and len(cwd_dict)>0:\n",
    "    inputs = {'code_string': Str(code_lammps_opt.label),\n",
    "             \"initial_structures\": Dict(dict=struc_dict),\n",
    "             \"cwd\": Dict(dict=cwd_dict),\n",
    "             \"potential\": potential,\n",
    "             \"parameters\": parameters}\n",
    "    optimization_simulator_lammps_WorkChain = WorkflowFactory('cryspy.optimize_structures_lammps')\n",
    "    result, node = run_get_node(optimization_simulator_lammps_WorkChain, **inputs)\n",
    "    finish_job(jobs)\n",
    "    "
   ]
  },
  {
   "cell_type": "code",
   "execution_count": null,
   "id": "e3a3fe91",
   "metadata": {},
   "outputs": [],
   "source": [
    "jobs.id_queueing, jobs.id_running"
   ]
  },
  {
   "cell_type": "code",
   "execution_count": null,
   "id": "2c4d4a53",
   "metadata": {},
   "outputs": [],
   "source": [
    "def convert_struc_dict_to_aiidatype(init_struc):\n",
    "    \"\"\"\n",
    "    CrySPYの init_struc_dataを\n",
    "    workflowのoutputはAiiDAで扱える型への変換を行う。\n",
    "    \"\"\"\n",
    "    init_struc_data = {}\n",
    "    for ID, value in init_struc.items():\n",
    "        if isinstance(value, dict) or isinstance(value, float) or isinstance(value, int):\n",
    "            struc = value\n",
    "        elif isinstance(value,Structure):\n",
    "            struc = value.as_dict()\n",
    "        else:\n",
    "            raise TypeError(f'unknown value type {type(value)}')\n",
    "        key = f'{ID_PREFIX}{ID}'\n",
    "        init_struc_data[key] = struc\n",
    "    return init_struc_data\n",
    "\n",
    "def convert_df_to_aiida_type(rslt_data):\n",
    "    result = {}\n",
    "    for label in rslt_data.columns:\n",
    "        value = rslt_data[label].values.tolist()\n",
    "        result[label] = value\n",
    "    return result\n",
    "\n",
    "def convert_df_from_aiida_type(rslt_data):\n",
    "    if isinstance(rslt_data,Dict):\n",
    "        rslt_data = rslt_data.get_dict()\n",
    "    return pd.DataFrame(rslt_data)\n"
   ]
  },
  {
   "cell_type": "code",
   "execution_count": null,
   "id": "919e9bb6",
   "metadata": {},
   "outputs": [],
   "source": [
    "from CrySPY.IO import read_input as rin\n",
    "from CrySPY.EA import ea_next_gen\n",
    "import os\n",
    "\n",
    "'''\n",
    "Generational change in evolutionary algorithm\n",
    "'''\n",
    "\n",
    "import pandas as pd\n",
    "\n",
    "from CrySPY.EA.ea_child import child_gen\n",
    "from CrySPY.gen_struc.EA.select_parents import Select_parents\n",
    "from CrySPY.IO import out_results\n",
    "from CrySPY.IO import change_input, io_stat, pkl_data\n",
    "from CrySPY.IO import read_input as rin\n",
    "\n",
    "\n",
    "def next_gen_dict(stat, init_struc_data, opt_struc_data, rslt_data, ea_id_data):\n",
    "    _stat = stat\n",
    "    stat = ConfigParser()\n",
    "    stat.read_dict(_stat)\n",
    "\n",
    "    _init_struc_data = init_struc_data\n",
    "    init_struc_data = convert_struc_dict_from_aiidatype(init_struc_data)\n",
    "    _opt_struc_data = opt_struc_data\n",
    "    opt_struc_data = convert_struc_dict_from_aiidatype(opt_struc_data)\n",
    "    _rslt_data = rslt_data\n",
    "    rslt_data = convert_df_from_aiida_type(rslt_data)\n",
    "    \n",
    "    # ---------- ea_id_data\n",
    "    gen, id_queueing, id_running = ea_id_data[\"gen\"], ea_id_data[\"id_queueing\"], ea_id_data[\"id_running\"]\n",
    "\n",
    "    # ---------- out and log\n",
    "    with open('cryspy.out', 'a') as fout:\n",
    "        fout.write('# ---------- Evolutionary algorithm\\n\\n')\n",
    "        fout.write('# ------ Generation {}\\n'.format(gen + 1))\n",
    "    print('# ---------- Evolutionary algorithm\\n')\n",
    "    print('# ------ Generation {}'.format(gen + 1))\n",
    "\n",
    "    # ---------- current generation\n",
    "    c_rslt = rslt_data[rslt_data['Gen'] == gen]\n",
    "    c_fitness = c_rslt['E_eV_atom'].to_dict()    # {ID: energy, ...}\n",
    "\n",
    "    # ---------- load ea_data, ea_data is used only in this module\n",
    "    elite_struc, elite_fitness, ea_info, ea_origin = pkl_data.load_ea_data()\n",
    "\n",
    "    # ---------- instantiate Seclect_parents class\n",
    "    print('# -- select parents')\n",
    "    sp = Select_parents(opt_struc_data, c_fitness, elite_struc, elite_fitness,\n",
    "                        rin.fit_reverse, rin.n_fittest,\n",
    "                        rin.emax_ea, rin.emin_ea)\n",
    "    if rin.slct_func == 'TNM':\n",
    "        sp.set_tournament(t_size=rin.t_size)\n",
    "    else:\n",
    "        sp.set_roulette(a=rin.a_rlt, b=rin.b_rlt)\n",
    "\n",
    "    # ---------- generate offspring by EA\n",
    "    print('# -- Generate structures')\n",
    "    _, eagen = child_gen(sp, init_struc_data)\n",
    "\n",
    "    # ---------- select elite\n",
    "    if rin.n_elite > 0:\n",
    "        print('# -- select elites')\n",
    "        # ------ init\n",
    "        all_fitness = rslt_data['E_eV_atom'].to_dict()    # {ID: energy, ..,}\n",
    "        elite_struc = {}\n",
    "        elite_fitness = {}\n",
    "        # ------ Select_parents class also works for selecting elite structures\n",
    "        se = Select_parents(opt_struc_data, all_fitness, None, None,\n",
    "                            rin.fit_reverse, rin.n_elite,\n",
    "                            rin.emax_ea, rin.emin_ea)\n",
    "        for cid in se.ranking_dedupe:\n",
    "            print('Structure ID {0:>6} keeps as the elite'.format(cid))\n",
    "            elite_struc[cid] = opt_struc_data[cid]\n",
    "            elite_fitness[cid] = all_fitness[cid]\n",
    "    else:\n",
    "        elite_struc = None\n",
    "        elite_fitness = None\n",
    "    # ---------- out\n",
    "    with open('cryspy.out', 'a') as fout:\n",
    "        fout.write('{} structures keeps as the elite\\n'.format(rin.n_elite))\n",
    "\n",
    "    # ---------- new generation\n",
    "    gen += 1\n",
    "\n",
    "    # ---------- id_queueing\n",
    "    id_queueing = [i for i in range(rin.tot_struc, rin.tot_struc + rin.n_pop)]\n",
    "\n",
    "    # ---------- ea_info\n",
    "    tmp_info = pd.Series([gen, rin.n_pop, rin.n_crsov, rin.n_perm,\n",
    "                          rin.n_strain, rin.n_rand, rin.n_elite,\n",
    "                          rin.crs_lat, rin.slct_func],\n",
    "                         index=ea_info.columns)\n",
    "    ea_info = ea_info.append(tmp_info, ignore_index=True)\n",
    "    # ------ out ea_info\n",
    "    out_results.out_ea_info(ea_info)\n",
    "\n",
    "    # ---------- ea_origin\n",
    "    # ------ EA operation part\n",
    "    for cid in range(rin.tot_struc, rin.tot_struc + rin.n_pop - rin.n_rand):\n",
    "        tmp_origin = pd.Series([gen, cid, eagen.operation[cid],\n",
    "                                eagen.parents[cid]], index=ea_origin.columns)\n",
    "        ea_origin = ea_origin.append(tmp_origin, ignore_index=True)\n",
    "    # ------ random part\n",
    "    for cid in range(rin.tot_struc + rin.n_pop - rin.n_rand,\n",
    "                     rin.tot_struc + rin.n_pop):\n",
    "        tmp_origin = pd.Series([gen, cid, 'random', None],\n",
    "                               index=ea_origin.columns)\n",
    "        ea_origin = ea_origin.append(tmp_origin, ignore_index=True)\n",
    "    # ------ elite part\n",
    "    if rin.n_elite > 0:\n",
    "        for cid in se.ranking_dedupe:\n",
    "            tmp_origin = pd.Series([gen, cid, 'elite', 'elite'],\n",
    "                                   index=ea_origin.columns)\n",
    "            ea_origin = ea_origin.append(tmp_origin, ignore_index=True)\n",
    "    # ------ out ea_origin\n",
    "\n",
    "    _ea_origin_dict = convert_df_to_aiida_type(ea_origin)\n",
    "    out_results.out_ea_origin(ea_origin)\n",
    "\n",
    "    # ---------- save ea_id_data\n",
    "    ea_id_data = (gen, id_queueing, id_running)\n",
    "    _ea_id_data_dict = {'gen': gen, 'id_queueing':id_queueing, 'id_running': id_running }\n",
    "    pkl_data.save_ea_id(ea_id_data)\n",
    "\n",
    "    # ---------- save ea_data\n",
    "    ea_data = (elite_struc, elite_fitness, ea_info, ea_origin)\n",
    "    _ea_data_dict = convert_struc_dict_to_aiidatype(elite_struc)\n",
    "    _elite_fitness_dict = convert_struc_dict_to_aiidatype(elite_fitness)\n",
    "    _ea_info_dict = convert_df_to_aiida_type(ea_info)\n",
    "    _ea_origin_dict = convert_df_to_aiida_type(ea_origin)\n",
    "    pkl_data.save_ea_data(ea_data)\n",
    "\n",
    "    # ---------- change the value of tot_struc\n",
    "    config = change_input.config_read()\n",
    "    change_input.change_basic(config, 'tot_struc', rin.tot_struc + rin.n_pop)\n",
    "    change_input.write_config(config)\n",
    "    print('# -- changed cryspy.in')\n",
    "    print('Changed the value of tot_struc in cryspy.in'\n",
    "          ' from {} to {}'.format(\n",
    "              rin.tot_struc, rin.tot_struc + rin.n_pop))\n",
    "\n",
    "    # ---------- status\n",
    "    io_stat.set_input_common(stat, 'basic', 'tot_struc', rin.tot_struc + rin.n_pop)\n",
    "    io_stat.set_common(stat, 'generation', gen)\n",
    "    io_stat.set_id(stat, 'id_queueing', id_queueing)\n",
    "    _stat = stat._sections\n",
    "    io_stat.write_stat(stat)\n",
    "\n",
    "\n",
    "def next_gen_EA(job):\n",
    "    # ---------- log and out\n",
    "    with open('cryspy.out', 'a') as fout:\n",
    "        fout.write('\\nDone generation {}\\n\\n'.format(job.gen))\n",
    "    print('\\nDone generation {}\\n'.format(job.gen))\n",
    "    # ---------- check point 3\n",
    "    if rin.stop_chkpt == 3:\n",
    "        print('\\nStop at check point 3: EA is ready\\n')\n",
    "        # os.remove('lock_cryspy')\n",
    "        raise SystemExit()\n",
    "    # ---------- maxgen_ea\n",
    "    if 0 < rin.maxgen_ea <= job.gen:\n",
    "        print('\\nReached maxgen_ea: {}\\n'.format(rin.maxgen_ea))\n",
    "        # os.remove('lock_cryspy')\n",
    "        raise SystemExit()\n",
    "    # ---------- EA\n",
    "    ea_id_data = (job.gen, job.id_queueing, job.id_running)\n",
    "    \n",
    "    stat_dict =jobs.stat._sections\n",
    "    init_struc_dic = convert_struc_dict_to_aiidatype(jobs.init_struc_data)\n",
    "    opt_struc_dic = convert_struc_dict_to_aiidatype(jobs.opt_struc_data)\n",
    "    rslt_data_dic = convert_df_to_aiida_type(jobs.rslt_data)\n",
    "    ea_id_data_dic = {'gen':job.gen, 'id_queueing': job.id_queueing, \n",
    "                      'id_running': job.id_running}\n",
    "\n",
    "    next_gen_dict(stat_dict, init_struc_dic,\n",
    "                         opt_struc_dic, rslt_data_dic, ea_id_data_dic)\n",
    "    \n",
    "\n",
    "def next_sg(job):\n",
    "    '''\n",
    "    next selection or generation\n",
    "    '''\n",
    "    if rin.algo == 'BO':\n",
    "        # job.next_select_BO()\n",
    "        raise ValueError('not supported.')\n",
    "    if rin.algo == 'LAQA':\n",
    "        # job.next_select_LAQA()\n",
    "        raise ValueError('not supported.')\n",
    "    if rin.algo == 'EA':\n",
    "        next_gen_EA(job)\n"
   ]
  },
  {
   "cell_type": "code",
   "execution_count": null,
   "id": "0a960a94",
   "metadata": {
    "scrolled": false
   },
   "outputs": [],
   "source": [
    "print(len(jobs.id_queueing), len(jobs.id_running))\n",
    "if not (jobs.id_queueing or jobs.id_running):\n",
    "    next_sg(jobs)\n",
    "    "
   ]
  },
  {
   "cell_type": "markdown",
   "id": "03586bb3",
   "metadata": {},
   "source": [
    "# next run"
   ]
  },
  {
   "cell_type": "code",
   "execution_count": null,
   "id": "cace9079",
   "metadata": {},
   "outputs": [],
   "source": [
    "init_struc_data.keys()"
   ]
  },
  {
   "cell_type": "code",
   "execution_count": null,
   "id": "5352640b",
   "metadata": {},
   "outputs": [],
   "source": [
    "stat, struc_dict = cryspy_restart.restart()\n",
    "struc_dict"
   ]
  },
  {
   "cell_type": "code",
   "execution_count": null,
   "id": "575880d2",
   "metadata": {},
   "outputs": [],
   "source": [
    "jobs = Ctrl_job(stat, struc_dict) # init_struc_dataの更新の必要がある。\n",
    "jobs.check_job()"
   ]
  },
  {
   "cell_type": "code",
   "execution_count": null,
   "id": "f0d6007d",
   "metadata": {},
   "outputs": [],
   "source": [
    "stat[\"basic\"][\"tot_struc\"]"
   ]
  },
  {
   "cell_type": "code",
   "execution_count": null,
   "id": "7c20b1f9",
   "metadata": {},
   "outputs": [],
   "source": []
  },
  {
   "cell_type": "code",
   "execution_count": null,
   "id": "a8bcd7f9",
   "metadata": {},
   "outputs": [],
   "source": []
  },
  {
   "cell_type": "code",
   "execution_count": null,
   "id": "a467ac6b",
   "metadata": {},
   "outputs": [],
   "source": [
    "cwd_dict, struc_dict = handle_job_return_dict(jobs)"
   ]
  },
  {
   "cell_type": "code",
   "execution_count": null,
   "id": "2600fba0",
   "metadata": {},
   "outputs": [],
   "source": [
    "jobs.init_struc_data"
   ]
  },
  {
   "cell_type": "code",
   "execution_count": null,
   "id": "d626e5a4",
   "metadata": {},
   "outputs": [],
   "source": [
    "jobs.id_queueing, jobs.id_running\n"
   ]
  },
  {
   "cell_type": "code",
   "execution_count": null,
   "id": "dda0ca55",
   "metadata": {},
   "outputs": [],
   "source": [
    "cwd_dict, struc_dict\n"
   ]
  },
  {
   "cell_type": "code",
   "execution_count": null,
   "id": "194fdef2",
   "metadata": {},
   "outputs": [],
   "source": [
    "if len(struc_dict)>0 and len(cwd_dict)>0:\n",
    "    inputs = {'code_string': Str(code_lammps_opt.label),\n",
    "             \"initial_structures\": Dict(dict=struc_dict),\n",
    "             \"cwd\": Dict(dict=cwd_dict),\n",
    "             \"potential\": potential,\n",
    "             \"parameters\": parameters}\n",
    "    optimization_simulator_lammps_WorkChain = WorkflowFactory('cryspy.optimize_structures_lammps')\n",
    "    result, node = run_get_node(optimization_simulator_lammps_WorkChain, **inputs)\n",
    "    finish_job(jobs)\n",
    "    "
   ]
  },
  {
   "cell_type": "code",
   "execution_count": null,
   "id": "a4284023",
   "metadata": {},
   "outputs": [],
   "source": [
    "print(len(jobs.id_queueing), len(jobs.id_running))\n",
    "if not (jobs.id_queueing or jobs.id_running):\n",
    "    jobs.next_sg()\n",
    "    "
   ]
  },
  {
   "cell_type": "markdown",
   "id": "35abb0c4",
   "metadata": {},
   "source": [
    "# next run\n"
   ]
  },
  {
   "cell_type": "code",
   "execution_count": null,
   "id": "fb2c85e2",
   "metadata": {},
   "outputs": [],
   "source": [
    "stat, struc_dict = cryspy_restart.restart()\n",
    "jobs = Ctrl_job(stat, struc_dict)\n",
    "jobs.check_job()\n",
    "cwd_dict, struc_dict = handle_job_return_dict(jobs)\n"
   ]
  },
  {
   "cell_type": "code",
   "execution_count": null,
   "id": "47a9676b",
   "metadata": {},
   "outputs": [],
   "source": [
    "jobs.id_queueing, jobs.id_running"
   ]
  },
  {
   "cell_type": "code",
   "execution_count": null,
   "id": "a30d682c",
   "metadata": {},
   "outputs": [],
   "source": [
    "cwd_dict, struc_dict"
   ]
  },
  {
   "cell_type": "code",
   "execution_count": null,
   "id": "79c628c5",
   "metadata": {},
   "outputs": [],
   "source": [
    "if len(struc_dict)>0 and len(cwd_dict)>0:\n",
    "    inputs = {'code_string': Str(code_lammps_opt.label),\n",
    "             \"initial_structures\": Dict(dict=struc_dict),\n",
    "             \"cwd\": Dict(dict=cwd_dict),\n",
    "             \"potential\": potential,\n",
    "             \"parameters\": parameters}\n",
    "    optimization_simulator_lammps_WorkChain = WorkflowFactory('cryspy.optimize_structures_lammps')\n",
    "    result, node = run_get_node(optimization_simulator_lammps_WorkChain, **inputs)\n",
    "    finish_job(jobs)"
   ]
  },
  {
   "cell_type": "code",
   "execution_count": null,
   "id": "7dfb7710",
   "metadata": {},
   "outputs": [],
   "source": [
    "print(len(jobs.id_queueing), len(jobs.id_running))\n",
    "if not (jobs.id_queueing or jobs.id_running):\n",
    "    jobs.next_sg()"
   ]
  },
  {
   "cell_type": "code",
   "execution_count": null,
   "id": "87c357e4",
   "metadata": {},
   "outputs": [],
   "source": [
    "!verdi graph generate 14891"
   ]
  },
  {
   "cell_type": "code",
   "execution_count": null,
   "id": "fc929e12",
   "metadata": {},
   "outputs": [],
   "source": [
    "!pwd"
   ]
  },
  {
   "cell_type": "code",
   "execution_count": null,
   "id": "766f5337",
   "metadata": {},
   "outputs": [],
   "source": []
  }
 ],
 "metadata": {
  "kernelspec": {
   "display_name": "py39",
   "language": "python",
   "name": "py39"
  },
  "language_info": {
   "codemirror_mode": {
    "name": "ipython",
    "version": 3
   },
   "file_extension": ".py",
   "mimetype": "text/x-python",
   "name": "python",
   "nbconvert_exporter": "python",
   "pygments_lexer": "ipython3",
   "version": "3.9.13"
  }
 },
 "nbformat": 4,
 "nbformat_minor": 5
}
