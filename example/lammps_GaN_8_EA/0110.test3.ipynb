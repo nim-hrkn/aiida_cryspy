{
 "cells": [
  {
   "cell_type": "code",
   "execution_count": null,
   "id": "4021e8d0",
   "metadata": {},
   "outputs": [],
   "source": [
    "#!/usr/bin/env python3\n",
    "'''\n",
    "Main script\n",
    "'''\n",
    "\n",
    "import os\n",
    "from pymatgen.io.vasp.inputs import Poscar\n",
    "from pymatgen.core import Structure\n",
    "\n",
    "from CrySPY.interface import select_code\n",
    "from CrySPY.job.ctrl_job import Ctrl_job\n",
    "from CrySPY.IO import read_input as rin\n",
    "from CrySPY.start import cryspy_init, cryspy_restart\n",
    "\n",
    "from aiida_lammps.tests.utils import (\n",
    "    get_or_create_local_computer, get_or_create_code)\n",
    "from aiida_lammps.tests.utils import lammps_version\n",
    "\n",
    "from aiida.engine import run_get_node, run, submit\n",
    "from aiida.plugins import DataFactory, WorkflowFactory\n",
    "import numpy as np\n",
    "from aiida.orm import Code\n",
    "from aiida.orm import Str, Dict, Int, List, Float\n",
    "from aiida.engine import calcfunction, WorkChain, append_\n",
    "from aiida.plugins import DataFactory\n",
    "from itertools import cycle\n",
    "import os\n",
    "import io\n",
    "from configparser import ConfigParser\n",
    "\n",
    "from CrySPY.gen_struc.random.gen_pyxtal import Rnd_struc_gen_pyxtal"
   ]
  },
  {
   "cell_type": "code",
   "execution_count": null,
   "id": "3e4b6ea7",
   "metadata": {},
   "outputs": [],
   "source": [
    "import aiida\n",
    "aiida.load_profile()"
   ]
  },
  {
   "cell_type": "code",
   "execution_count": null,
   "id": "d0e121a5",
   "metadata": {},
   "outputs": [],
   "source": [
    "# load types\n",
    "StructureData = DataFactory('structure')\n",
    "FolderData = DataFactory('folder')\n",
    "SinglefileData = DataFactory('singlefile')\n",
    "ArrayData = DataFactory('array')\n",
    "List = DataFactory('list')\n",
    "LammpsPotential = DataFactory('lammps.potential')\n",
    "TrajectoryData = DataFactory('array.trajectory')\n"
   ]
  },
  {
   "cell_type": "code",
   "execution_count": null,
   "id": "da8044c2",
   "metadata": {},
   "outputs": [],
   "source": [
    "SIMULATOR_PREFIX = 'simulator_'\n",
    "ID_PREFIX = 'ID_'"
   ]
  },
  {
   "cell_type": "code",
   "execution_count": null,
   "id": "69aa3d40",
   "metadata": {},
   "outputs": [],
   "source": [
    "# nodebank settings\n",
    "\n",
    "from tools.nodebank import NodeBank\n",
    "pwd = os.getcwd()\n",
    "print(pwd)\n",
    "nodebank = NodeBank(pwd)\n"
   ]
  },
  {
   "cell_type": "code",
   "execution_count": null,
   "id": "9d3265f0",
   "metadata": {
    "scrolled": false
   },
   "outputs": [],
   "source": [
    "pwd = os.getcwd()\n",
    "cryspy_in = SinglefileData(os.path.join(pwd, 'cryspy.in0'))\n",
    "inputs = {'cryspy_in': cryspy_in}\n",
    "initialize_WorkChain = WorkflowFactory('cryspy.initial_structures')\n",
    "result = run(initialize_WorkChain, **inputs)"
   ]
  },
  {
   "cell_type": "code",
   "execution_count": null,
   "id": "0b8cee99",
   "metadata": {},
   "outputs": [],
   "source": [
    "# workflow結果表示\n",
    "result"
   ]
  },
  {
   "cell_type": "code",
   "execution_count": null,
   "id": "97cb90f1",
   "metadata": {},
   "outputs": [],
   "source": [
    "import shutil\n",
    "# cryspy.inは実行中に書き換えられる。\n",
    "shutil.copy(\"cryspy.in0\", \"cryspy.in\")"
   ]
  },
  {
   "cell_type": "code",
   "execution_count": null,
   "id": "903b0947",
   "metadata": {},
   "outputs": [],
   "source": [
    "# workflowのoutputはAiiDAで扱える型。\n",
    "# CrySPYの init_struc_dataへの変換を行う。\n",
    "\n",
    "def convert_init_struc_to_Structuredict(init_struc):\n",
    "    \"\"\"\n",
    "    workflowのoutputはAiiDAで扱える型なので、\n",
    "    CrySPYの init_struc_dataへの変換を行う。\n",
    "    \"\"\"\n",
    "    init_struc_data = {}\n",
    "    for key,value in init_struc.get_dict().items():\n",
    "        struc = Structure.from_dict(value)\n",
    "        key = int(key.replace(ID_PREFIX,\"\"))\n",
    "        init_struc_data[key] = struc #.as_dict()\n",
    "    return init_struc_data\n",
    "\n",
    "init_struc_data = convert_init_struc_to_Structuredict(result[\"init_struc\"])\n",
    "init_struc_data"
   ]
  },
  {
   "cell_type": "code",
   "execution_count": null,
   "id": "101b4bdf",
   "metadata": {},
   "outputs": [],
   "source": [
    "\n",
    "@calcfunction\n",
    "def aiida_load_stat():\n",
    "    \"\"\"\n",
    "    configparserの型をAiiDAで扱えるDictに変換\n",
    "    \"\"\"\n",
    "    stat, init_struc_data = cryspy_restart.restart()\n",
    "    stat_dict = stat._sections\n",
    "    return Dict(dict=stat_dict)\n",
    "\n",
    "if False:\n",
    "    @calcfunction\n",
    "    def aiida_load_init_struc_data():\n",
    "        stat, struc_dict = cryspy_restart.restart()\n",
    "        structures = {}\n",
    "        for _i, value in struc_dict.items():\n",
    "            content = value.as_dict()\n",
    "            key = f'ID_{_i}'\n",
    "            structures[key] = content\n",
    "        return Dict(dict=structures)                \n",
    "    self.out('init_struc', aiida_load_init_struc_data())\n",
    "\n",
    "stat_dic = aiida_load_stat()\n",
    "stat = ConfigParser()\n",
    "stat.read_dict(dictionary=stat_dic.get_dict())\n",
    "# stat ConfigParser is given.\n"
   ]
  },
  {
   "cell_type": "code",
   "execution_count": null,
   "id": "a93d771b",
   "metadata": {},
   "outputs": [],
   "source": [
    "os.makedirs(\"work\", exist_ok=True)\n",
    "jobs = Ctrl_job(stat, init_struc_data)\n",
    "jobs.check_job()\n"
   ]
  },
  {
   "cell_type": "code",
   "execution_count": null,
   "id": "2a9bbf37",
   "metadata": {},
   "outputs": [],
   "source": [
    "def ctrl_next_struc_step1(jobs):\n",
    "    # ---------- RS\n",
    "    if rin.algo == 'RS':\n",
    "        next_struc_data = jobs.init_struc_data[jobs.current_id]\n",
    "    # ---------- BO\n",
    "    elif rin.algo == 'BO':\n",
    "        next_struc_data = jobs.init_struc_data[jobs.current_id]\n",
    "    # ---------- LAQA\n",
    "    elif rin.algo == 'LAQA':\n",
    "        if jobs.laqa_struc[jobs.current_id]:    # vacant list?\n",
    "            next_struc_data = jobs.laqa_struc[jobs.current_id][-1]\n",
    "        else:\n",
    "            next_struc_data = jobs.init_struc_data[jobs.current_id]\n",
    "    # ---------- EA\n",
    "    elif rin.algo == 'EA':\n",
    "        next_struc_data = jobs.init_struc_data[jobs.current_id]\n",
    "    # ---------- algo is wrong\n",
    "    else:\n",
    "        raise ValueError('Error, algo')\n",
    "        \n",
    "    return next_struc_data\n",
    "\n",
    "def ctrl_next_struc_step2(jobs, next_struc_data ):\n",
    "    # ---------- common part\n",
    "    # ------ in case there is no initial strucure data\n",
    "    if next_struc_data is None:\n",
    "        print('ID {:>6}: initial structure is None'.format(\n",
    "        jobs.current_id))\n",
    "        jobs.ctrl_skip()\n",
    "    # ------ normal initial structure data\n",
    "    else:\n",
    "        if False:\n",
    "            # -- prepare input files for structure optimization\n",
    "            if rin.kpt_flag:\n",
    "                print(\"kpt_flag not supported\")\n",
    "                raise ValueError(\"kpt_flag not supported\")\n",
    "                jobs.kpt_data = select_code.next_struc(next_struc_data,\n",
    "                                                   jobs.current_id,\n",
    "                                                   jobs.work_path,\n",
    "                                                   jobs.kpt_data)\n",
    "            else:\n",
    "                print(\"select_code.next_struc\")\n",
    "                print(jobs.current_id, jobs.work_path)\n",
    "                select_code.next_struc(next_struc_data, jobs.current_id,\n",
    "                                   jobs.work_path)\n",
    "            \n",
    "        # -- prepare jobfile\n",
    "        print(\"prepare_jobfile\")\n",
    "        # jobs.prepare_jobfile()\n",
    "        # -- submit\n",
    "        print(\"submit_next_struc\")\n",
    "        jobs.submit_next_struc(dry_run=True)\n",
    "        print('ID {:>6}: submit job, Stage 1'.format(jobs.current_id))\n",
    "        # -- update status\n",
    "        # jobs.update_status(operation='submit')\n",
    "\n",
    "def ctrl_next_struc(jobs):\n",
    "    next_struc_data = ctrl_next_struc_step1(jobs)\n",
    "\n",
    "    ctrl_next_struc_step2(jobs,next_struc_data)\n",
    "    print(\"must call jobs.update_status(operation='submit')\")\n",
    "    \n",
    "    \n",
    "def handle_job(jobs):\n",
    "    print('\\n# ---------- job status')\n",
    "    cwd_dict = {}\n",
    "    struc_dict = {}\n",
    "    for cid in jobs.tmp_running:\n",
    "        # ---------- set work_path and current_id\n",
    "        jobs.work_path = './work/{:06}/'.format(cid)\n",
    "        jobs.current_id = cid\n",
    "        # ---------- handle job\n",
    "        if jobs.job_stat[cid] == 'submitted':\n",
    "            print('ID {:>6}: still queueing or running'.format(cid))\n",
    "        elif jobs.job_stat[cid] == 'done':\n",
    "            jobs.ctrl_done()\n",
    "        elif jobs.job_stat[cid] == 'skip':\n",
    "            jobs.ctrl_skip()\n",
    "        elif jobs.job_stat[cid] == 'else':\n",
    "            raise ValueError('Wrong job_stat in {}. '.format(\n",
    "                jobs.work_path))\n",
    "        elif jobs.job_stat[cid] == 'no_file':\n",
    "            ctrl_next_struc(jobs)\n",
    "            key = f'ID_{cid}'\n",
    "            cwd_dict[key] = os.path.abspath(jobs.work_path)\n",
    "            struc_dict[key] = jobs.init_struc_data[jobs.current_id].as_dict()\n",
    "        else:\n",
    "            raise ValueError('Unexpected error in {}stat_job'.format(\n",
    "                jobs.work_path))\n",
    "        \n",
    "    return cwd_dict, struc_dict\n",
    "\n",
    "def finish_job(jobs):\n",
    "    for cid in jobs.tmp_running:\n",
    "        jobs.current_id = cid\n",
    "        jobs.update_status(operation='submit')\n",
    "    "
   ]
  },
  {
   "cell_type": "code",
   "execution_count": null,
   "id": "fe5c69bf",
   "metadata": {},
   "outputs": [],
   "source": [
    "cwd_dict, struc_dict = handle_job(jobs)\n"
   ]
  },
  {
   "cell_type": "code",
   "execution_count": null,
   "id": "e603f5c7",
   "metadata": {
    "scrolled": true
   },
   "outputs": [],
   "source": [
    "jobs.id_queueing, jobs.id_running\n"
   ]
  },
  {
   "cell_type": "code",
   "execution_count": null,
   "id": "2dcf4d41",
   "metadata": {},
   "outputs": [],
   "source": []
  },
  {
   "cell_type": "code",
   "execution_count": null,
   "id": "7ce5f982",
   "metadata": {},
   "outputs": [],
   "source": [
    "computer_local = 'localhost'\n",
    "code_lammps_opt = get_or_create_code('lammps.optimize',\n",
    "                                     computer_local, 'lammps')\n",
    "meta_options = {\n",
    "    \"resources\": {\n",
    "        \"num_machines\": 1,\n",
    "        \"num_mpiprocs_per_machine\": 4}\n",
    "}\n",
    "code_lammps_opt.label"
   ]
  },
  {
   "cell_type": "code",
   "execution_count": null,
   "id": "0b9abc48",
   "metadata": {},
   "outputs": [],
   "source": []
  },
  {
   "cell_type": "code",
   "execution_count": null,
   "id": "41f4954d",
   "metadata": {},
   "outputs": [],
   "source": [
    "# lammps potentials\n",
    "pair_style = 'tersoff'\n",
    "potential_dict = {\n",
    "    'Ga Ga Ga': '1.0 0.007874 1.846 1.918000 0.75000 -0.301300 1.0 1.0 1.44970 410.132 2.87 0.15 1.60916 535.199',\n",
    "    'N  N  N': '1.0 0.766120 0.000 0.178493 0.20172 -0.045238 1.0 1.0 2.38426 423.769 2.20 0.20 3.55779 1044.77',\n",
    "    'Ga Ga N': '1.0 0.001632 0.000 65.20700 2.82100 -0.518000 1.0 0.0 0.00000 0.00000 2.90 0.20 0.00000 0.00000',\n",
    "    'Ga N  N': '1.0 0.001632 0.000 65.20700 2.82100 -0.518000 1.0 1.0 2.63906 3864.27 2.90 0.20 2.93516 6136.44',\n",
    "    'N  Ga Ga': '1.0 0.001632 0.000 65.20700 2.82100 -0.518000 1.0 1.0 2.63906 3864.27 2.90 0.20 2.93516 6136.44',\n",
    "    'N  Ga N ': '1.0 0.766120 0.000 0.178493 0.20172 -0.045238 1.0 0.0 0.00000 0.00000 2.20 0.20 0.00000 0.00000',\n",
    "    'N  N  Ga': '1.0 0.001632 0.000 65.20700 2.82100 -0.518000 1.0 0.0 0.00000 0.00000 2.90 0.20 0.00000 0.00000',\n",
    "    'Ga N  Ga': '1.0 0.007874 1.846 1.918000 0.75000 -0.301300 1.0 0.0 0.00000 0.00000 2.87 0.15 0.00000 0.00000'}\n",
    "potential = DataFactory(\"lammps.potential\")(\n",
    "    type=pair_style, data=potential_dict\n",
    ")\n",
    "potential.attributes"
   ]
  },
  {
   "cell_type": "code",
   "execution_count": null,
   "id": "e68db394",
   "metadata": {
    "scrolled": false
   },
   "outputs": [],
   "source": [
    "# lammps.optimize parameters\n",
    "parameters = DataFactory('dict')(dict={\n",
    "    'lammps_version': lammps_version(),\n",
    "    'output_variables': [\"temp\", \"etotal\", \"pe\", \"ke\"],\n",
    "    'thermo_keywords': [],\n",
    "    'units': 'metal',\n",
    "    'relax': {\n",
    "        'type': 'aniso',\n",
    "        'pressure': 0.0,\n",
    "        'vmax': 0.005,\n",
    "    },\n",
    "    \"minimize\": {\n",
    "        'style': 'cg',\n",
    "        'energy_tolerance': 1.0e-5,\n",
    "        'force_tolerance': 1.0e-3,\n",
    "        'max_iterations': 1000,\n",
    "        'max_evaluations': 10000\n",
    "        }\n",
    "})\n"
   ]
  },
  {
   "cell_type": "raw",
   "id": "a7969c65",
   "metadata": {},
   "source": [
    "# lammps.optimize test\n",
    "\n",
    "struc = Structure.from_dict(initial_structures[\"ID_0\"][\"struc\"])\n",
    "\n",
    "builder = code_lammps_opt.get_builder()\n",
    "builder.structure = StructureData(pymatgen=struc)\n",
    "builder.potential = potential\n",
    "builder.parameters = parameters\n",
    "builder.metadata.options = meta_options\n",
    "\n",
    "result, code = run_get_node(builder)\n",
    "result\n"
   ]
  },
  {
   "cell_type": "code",
   "execution_count": null,
   "id": "5cc88dee",
   "metadata": {},
   "outputs": [],
   "source": [
    "if len(struc_dict)>0 and len(cwd_dict)>0:\n",
    "    inputs = {'code_string': Str(code_lammps_opt.label),\n",
    "             \"initial_structures\": Dict(dict=struc_dict),\n",
    "             \"cwd\": Dict(dict=cwd_dict),\n",
    "             \"potential\": potential,\n",
    "             \"parameters\": parameters}\n",
    "    optimization_simulator_lammps_WorkChain = WorkflowFactory('cryspy.optimize_structures_lammps')\n",
    "    result, node = run_get_node(optimization_simulator_lammps_WorkChain, **inputs)\n",
    "    finish_job(jobs)"
   ]
  },
  {
   "cell_type": "code",
   "execution_count": null,
   "id": "cc830c8f",
   "metadata": {},
   "outputs": [],
   "source": []
  },
  {
   "cell_type": "code",
   "execution_count": null,
   "id": "c122cedc",
   "metadata": {
    "scrolled": false
   },
   "outputs": [],
   "source": [
    "jobs.id_queueing,jobs.id_running\n"
   ]
  },
  {
   "cell_type": "code",
   "execution_count": null,
   "id": "c2d32c08",
   "metadata": {},
   "outputs": [],
   "source": [
    "print(not (jobs.id_queueing or jobs.id_running))\n",
    "if not (jobs.id_queueing or jobs.id_running):\n",
    "    jobs.next_sg()"
   ]
  },
  {
   "cell_type": "markdown",
   "id": "741004d6",
   "metadata": {},
   "source": [
    "# next run"
   ]
  },
  {
   "cell_type": "code",
   "execution_count": null,
   "id": "763ebfa4",
   "metadata": {},
   "outputs": [],
   "source": [
    "stat, struc_dict = cryspy_restart.restart()\n",
    "jobs = Ctrl_job(stat, init_struc_data)\n",
    "jobs.check_job()\n",
    "cwd_dict, struc_dict = handle_job(jobs)\n"
   ]
  },
  {
   "cell_type": "code",
   "execution_count": null,
   "id": "b8e05546",
   "metadata": {},
   "outputs": [],
   "source": [
    "jobs.id_queueing, jobs.id_running"
   ]
  },
  {
   "cell_type": "code",
   "execution_count": null,
   "id": "333cd33b",
   "metadata": {
    "scrolled": true
   },
   "outputs": [],
   "source": [
    "cwd_dict, struc_dict"
   ]
  },
  {
   "cell_type": "code",
   "execution_count": null,
   "id": "4bc0125a",
   "metadata": {},
   "outputs": [],
   "source": [
    "len(struc_dict)\n"
   ]
  },
  {
   "cell_type": "code",
   "execution_count": null,
   "id": "d0128622",
   "metadata": {},
   "outputs": [],
   "source": [
    "if len(struc_dict)>0 and len(cwd_dict)>0:\n",
    "    inputs = {'code_string': Str(code_lammps_opt.label),\n",
    "             \"initial_structures\": Dict(dict=struc_dict),\n",
    "             \"cwd\": Dict(dict=cwd_dict),\n",
    "             \"potential\": potential,\n",
    "             \"parameters\": parameters}\n",
    "    optimization_simulator_lammps_WorkChain = WorkflowFactory('cryspy.optimize_structures_lammps')\n",
    "    result, node = run_get_node(optimization_simulator_lammps_WorkChain, **inputs)\n",
    "    finish_job(jobs)"
   ]
  },
  {
   "cell_type": "code",
   "execution_count": null,
   "id": "e3a3fe91",
   "metadata": {},
   "outputs": [],
   "source": [
    "jobs.id_queueing, jobs.id_running"
   ]
  },
  {
   "cell_type": "code",
   "execution_count": null,
   "id": "0a960a94",
   "metadata": {},
   "outputs": [],
   "source": [
    "print(len(jobs.id_queueing), len(jobs.id_running))\n",
    "if not (jobs.id_queueing or jobs.id_running):\n",
    "    jobs.next_sg()"
   ]
  },
  {
   "cell_type": "markdown",
   "id": "03586bb3",
   "metadata": {},
   "source": [
    "# next run"
   ]
  },
  {
   "cell_type": "code",
   "execution_count": null,
   "id": "a467ac6b",
   "metadata": {
    "scrolled": true
   },
   "outputs": [],
   "source": [
    "stat, struc_dict = cryspy_restart.restart()\n",
    "jobs = Ctrl_job(stat, init_struc_data)\n",
    "jobs.check_job()\n",
    "cwd_dict, struc_dict = handle_job(jobs)\n"
   ]
  },
  {
   "cell_type": "code",
   "execution_count": null,
   "id": "d626e5a4",
   "metadata": {},
   "outputs": [],
   "source": [
    "jobs.id_queueing, jobs.id_running"
   ]
  },
  {
   "cell_type": "code",
   "execution_count": null,
   "id": "dda0ca55",
   "metadata": {},
   "outputs": [],
   "source": [
    "cwd_dict, struc_dict"
   ]
  },
  {
   "cell_type": "code",
   "execution_count": null,
   "id": "194fdef2",
   "metadata": {},
   "outputs": [],
   "source": [
    "if len(struc_dict)>0 and len(cwd_dict)>0:\n",
    "    inputs = {'code_string': Str(code_lammps_opt.label),\n",
    "             \"initial_structures\": Dict(dict=struc_dict),\n",
    "             \"cwd\": Dict(dict=cwd_dict),\n",
    "             \"potential\": potential,\n",
    "             \"parameters\": parameters}\n",
    "    optimization_simulator_lammps_WorkChain = WorkflowFactory('cryspy.optimize_structures_lammps')\n",
    "    result, node = run_get_node(optimization_simulator_lammps_WorkChain, **inputs)\n",
    "    finish_job(jobs)"
   ]
  },
  {
   "cell_type": "code",
   "execution_count": null,
   "id": "a4284023",
   "metadata": {},
   "outputs": [],
   "source": [
    "print(len(jobs.id_queueing), len(jobs.id_running))\n",
    "if not (jobs.id_queueing or jobs.id_running):\n",
    "    jobs.next_sg()"
   ]
  },
  {
   "cell_type": "markdown",
   "id": "35abb0c4",
   "metadata": {},
   "source": [
    "# next run\n"
   ]
  },
  {
   "cell_type": "code",
   "execution_count": null,
   "id": "fb2c85e2",
   "metadata": {},
   "outputs": [],
   "source": [
    "stat, struc_dict = cryspy_restart.restart()\n",
    "jobs = Ctrl_job(stat, init_struc_data)\n",
    "jobs.check_job()\n",
    "cwd_dict, struc_dict = handle_job(jobs)\n"
   ]
  },
  {
   "cell_type": "code",
   "execution_count": null,
   "id": "47a9676b",
   "metadata": {},
   "outputs": [],
   "source": [
    "jobs.id_queueing, jobs.id_running"
   ]
  },
  {
   "cell_type": "code",
   "execution_count": null,
   "id": "a30d682c",
   "metadata": {},
   "outputs": [],
   "source": [
    "cwd_dict, struc_dict"
   ]
  },
  {
   "cell_type": "code",
   "execution_count": null,
   "id": "f727b7de",
   "metadata": {},
   "outputs": [],
   "source": []
  },
  {
   "cell_type": "code",
   "execution_count": null,
   "id": "79c628c5",
   "metadata": {},
   "outputs": [],
   "source": [
    "if len(struc_dict)>0 and len(cwd_dict)>0:\n",
    "    inputs = {'code_string': Str(code_lammps_opt.label),\n",
    "             \"initial_structures\": Dict(dict=struc_dict),\n",
    "             \"cwd\": Dict(dict=cwd_dict),\n",
    "             \"potential\": potential,\n",
    "             \"parameters\": parameters}\n",
    "    optimization_simulator_lammps_WorkChain = WorkflowFactory('cryspy.optimize_structures_lammps')\n",
    "    result, node = run_get_node(optimization_simulator_lammps_WorkChain, **inputs)\n",
    "    finish_job(jobs)"
   ]
  },
  {
   "cell_type": "code",
   "execution_count": null,
   "id": "7dfb7710",
   "metadata": {},
   "outputs": [],
   "source": [
    "print(len(jobs.id_queueing), len(jobs.id_running))\n",
    "if not (jobs.id_queueing or jobs.id_running):\n",
    "    jobs.next_sg()"
   ]
  },
  {
   "cell_type": "code",
   "execution_count": null,
   "id": "87c357e4",
   "metadata": {},
   "outputs": [],
   "source": []
  }
 ],
 "metadata": {
  "kernelspec": {
   "display_name": "py39",
   "language": "python",
   "name": "py39"
  },
  "language_info": {
   "codemirror_mode": {
    "name": "ipython",
    "version": 3
   },
   "file_extension": ".py",
   "mimetype": "text/x-python",
   "name": "python",
   "nbconvert_exporter": "python",
   "pygments_lexer": "ipython3",
   "version": "3.9.13"
  }
 },
 "nbformat": 4,
 "nbformat_minor": 5
}
