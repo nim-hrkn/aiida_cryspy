{
 "cells": [
  {
   "cell_type": "code",
   "execution_count": null,
   "id": "4021e8d0",
   "metadata": {},
   "outputs": [],
   "source": [
    "#!/usr/bin/env python3\n",
    "'''\n",
    "Main script\n",
    "'''\n",
    "\n",
    "import os\n",
    "from pymatgen.io.vasp.inputs import Poscar\n",
    "from pymatgen.core import Structure\n",
    "\n",
    "from CrySPY.interface import select_code\n",
    "from CrySPY.job.ctrl_job import Ctrl_job\n",
    "from CrySPY.IO import read_input as rin\n",
    "from CrySPY.start import cryspy_init, cryspy_restart\n",
    "\n",
    "from aiida_lammps.tests.utils import (\n",
    "    get_or_create_local_computer, get_or_create_code)\n",
    "from aiida_lammps.tests.utils import lammps_version\n",
    "\n",
    "from aiida.engine import run_get_node, run, submit\n",
    "from aiida.plugins import DataFactory, WorkflowFactory\n",
    "import numpy as np\n",
    "from aiida.orm import Code\n",
    "from aiida.orm import Str, Dict, Int, List, Float\n",
    "from aiida.engine import calcfunction, WorkChain, append_\n",
    "from aiida.plugins import DataFactory\n",
    "from itertools import cycle\n",
    "import os\n",
    "import io\n",
    "from configparser import ConfigParser\n",
    "\n",
    "from CrySPY.gen_struc.random.gen_pyxtal import Rnd_struc_gen_pyxtal\n"
   ]
  },
  {
   "cell_type": "code",
   "execution_count": null,
   "id": "3e4b6ea7",
   "metadata": {},
   "outputs": [],
   "source": [
    "import aiida\n",
    "aiida.load_profile()\n"
   ]
  },
  {
   "cell_type": "code",
   "execution_count": null,
   "id": "da8044c2",
   "metadata": {},
   "outputs": [],
   "source": [
    "SIMULATOR_PREFIX = 'simulator_'\n",
    "ID_PREFIX = 'ID_'\n"
   ]
  },
  {
   "cell_type": "code",
   "execution_count": null,
   "id": "69aa3d40",
   "metadata": {},
   "outputs": [],
   "source": [
    "# nodebank settings\n",
    "\n",
    "from tools.nodebank import NodeBank\n",
    "pwd = os.getcwd()\n",
    "print(pwd)\n",
    "nodebank = NodeBank(pwd)\n"
   ]
  },
  {
   "cell_type": "code",
   "execution_count": null,
   "id": "13a83d52",
   "metadata": {},
   "outputs": [],
   "source": [
    "!pwd"
   ]
  },
  {
   "cell_type": "code",
   "execution_count": null,
   "id": "accb9ec3",
   "metadata": {},
   "outputs": [],
   "source": [
    "# init_struc_data, opt_struc_data, stat, rslt_data, ea_id_data, ea_data = cryspy_init.initialize()"
   ]
  },
  {
   "cell_type": "code",
   "execution_count": null,
   "id": "5a1a3391",
   "metadata": {},
   "outputs": [],
   "source": [
    "# init_struc_data"
   ]
  },
  {
   "cell_type": "code",
   "execution_count": null,
   "id": "39bd16e5",
   "metadata": {},
   "outputs": [],
   "source": []
  },
  {
   "cell_type": "code",
   "execution_count": null,
   "id": "51f11e3f",
   "metadata": {},
   "outputs": [],
   "source": [
    "import os\n",
    "import numpy as np\n",
    "\n",
    "\n",
    "from aiida.plugins import DataFactory\n",
    "from aiida.orm import Code\n",
    "from aiida.orm import Str, Dict, List, Int\n",
    "from aiida.engine import calcfunction, WorkChain\n",
    "\n",
    "from CrySPY.IO import read_input as rin\n",
    "from pymatgen.io.vasp.inputs import Poscar\n",
    "from pymatgen.core import Structure\n",
    "\n",
    "# load types\n",
    "StructureData = DataFactory('structure')\n",
    "FolderData = DataFactory('folder')\n",
    "SinglefileData = DataFactory('singlefile')\n",
    "ArrayData = DataFactory('array')\n",
    "LammpsPotential = DataFactory('lammps.potential')\n",
    "TrajectoryData = DataFactory('array.trajectory')\n",
    "\n",
    "# PandasFrameData = DataFactory('cryspy.dataframe')\n",
    "PandasFrameData = DataFactory('dataframe.frame')\n",
    "\n",
    "ConfigparserData = DataFactory('cryspy.configparser')\n",
    "StructurecollectionData = DataFactory('cryspy.structurecollection')\n",
    "EAData = DataFactory('cryspy.ea_data')\n",
    "EAidData = DataFactory('cryspy.ea_id_data')\n"
   ]
  },
  {
   "cell_type": "code",
   "execution_count": null,
   "id": "ad94c9ff",
   "metadata": {
    "scrolled": true
   },
   "outputs": [],
   "source": [
    "# struc = StructurecollectionData(init_struc_data)\n",
    "# struc.structurecollection"
   ]
  },
  {
   "cell_type": "raw",
   "id": "dd63a53d",
   "metadata": {},
   "source": []
  },
  {
   "cell_type": "code",
   "execution_count": null,
   "id": "9d3265f0",
   "metadata": {
    "scrolled": false
   },
   "outputs": [],
   "source": [
    "pwd = os.getcwd()\n",
    "cryspy_in = os.path.join(pwd, 'cryspy.in0')\n",
    "inputs = {'cryspy_in': Str(cryspy_in)}\n",
    "initialize_WorkChain = WorkflowFactory('cryspy.initial_structures')\n",
    "initial_result = run(initialize_WorkChain, **inputs)\n"
   ]
  },
  {
   "cell_type": "code",
   "execution_count": null,
   "id": "0b8cee99",
   "metadata": {},
   "outputs": [],
   "source": [
    "# workflow結果表示\n",
    "initial_result"
   ]
  },
  {
   "cell_type": "code",
   "execution_count": null,
   "id": "e61102e9",
   "metadata": {},
   "outputs": [],
   "source": [
    "initial_result[\"rslt_data\"].df"
   ]
  },
  {
   "cell_type": "code",
   "execution_count": null,
   "id": "97cb90f1",
   "metadata": {},
   "outputs": [],
   "source": [
    "import shutil\n",
    "# cryspy.inは実行中に書き換えられる。\n",
    "shutil.copy(\"cryspy.in0\", \"cryspy.in\")\n"
   ]
  },
  {
   "cell_type": "code",
   "execution_count": null,
   "id": "9501d49e",
   "metadata": {
    "scrolled": false
   },
   "outputs": [],
   "source": [
    "@calcfunction\n",
    "def generate_work_path(ea_id_node, structure_node):\n",
    "    \"\"\"make string of working directoryd from ea_id_node.id_queueing.\n",
    "    \"\"\"\n",
    "    ea_id_data = ea_id_node.ea_id_data\n",
    "    structures = structure_node.structurecollection\n",
    "    id_queueing = ea_id_data[1]\n",
    "    work_path_dic = {}\n",
    "    structures_dic = {}\n",
    "    for cid in id_queueing:\n",
    "        work_path = './work/{:06}/'.format(cid)\n",
    "        work_path = os.path.abspath(work_path)\n",
    "        structures_dic[cid] = structures[cid]\n",
    "        \n",
    "        ID = str(cid)\n",
    "        work_path_dic[ID] = work_path\n",
    "    return Dict(dict=work_path_dic)\n",
    "\n",
    "@calcfunction\n",
    "def generate_structures(ea_id_node, structure_node):\n",
    "    \"\"\"make string of working directoryd from ea_id_node.id_queueing.\n",
    "    \"\"\"\n",
    "    ea_id_data = ea_id_node.ea_id_data\n",
    "    structures = structure_node.structurecollection\n",
    "    id_queueing = ea_id_data[1]\n",
    "    work_path_dic = {}\n",
    "    structures_dic = {}\n",
    "    for cid in id_queueing:\n",
    "        work_path = './work/{:06}/'.format(cid)\n",
    "        work_path = os.path.abspath(work_path)\n",
    "        structures_dic[cid] = structures[cid]\n",
    "        \n",
    "        ID = str(cid)\n",
    "        work_path_dic[ID] = work_path\n",
    "    return StructurecollectionData(structures_dic)\n",
    "\n",
    "ea_id_node = initial_result[\"ea_id_data\"]\n",
    "struc_node = initial_result[\"init_struc\"]\n",
    "\n",
    "work_path_node = generate_work_path(ea_id_node, struc_node)\n",
    "initial_structures_node = generate_structures(ea_id_node, struc_node)"
   ]
  },
  {
   "cell_type": "code",
   "execution_count": null,
   "id": "08efaaad",
   "metadata": {},
   "outputs": [],
   "source": [
    "initial_structures_node"
   ]
  },
  {
   "cell_type": "markdown",
   "id": "a804cb18",
   "metadata": {},
   "source": [
    "# restart"
   ]
  },
  {
   "cell_type": "raw",
   "id": "bb925d4f",
   "metadata": {},
   "source": [
    "'''\n",
    "Restart CrySPY\n",
    "\n",
    "あとまわし。\n",
    "'''\n",
    "\n",
    "import os\n",
    "\n",
    "from CrySPY import utility\n",
    "from CrySPY.BO import bo_restart\n",
    "from CrySPY.EA import ea_append\n",
    "from CrySPY.gen_struc.random.random_generation import Rnd_struc_gen\n",
    "from CrySPY.gen_struc.random.gen_pyxtal import Rnd_struc_gen_pyxtal\n",
    "from CrySPY.IO import io_stat, pkl_data\n",
    "from CrySPY.IO import read_input as rin\n",
    "from CrySPY.LAQA import laqa_restart\n",
    "from CrySPY.RS import rs_restart\n",
    "\n",
    "\n",
    "def restart(cryspy_in='cryspy.in', cryspy_stat='cryspy.stat',\n",
    "            aiida=False,\n",
    "            stat=None, init_struc_data=None):\n",
    "    \"\"\"\n",
    "    under construction.\n",
    "    \n",
    "    \n",
    "    cryspy_in can be SinglefileData.\n",
    "    \n",
    "    I can't understand the flow chart when SystemExit() occurs.\n",
    "    \n",
    "    \"\"\"\n",
    "    print('\\n\\n')\n",
    "    print(utility.get_date())\n",
    "    print(utility.get_version())\n",
    "    print('Restart cryspy.py\\n\\n')\n",
    "    \n",
    "    if aiida:\n",
    "        if stat is None:\n",
    "            raise ValueError('stat must be given.')\n",
    "        if init_struc_data is None:\n",
    "            raise ValueError('init_struc_data must be given.')\n",
    "\n",
    "    # ---------- read stat\n",
    "    if not aiida:\n",
    "        stat = io_stat.stat_read(cryspy_stat)\n",
    "\n",
    "    # ---------- read input and check the change\n",
    "    rin.readin(cryspy_in)\n",
    "    rin.diffinstat(stat)\n",
    "\n",
    "    # ---------- load init_struc_data for appending structures\n",
    "    if not aiida:\n",
    "        init_struc_data = pkl_data.load_init_struc()\n",
    "\n",
    "    # ---------- append structures\n",
    "    if len(init_struc_data) < rin.tot_struc:\n",
    "        prev_nstruc = len(init_struc_data)\n",
    "        init_struc_data = append_struc(init_struc_data)\n",
    "        # ------ RS\n",
    "        if rin.algo == 'RS':\n",
    "            rs_restart.restart(stat, prev_nstruc)\n",
    "        # ------ BO\n",
    "        if rin.algo == 'BO':\n",
    "            bo_restart.restart(init_struc_data, prev_nstruc)\n",
    "        # ------ LAQA\n",
    "        if rin.algo == 'LAQA':\n",
    "            laqa_restart.restart(stat, prev_nstruc)\n",
    "        os.remove('lock_cryspy')\n",
    "        raise SystemExit()\n",
    "\n",
    "    elif rin.tot_struc < len(init_struc_data):\n",
    "        raise ValueError('tot_struc < len(init_struc_data)')\n",
    "\n",
    "    # ---------- append structures by EA (option)\n",
    "    if rin.append_struc_ea:\n",
    "        prev_nstruc = len(init_struc_data)\n",
    "        init_struc_data = ea_append.append_struc(stat, init_struc_data, aiida=aiida)\n",
    "        # ------ RS\n",
    "        if rin.algo == 'RS':\n",
    "            rs_restart.restart(stat, prev_nstruc)\n",
    "        # ------ BO\n",
    "        if rin.algo == 'BO':\n",
    "            bo_restart.restart(init_struc_data, prev_nstruc)\n",
    "        # ------ LAQA\n",
    "        if rin.algo == 'LAQA':\n",
    "            laqa_restart.restart(stat, prev_nstruc)\n",
    "        os.remove('lock_cryspy')\n",
    "        raise SystemExit()\n",
    "\n",
    "    # ---------- return\n",
    "    return stat, init_struc_data\n",
    "\n",
    "\n",
    "def append_struc(init_struc_data, aiida=False):\n",
    "    # ---------- append initial structures\n",
    "    print('\\n# ---------- Append structures')\n",
    "    with open('cryspy.out', 'a') as fout:\n",
    "        fout.write('\\n# ---------- Append structures\\n')\n",
    "    id_offset = len(init_struc_data)\n",
    "    nstruc = rin.tot_struc - id_offset\n",
    "\n",
    "    # ---------- pyxtal\n",
    "    if not (rin.spgnum == 0 or rin.use_find_wy):\n",
    "        rsgx = Rnd_struc_gen_pyxtal(natot=rin.natot, atype=rin.atype,\n",
    "                                    nat=rin.nat, vol_factor=rin.vol_factor,\n",
    "                                    vol_mu=rin.vol_mu, vol_sigma=rin.vol_sigma,\n",
    "                                    mindist=rin.mindist,\n",
    "                                    spgnum=rin.spgnum, symprec=rin.symprec)\n",
    "        # ------ crystal\n",
    "        if rin.struc_mode == 'crystal':\n",
    "            rsgx.gen_struc(nstruc=nstruc, id_offset=id_offset,\n",
    "                           init_pos_path='./data/init_POSCARS')\n",
    "        # ------ molecular crystal\n",
    "        elif rin.struc_mode == 'mol':\n",
    "            rsgx.set_mol(mol_file=rin.mol_file, nmol=rin.nmol)\n",
    "            rsgx.gen_struc_mol(nstruc=nstruc, id_offset=id_offset,\n",
    "                               init_pos_path='./data/init_POSCARS',\n",
    "                               timeout_mol=rin.timeout_mol)\n",
    "        # ------ molecular crystal breaking symmetry\n",
    "        elif rin.struc_mode == 'mol_bs':\n",
    "            rsgx.set_mol(mol_file=rin.mol_file, nmol=rin.nmol)\n",
    "            rsgx.gen_struc_mol_break_sym(nstruc=nstruc,\n",
    "                                         rot_mol=rin.rot_mol,\n",
    "                                         nrot=rin.nrot,\n",
    "                                         id_offset=id_offset,\n",
    "                                         init_pos_path='./data/init_POSCARS')\n",
    "        # ------ update\n",
    "        init_struc_data.update(rsgx.init_struc_data)\n",
    "    # ---------- Rnd_struc_gen\n",
    "    else:\n",
    "        rsg = Rnd_struc_gen(natot=rin.natot, atype=rin.atype, nat=rin.nat,\n",
    "                            minlen=rin.minlen, maxlen=rin.maxlen,\n",
    "                            dangle=rin.dangle, mindist=rin.mindist,\n",
    "                            vol_mu=rin.vol_mu, vol_sigma=rin.vol_sigma,\n",
    "                            maxcnt=rin.maxcnt, symprec=rin.symprec)\n",
    "        if rin.spgnum == 0:\n",
    "            rsg.gen_wo_spg(nstruc=nstruc, id_offset=id_offset,\n",
    "                           init_pos_path='./data/init_POSCARS')\n",
    "            init_struc_data.update(rsg.init_struc_data)\n",
    "        else:\n",
    "            fwpath = utility.check_fwpath()\n",
    "            rsg.gen_with_find_wy(nstruc=nstruc, spgnum=rin.spgnum,\n",
    "                                 id_offset=id_offset,\n",
    "                                 init_pos_path='./data/init_POSCARS',\n",
    "                                 fwpath=fwpath)\n",
    "            init_struc_data.update(rsg.init_struc_data)\n",
    "\n",
    "    # ---------- output\n",
    "    print('')    # for blank line\n",
    "    with open('cryspy.out', 'a') as fout:\n",
    "        fout.write('Generated structures up to ID {}\\n\\n'.format(\n",
    "            len(init_struc_data)-1))\n",
    "\n",
    "\n",
    "        pkl_data.save_init_struc(init_struc_data)\n",
    "\n",
    "    return init_struc_data\n",
    "\n"
   ]
  },
  {
   "cell_type": "markdown",
   "id": "cab93e44",
   "metadata": {},
   "source": [
    "# handle_jobs"
   ]
  },
  {
   "cell_type": "raw",
   "id": "63a3735e",
   "metadata": {},
   "source": [
    "def ctrl_next_struc_step1(jobs):\n",
    "    # ---------- RS\n",
    "    if rin.algo == 'RS':\n",
    "        next_struc_data = jobs.init_struc_data[jobs.current_id]\n",
    "    # ---------- BO\n",
    "    elif rin.algo == 'BO':\n",
    "        next_struc_data = jobs.init_struc_data[jobs.current_id]\n",
    "    # ---------- LAQA\n",
    "    elif rin.algo == 'LAQA':\n",
    "        if jobs.laqa_struc[jobs.current_id]:    # vacant list?\n",
    "            next_struc_data = jobs.laqa_struc[jobs.current_id][-1]\n",
    "        else:\n",
    "            next_struc_data = jobs.init_struc_data[jobs.current_id]\n",
    "    # ---------- EA\n",
    "    elif rin.algo == 'EA':\n",
    "        next_struc_data = jobs.init_struc_data[jobs.current_id]\n",
    "    # ---------- algo is wrong\n",
    "    else:\n",
    "        raise ValueError('Error, algo')\n",
    "        \n",
    "    return next_struc_data\n",
    "\n",
    "def ctrl_next_struc_step2(jobs, next_struc_data ):\n",
    "    # ---------- common part\n",
    "    # ------ in case there is no initial strucure data\n",
    "    if next_struc_data is None:\n",
    "        print('ID {:>6}: initial structure is None'.format(\n",
    "        jobs.current_id))\n",
    "        jobs.ctrl_skip()\n",
    "    # ------ normal initial structure data\n",
    "    else:\n",
    "        if False:\n",
    "            # -- prepare input files for structure optimization\n",
    "            if rin.kpt_flag:\n",
    "                print(\"kpt_flag not supported\")\n",
    "                raise ValueError(\"kpt_flag not supported\")\n",
    "                jobs.kpt_data = select_code.next_struc(next_struc_data,\n",
    "                                                   jobs.current_id,\n",
    "                                                   jobs.work_path,\n",
    "                                                   jobs.kpt_data)\n",
    "            else:\n",
    "                print(\"select_code.next_struc\")\n",
    "                print(jobs.current_id, jobs.work_path)\n",
    "                select_code.next_struc(next_struc_data, jobs.current_id,\n",
    "                                   jobs.work_path)\n",
    "            \n",
    "        # -- prepare jobfile\n",
    "        print(\"prepare_jobfile\")\n",
    "        # jobs.prepare_jobfile()\n",
    "        # -- submit\n",
    "        print(\"submit_next_struc\")\n",
    "        jobs.submit_next_struc(dry_run=True)\n",
    "        print('ID {:>6}: submit job, Stage 1'.format(jobs.current_id))\n",
    "        # -- update status\n",
    "        # jobs.update_status(operation='submit')\n",
    "\n",
    "def ctrl_next_struc(jobs):\n",
    "    next_struc_data = ctrl_next_struc_step1(jobs)\n",
    "\n",
    "    ctrl_next_struc_step2(jobs,next_struc_data)\n",
    "    print(\"must call jobs.update_status(operation='submit')\")\n",
    "    \n",
    "    \n",
    "def handle_job_return_dict(jobs):\n",
    "    print('\\n# ---------- job status')\n",
    "    cwd_dict = {}\n",
    "    struc_dict = {}\n",
    "    print(\"jobs.job_stat\", jobs.job_stat )\n",
    "\n",
    "    for cid in jobs.tmp_running:\n",
    "        # ---------- set work_path and current_id\n",
    "        jobs.work_path = './work/{:06}/'.format(cid)\n",
    "        jobs.current_id = cid\n",
    "        # ---------- handle job\n",
    "        if jobs.job_stat[cid] == 'submitted':\n",
    "            print('ID {:>6}: still queueing or running'.format(cid))\n",
    "        elif jobs.job_stat[cid] == 'done':\n",
    "            jobs.ctrl_done()\n",
    "        elif jobs.job_stat[cid] == 'skip':\n",
    "            jobs.ctrl_skip()\n",
    "        elif jobs.job_stat[cid] == 'else':\n",
    "            raise ValueError('Wrong job_stat in {}. '.format(\n",
    "                jobs.work_path))\n",
    "        elif jobs.job_stat[cid] == 'no_file':\n",
    "            ctrl_next_struc(jobs)\n",
    "            key = str(cid)\n",
    "            cwd_dict[key] = os.path.abspath(jobs.work_path)\n",
    "            struc_dict[key] = jobs.init_struc_data[jobs.current_id]\n",
    "        else:\n",
    "            raise ValueError('Unexpected error in {}stat_job'.format(\n",
    "                jobs.work_path))\n",
    "        \n",
    "    return cwd_dict, struc_dict, jobs.tmp_running\n",
    "\n",
    "def finish_job(jobs):\n",
    "    for cid in jobs.tmp_running:\n",
    "        jobs.current_id = cid\n",
    "        jobs.update_status(operation='submit')\n",
    "    "
   ]
  },
  {
   "cell_type": "raw",
   "id": "a2b09100",
   "metadata": {},
   "source": [
    "class handle_job_before_submit_WorkChain(WorkChain):\n",
    "    \"\"\"\n",
    "    restart_WorkChain\n",
    "    \n",
    "    execute\n",
    "        jobs = Ctrl_job(stat, init_struc_data)\n",
    "        jobs.check_job()\n",
    "        cwd_dict, struc_dict,id_running = handle_job_return_dict(jobs)  \n",
    "    \n",
    "    \n",
    "    The content of cryspy_in is changed during the step.\n",
    "    \"\"\"\n",
    "    _CRYSPY_IN = \"crpspy.in\"\n",
    "    @classmethod\n",
    "    def define(cls, spec):\n",
    "        super().define(spec)\n",
    "\n",
    "        spec.input(\"stat\", valid_type=ConfigparserData,\n",
    "                   help='ConfigParser data')\n",
    "        spec.input(\"init_struc\", valid_type=PystructuredictData,\n",
    "                   help='initial structures')\n",
    "        spec.outline(\n",
    "            cls.handle_jobs,\n",
    "        )\n",
    "        spec.output(\"struc\", valid_type=PystructuredictData, help='structures to optimize')\n",
    "        spec.output(\"cwd\", valid_type=Dict, help='ConfigParser content')\n",
    "        spec.output('id_running', valid_type=List, help='id running')\n",
    "  \n",
    "    def handle_jobs(self):\n",
    "        \n",
    "        stat = self.inputs.stat.configparser\n",
    "        init_struc_data = self.inputs.init_struc.pystructuredict\n",
    "        \n",
    "        os.makedirs(\"work\", exist_ok=True)\n",
    "        jobs = Ctrl_job(stat, init_struc_data)\n",
    "        jobs.check_job()\n",
    "        cwd_dict, struc_dict,id_running = handle_job_return_dict(jobs)  \n",
    "\n",
    "        if len(cwd_dict)>0:\n",
    "            cwd_dict = Dict(dict=cwd_dict)\n",
    "            cwd_dict.store()\n",
    "            self.out('cwd', cwd_dict)\n",
    "\n",
    "        if len(struc_dict)>0:\n",
    "            init_struc = PystructuredictData(struc_dict)\n",
    "            init_struc.store()\n",
    "            self.out('struc',init_struc )\n",
    "        \n",
    "        id_running=List(list=id_running)\n",
    "        id_running.store()\n",
    "        self.out('id_running', id_running)"
   ]
  },
  {
   "cell_type": "raw",
   "id": "a4f98af7",
   "metadata": {
    "scrolled": true
   },
   "source": [
    "inputs = restart_results\n",
    "handle_job_step1 = run(handle_job_before_submit_WorkChain, **inputs)\n"
   ]
  },
  {
   "cell_type": "code",
   "execution_count": null,
   "id": "3f60dcf7",
   "metadata": {},
   "outputs": [],
   "source": []
  },
  {
   "cell_type": "code",
   "execution_count": null,
   "id": "257e335c",
   "metadata": {
    "scrolled": true
   },
   "outputs": [],
   "source": [
    "cwd_node = work_path_node\n",
    "cwd_node.get_dict()"
   ]
  },
  {
   "cell_type": "code",
   "execution_count": null,
   "id": "7ce5f982",
   "metadata": {},
   "outputs": [],
   "source": [
    "computer_local = 'localhost'\n",
    "code_lammps_opt = get_or_create_code('lammps.optimize',\n",
    "                                     computer_local, 'lammps')\n",
    "meta_options = {\n",
    "    \"resources\": {\n",
    "        \"num_machines\": 1,\n",
    "        \"num_mpiprocs_per_machine\": 4}\n",
    "}\n",
    "code_lammps_opt.label\n"
   ]
  },
  {
   "cell_type": "code",
   "execution_count": null,
   "id": "41f4954d",
   "metadata": {},
   "outputs": [],
   "source": [
    "# lammps potentials\n",
    "pair_style = 'tersoff'\n",
    "potential_dict = {\n",
    "    'Ga Ga Ga': '1.0 0.007874 1.846 1.918000 0.75000 -0.301300 1.0 1.0 1.44970 410.132 2.87 0.15 1.60916 535.199',\n",
    "    'N  N  N': '1.0 0.766120 0.000 0.178493 0.20172 -0.045238 1.0 1.0 2.38426 423.769 2.20 0.20 3.55779 1044.77',\n",
    "    'Ga Ga N': '1.0 0.001632 0.000 65.20700 2.82100 -0.518000 1.0 0.0 0.00000 0.00000 2.90 0.20 0.00000 0.00000',\n",
    "    'Ga N  N': '1.0 0.001632 0.000 65.20700 2.82100 -0.518000 1.0 1.0 2.63906 3864.27 2.90 0.20 2.93516 6136.44',\n",
    "    'N  Ga Ga': '1.0 0.001632 0.000 65.20700 2.82100 -0.518000 1.0 1.0 2.63906 3864.27 2.90 0.20 2.93516 6136.44',\n",
    "    'N  Ga N ': '1.0 0.766120 0.000 0.178493 0.20172 -0.045238 1.0 0.0 0.00000 0.00000 2.20 0.20 0.00000 0.00000',\n",
    "    'N  N  Ga': '1.0 0.001632 0.000 65.20700 2.82100 -0.518000 1.0 0.0 0.00000 0.00000 2.90 0.20 0.00000 0.00000',\n",
    "    'Ga N  Ga': '1.0 0.007874 1.846 1.918000 0.75000 -0.301300 1.0 0.0 0.00000 0.00000 2.87 0.15 0.00000 0.00000'}\n",
    "potential = DataFactory(\"lammps.potential\")(\n",
    "    type=pair_style, data=potential_dict\n",
    ")\n",
    "potential.attributes\n"
   ]
  },
  {
   "cell_type": "code",
   "execution_count": null,
   "id": "e68db394",
   "metadata": {},
   "outputs": [],
   "source": [
    "# lammps.optimize parameters\n",
    "parameters = DataFactory('dict')(dict={\n",
    "    'lammps_version': lammps_version(),\n",
    "    'output_variables': [\"temp\", \"etotal\", \"pe\", \"ke\"],\n",
    "    'thermo_keywords': [],\n",
    "    'units': 'metal',\n",
    "    'relax': {\n",
    "        'type': 'aniso',\n",
    "        'pressure': 0.0,\n",
    "        'vmax': 0.005,\n",
    "    },\n",
    "    \"minimize\": {\n",
    "        'style': 'cg',\n",
    "        'energy_tolerance': 1.0e-5,\n",
    "        'force_tolerance': 1.0e-3,\n",
    "        'max_iterations': 1000,\n",
    "        'max_evaluations': 10000\n",
    "        }\n",
    "})\n"
   ]
  },
  {
   "cell_type": "code",
   "execution_count": null,
   "id": "eada1b1b",
   "metadata": {},
   "outputs": [],
   "source": [
    "code_lammps_opt"
   ]
  },
  {
   "cell_type": "raw",
   "id": "a7969c65",
   "metadata": {},
   "source": [
    "# lammps.optimize test\n",
    "\n",
    "struc = Structure.from_dict(initial_structures[\"ID_0\"][\"struc\"])\n",
    "\n",
    "builder = code_lammps_opt.get_builder()\n",
    "builder.structure = StructureData(pymatgen=struc)\n",
    "builder.potential = potential\n",
    "builder.parameters = parameters\n",
    "builder.metadata.options = meta_options\n",
    "\n",
    "result, code = run_get_node(builder)\n",
    "result\n"
   ]
  },
  {
   "cell_type": "code",
   "execution_count": null,
   "id": "5cc88dee",
   "metadata": {
    "scrolled": false
   },
   "outputs": [],
   "source": [
    "if len(initial_structures_node.structurecollection.keys())>0 and len(cwd_node.get_dict())>0:\n",
    "    inputs = {'code_string': Str(code_lammps_opt.label),\n",
    "             \"initial_structures\": initial_structures_node, \n",
    "             \"cwd\": cwd_node,\n",
    "             \"potential\": potential,\n",
    "             \"parameters\": parameters}\n",
    "    optimization_simulator_lammps_WorkChain = WorkflowFactory('cryspy.optimize_structures_lammps')\n",
    "    optimize_result, node = run_get_node(optimization_simulator_lammps_WorkChain, **inputs)\n",
    "    # finish_job(jobs)\n",
    "    "
   ]
  },
  {
   "cell_type": "code",
   "execution_count": null,
   "id": "617cb47c",
   "metadata": {},
   "outputs": [],
   "source": [
    "optimize_result[\"results\"]"
   ]
  },
  {
   "cell_type": "code",
   "execution_count": null,
   "id": "f4a6a084",
   "metadata": {},
   "outputs": [],
   "source": [
    "opt_struc_node = optimize_result[\"final_structures\"]\n",
    "opt_struc_node.structurecollection"
   ]
  },
  {
   "cell_type": "code",
   "execution_count": null,
   "id": "b7d74fa3",
   "metadata": {},
   "outputs": [],
   "source": [
    "ea_id_node.ea_id_data"
   ]
  },
  {
   "cell_type": "code",
   "execution_count": null,
   "id": "c22498dd",
   "metadata": {},
   "outputs": [],
   "source": [
    "@calcfunction\n",
    "def update_ea_id_data(ea_id_node, opt_results):\n",
    "    \"\"\"update ea_id_data.\n",
    "    \n",
    "    finished jobs are found in opt_results.\n",
    "    \"\"\"\n",
    "    opt_results = opt_results.get_dict()\n",
    "    \n",
    "    gen, id_queueing, id_running = ea_id_node.ea_id_data\n",
    "    for i in opt_results[\"index\"]:\n",
    "        if i in id_queueing:\n",
    "            id_queueing.remove(i)\n",
    "        else:\n",
    "            raise ValueError('inconsistent queue and execution ID.')\n",
    "        \n",
    "        id_running.append(i)\n",
    "\n",
    "    ea_id_data = (gen, id_queueing, id_running)\n",
    "    return EAidData(ea_id_data)\n",
    "\n",
    "opt_results_node = optimize_result[\"results\"]\n",
    "ea_id_node_new = update_ea_id_data(ea_id_node, opt_results_node)\n",
    "ea_id_node_new.ea_id_data\n"
   ]
  },
  {
   "cell_type": "code",
   "execution_count": null,
   "id": "5d34ee2b",
   "metadata": {},
   "outputs": [],
   "source": [
    "ea_id_node_new.get_dict()"
   ]
  },
  {
   "cell_type": "code",
   "execution_count": null,
   "id": "a8b10072",
   "metadata": {},
   "outputs": [],
   "source": [
    "# ea_id_node = ea_id_node_new"
   ]
  },
  {
   "cell_type": "code",
   "execution_count": null,
   "id": "234cd45b",
   "metadata": {},
   "outputs": [],
   "source": [
    "initial_structures_node"
   ]
  },
  {
   "cell_type": "markdown",
   "id": "741004d6",
   "metadata": {},
   "source": [
    "# next run"
   ]
  },
  {
   "cell_type": "code",
   "execution_count": null,
   "id": "4239f0d8",
   "metadata": {},
   "outputs": [],
   "source": [
    "stat, struc_dict = cryspy_restart.restart(initial_structures_node.structurecollection)\n"
   ]
  },
  {
   "cell_type": "code",
   "execution_count": null,
   "id": "ad8effef",
   "metadata": {},
   "outputs": [],
   "source": [
    "struc_dict.keys()"
   ]
  },
  {
   "cell_type": "raw",
   "id": "c5706725",
   "metadata": {},
   "source": [
    "# 構造を加える場合に用いる。\n",
    "# len(init_struc_data) < rin.tot_strucの場合は何もしない。\n",
    "# rin.append_struc_ea=Trueの場合に構造を加える。\n",
    "\n",
    "class jobs_restart_WorkChain(WorkChain):\n",
    "    \"\"\"\n",
    "    restart_WorkChain\n",
    "    \n",
    "    The content of cryspy_in is changed during the step.\n",
    "    \"\"\"\n",
    "    _CRYSPY_IN = \"crpspy.in\"\n",
    "    @classmethod\n",
    "    def define(cls, spec):\n",
    "        super().define(spec)\n",
    "        spec.input(\"cryspy_in\", valid_type=(Str,SinglefileData),\n",
    "                   help='cryspy_in. (temporary implementation)')\n",
    "\n",
    "        spec.input(\"init_struc\", valid_type=PystructuredictData,\n",
    "                   help='initial structures')\n",
    "        spec.outline(\n",
    "            cls.call_restart,\n",
    "        )\n",
    "        spec.output(\"init_struc\", valid_type=PystructuredictData, help='initial structures')\n",
    "        spec.output(\"stat\", valid_type=ConfigparserData, help='content of ConfigParser')\n",
    "  \n",
    "    def call_cryspy_restart(self):\n",
    "        from CrySPY.start.cryspy_restart import restart\n",
    "        stat = self.inputs.stat.configparser\n",
    "        init_struc_data = self.inputs.init_struc.pystructuredict\n",
    "        stat, init_struc_data = restart(init_struc_data=init_struc_data)\n",
    "        statdata = ConfigparserData(stat)\n",
    "        statdata.store()\n",
    "        self.out('stat', statdata)\n",
    "        init_struc = PystructuredictData(init_struc_data)\n",
    "        init_struc.store()\n",
    "        self.out('init_struc',init_struc )\n",
    "       \n",
    "stat = io_stat.stat_read()\n",
    "inputs = {\"cryspy_in\": Str(\"cpyspy.in\"), \"stat\":ConfigparserData(stat), \n",
    "          \"init_struc\": initial_result[\"init_struc\"]}\n",
    "restart_results = run(jobs_restart_WorkChain, **inputs)\n",
    "\n",
    "restart_results\n"
   ]
  },
  {
   "cell_type": "raw",
   "id": "3d2ca5ec",
   "metadata": {},
   "source": [
    "inputs = {\"cryspy_in\": Str(\"cpyspy.in\"), \"stat\":stat_node, \n",
    "          \"init_struc\": struc_node}\n",
    "restart_results = run(jobs_restart_WorkChain, **inputs)\n",
    "restart_results"
   ]
  },
  {
   "cell_type": "raw",
   "id": "20796721",
   "metadata": {},
   "source": [
    "restart_results[\"stat\"].configparser._sections"
   ]
  },
  {
   "cell_type": "code",
   "execution_count": null,
   "id": "ab8e401e",
   "metadata": {},
   "outputs": [],
   "source": [
    "rslt_data_node = initial_result[\"rslt_data\"]\n",
    "rslt_data_node"
   ]
  },
  {
   "cell_type": "code",
   "execution_count": null,
   "id": "23ae14f0",
   "metadata": {},
   "outputs": [],
   "source": [
    "ea_id_data_node = initial_result[\"ea_id_data\"]"
   ]
  },
  {
   "cell_type": "code",
   "execution_count": null,
   "id": "fe59608b",
   "metadata": {},
   "outputs": [],
   "source": []
  },
  {
   "cell_type": "code",
   "execution_count": null,
   "id": "abc354a4",
   "metadata": {
    "scrolled": false
   },
   "outputs": [],
   "source": [
    "# optの対称性の登録\n",
    "@calcfunction\n",
    "def generate_rlst(initial_structures_node: StructurecollectionData, \n",
    "                  opt_struc_node: StructurecollectionData, \n",
    "                  optimize_result: Dict, \n",
    "                  ea_id_data_node: EAidData, \n",
    "                  rslt_data_node: PandasFrameData):\n",
    "    init_struc_data = initial_structures_node.structurecollection\n",
    "    opt_struc = opt_struc_node.structurecollection\n",
    "    opt_results = optimize_result.get_dict()\n",
    "    rslt_data = rslt_data_node.df\n",
    "    gen = ea_id_data_node.ea_id_data[0]\n",
    "    magmon = None\n",
    "    check_opt = 'done'\n",
    "    \n",
    "    symprec = rin.symprec\n",
    "    for i,energy in zip(opt_results[\"index\"], opt_results[\"energy\"]):\n",
    "        if energy is not None:\n",
    "            check_opt = 'done'\n",
    "        else:\n",
    "            check_opt = 'not_yet'\n",
    "        if energy is None:\n",
    "            energy = np.nan\n",
    "        else:\n",
    "            natot = len(init_struc_data[i].atomic_numbers)\n",
    "            energy /= natot\n",
    "            \n",
    "        in_spg = init_struc_data[i].get_space_group_info(symprec=symprec)\n",
    "        opt_spg = opt_struc[i].get_space_group_info(symprec=symprec)\n",
    "        rslt_data.loc[i] = [gen, in_spg[1], in_spg[0], opt_spg[1], opt_spg[0], \n",
    "                           energy, magmon, check_opt]\n",
    "        \n",
    "    return PandasFrameData(rslt_data)\n",
    "    # return rslt_data\n",
    "\n",
    "rslt_data_node_new = generate_rlst(initial_structures_node, opt_struc_node, \n",
    "                              optimize_result[\"results\"], \n",
    "                              ea_id_data_node, rslt_data_node)\n",
    "rslt_data_node_new.df"
   ]
  },
  {
   "cell_type": "markdown",
   "id": "aee3ad26",
   "metadata": {},
   "source": [
    "# next_sg\n"
   ]
  },
  {
   "cell_type": "code",
   "execution_count": null,
   "id": "4bc0125a",
   "metadata": {},
   "outputs": [],
   "source": [
    "ea_data_node = initial_result[\"ea_data\"]\n",
    "ea_data_node.ea_data\n",
    "\n"
   ]
  },
  {
   "cell_type": "code",
   "execution_count": null,
   "id": "7cbc7880",
   "metadata": {
    "scrolled": true
   },
   "outputs": [],
   "source": [
    "from CrySPY.IO import io_stat\n"
   ]
  },
  {
   "cell_type": "code",
   "execution_count": null,
   "id": "dd0204ec",
   "metadata": {
    "scrolled": true
   },
   "outputs": [],
   "source": [
    "rslt_data_node = rslt_data_node_new\n",
    "rslt_data_node.df"
   ]
  },
  {
   "cell_type": "code",
   "execution_count": null,
   "id": "d9e9f039",
   "metadata": {},
   "outputs": [],
   "source": [
    "opt_struc_node.structurecollection"
   ]
  },
  {
   "cell_type": "code",
   "execution_count": null,
   "id": "ea981189",
   "metadata": {
    "scrolled": false
   },
   "outputs": [],
   "source": [
    "inputs = {'initial_structures': initial_structures_node,\n",
    "         'optimized_structures': opt_struc_node,\n",
    "          'rslt_data': rslt_data_node,\n",
    "          'ea_id_data': ea_id_data_node,\n",
    "          'ea_data': ea_data_node}\n",
    "next_sg_WorkChain = WorkflowFactory('cryspy.next_sg')\n",
    "next_sg_results = run(next_sg_WorkChain, **inputs)"
   ]
  },
  {
   "cell_type": "code",
   "execution_count": null,
   "id": "9f22223d",
   "metadata": {
    "scrolled": false
   },
   "outputs": [],
   "source": [
    "next_sg_results"
   ]
  },
  {
   "cell_type": "code",
   "execution_count": null,
   "id": "603131dc",
   "metadata": {},
   "outputs": [],
   "source": [
    "next_sg_results[\"ea_id_data\"].ea_id_data"
   ]
  },
  {
   "cell_type": "code",
   "execution_count": null,
   "id": "bf4e9c8a",
   "metadata": {},
   "outputs": [],
   "source": [
    "next_sg_results[\"ea_data\"].ea_data"
   ]
  },
  {
   "cell_type": "code",
   "execution_count": null,
   "id": "43ebceeb",
   "metadata": {},
   "outputs": [],
   "source": [
    "next_sg_results[\"rslt_data\"].df"
   ]
  },
  {
   "cell_type": "code",
   "execution_count": null,
   "id": "5063aac5",
   "metadata": {},
   "outputs": [],
   "source": []
  },
  {
   "cell_type": "code",
   "execution_count": null,
   "id": "b29ea7d8",
   "metadata": {},
   "outputs": [],
   "source": []
  },
  {
   "cell_type": "code",
   "execution_count": null,
   "id": "235c139a",
   "metadata": {},
   "outputs": [],
   "source": [
    "raise"
   ]
  },
  {
   "cell_type": "code",
   "execution_count": null,
   "id": "5533dcb3",
   "metadata": {},
   "outputs": [],
   "source": []
  },
  {
   "cell_type": "markdown",
   "id": "03586bb3",
   "metadata": {},
   "source": [
    "# next run"
   ]
  },
  {
   "cell_type": "code",
   "execution_count": null,
   "id": "cace9079",
   "metadata": {},
   "outputs": [],
   "source": [
    "init_struc_data.keys()"
   ]
  },
  {
   "cell_type": "code",
   "execution_count": null,
   "id": "5352640b",
   "metadata": {},
   "outputs": [],
   "source": [
    "stat, struc_dict = cryspy_restart.restart()\n",
    "struc_dict"
   ]
  },
  {
   "cell_type": "code",
   "execution_count": null,
   "id": "575880d2",
   "metadata": {},
   "outputs": [],
   "source": [
    "jobs = Ctrl_job(stat, struc_dict) # init_struc_dataの更新の必要がある。\n",
    "jobs.check_job()"
   ]
  },
  {
   "cell_type": "code",
   "execution_count": null,
   "id": "f0d6007d",
   "metadata": {},
   "outputs": [],
   "source": [
    "stat[\"basic\"][\"tot_struc\"]"
   ]
  },
  {
   "cell_type": "code",
   "execution_count": null,
   "id": "7c20b1f9",
   "metadata": {},
   "outputs": [],
   "source": []
  },
  {
   "cell_type": "code",
   "execution_count": null,
   "id": "a8bcd7f9",
   "metadata": {},
   "outputs": [],
   "source": []
  },
  {
   "cell_type": "code",
   "execution_count": null,
   "id": "a467ac6b",
   "metadata": {},
   "outputs": [],
   "source": [
    "cwd_dict, struc_dict = handle_job_return_dict(jobs)"
   ]
  },
  {
   "cell_type": "code",
   "execution_count": null,
   "id": "2600fba0",
   "metadata": {},
   "outputs": [],
   "source": [
    "jobs.init_struc_data"
   ]
  },
  {
   "cell_type": "code",
   "execution_count": null,
   "id": "d626e5a4",
   "metadata": {},
   "outputs": [],
   "source": [
    "jobs.id_queueing, jobs.id_running\n"
   ]
  },
  {
   "cell_type": "code",
   "execution_count": null,
   "id": "dda0ca55",
   "metadata": {},
   "outputs": [],
   "source": [
    "cwd_dict, struc_dict\n"
   ]
  },
  {
   "cell_type": "code",
   "execution_count": null,
   "id": "194fdef2",
   "metadata": {},
   "outputs": [],
   "source": [
    "if len(struc_dict)>0 and len(cwd_dict)>0:\n",
    "    inputs = {'code_string': Str(code_lammps_opt.label),\n",
    "             \"initial_structures\": Dict(dict=struc_dict),\n",
    "             \"cwd\": Dict(dict=cwd_dict),\n",
    "             \"potential\": potential,\n",
    "             \"parameters\": parameters}\n",
    "    optimization_simulator_lammps_WorkChain = WorkflowFactory('cryspy.optimize_structures_lammps')\n",
    "    result, node = run_get_node(optimization_simulator_lammps_WorkChain, **inputs)\n",
    "    finish_job(jobs)\n",
    "    "
   ]
  },
  {
   "cell_type": "code",
   "execution_count": null,
   "id": "a4284023",
   "metadata": {},
   "outputs": [],
   "source": [
    "print(len(jobs.id_queueing), len(jobs.id_running))\n",
    "if not (jobs.id_queueing or jobs.id_running):\n",
    "    jobs.next_sg()\n",
    "    "
   ]
  },
  {
   "cell_type": "markdown",
   "id": "35abb0c4",
   "metadata": {},
   "source": [
    "# next run\n"
   ]
  },
  {
   "cell_type": "code",
   "execution_count": null,
   "id": "fb2c85e2",
   "metadata": {},
   "outputs": [],
   "source": [
    "stat, struc_dict = cryspy_restart.restart()\n",
    "jobs = Ctrl_job(stat, struc_dict)\n",
    "jobs.check_job()\n",
    "cwd_dict, struc_dict = handle_job_return_dict(jobs)\n"
   ]
  },
  {
   "cell_type": "code",
   "execution_count": null,
   "id": "47a9676b",
   "metadata": {},
   "outputs": [],
   "source": [
    "jobs.id_queueing, jobs.id_running"
   ]
  },
  {
   "cell_type": "code",
   "execution_count": null,
   "id": "a30d682c",
   "metadata": {},
   "outputs": [],
   "source": [
    "cwd_dict, struc_dict"
   ]
  },
  {
   "cell_type": "code",
   "execution_count": null,
   "id": "79c628c5",
   "metadata": {},
   "outputs": [],
   "source": [
    "if len(struc_dict)>0 and len(cwd_dict)>0:\n",
    "    inputs = {'code_string': Str(code_lammps_opt.label),\n",
    "             \"initial_structures\": Dict(dict=struc_dict),\n",
    "             \"cwd\": Dict(dict=cwd_dict),\n",
    "             \"potential\": potential,\n",
    "             \"parameters\": parameters}\n",
    "    optimization_simulator_lammps_WorkChain = WorkflowFactory('cryspy.optimize_structures_lammps')\n",
    "    result, node = run_get_node(optimization_simulator_lammps_WorkChain, **inputs)\n",
    "    finish_job(jobs)"
   ]
  },
  {
   "cell_type": "code",
   "execution_count": null,
   "id": "7dfb7710",
   "metadata": {},
   "outputs": [],
   "source": [
    "print(len(jobs.id_queueing), len(jobs.id_running))\n",
    "if not (jobs.id_queueing or jobs.id_running):\n",
    "    jobs.next_sg()"
   ]
  },
  {
   "cell_type": "code",
   "execution_count": null,
   "id": "87c357e4",
   "metadata": {},
   "outputs": [],
   "source": [
    "!verdi graph generate 14891"
   ]
  },
  {
   "cell_type": "code",
   "execution_count": null,
   "id": "fc929e12",
   "metadata": {},
   "outputs": [],
   "source": [
    "!pwd"
   ]
  },
  {
   "cell_type": "code",
   "execution_count": null,
   "id": "766f5337",
   "metadata": {},
   "outputs": [],
   "source": []
  }
 ],
 "metadata": {
  "kernelspec": {
   "display_name": "py39",
   "language": "python",
   "name": "py39"
  },
  "language_info": {
   "codemirror_mode": {
    "name": "ipython",
    "version": 3
   },
   "file_extension": ".py",
   "mimetype": "text/x-python",
   "name": "python",
   "nbconvert_exporter": "python",
   "pygments_lexer": "ipython3",
   "version": "3.7.13"
  }
 },
 "nbformat": 4,
 "nbformat_minor": 5
}
