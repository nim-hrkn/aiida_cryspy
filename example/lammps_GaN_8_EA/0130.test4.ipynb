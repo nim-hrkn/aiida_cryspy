{
 "cells": [
  {
   "cell_type": "code",
   "execution_count": null,
   "id": "4021e8d0",
   "metadata": {},
   "outputs": [],
   "source": [
    "#!/usr/bin/env python3\n",
    "'''\n",
    "Main script\n",
    "'''\n",
    "\n",
    "import os\n",
    "from pymatgen.io.vasp.inputs import Poscar\n",
    "from pymatgen.core import Structure\n",
    "\n",
    "from CrySPY.interface import select_code\n",
    "from CrySPY.job.ctrl_job import Ctrl_job\n",
    "from CrySPY.IO import read_input as rin\n",
    "from CrySPY.start import cryspy_init, cryspy_restart\n",
    "\n",
    "from aiida_lammps.tests.utils import (\n",
    "    get_or_create_local_computer, get_or_create_code)\n",
    "from aiida_lammps.tests.utils import lammps_version\n",
    "\n",
    "from aiida.engine import run_get_node, run, submit\n",
    "from aiida.plugins import DataFactory, WorkflowFactory\n",
    "import numpy as np\n",
    "from aiida.orm import Code\n",
    "from aiida.orm import Str, Dict, Int, List, Float\n",
    "from aiida.engine import calcfunction, WorkChain, append_\n",
    "from aiida.plugins import DataFactory\n",
    "from itertools import cycle\n",
    "import os\n",
    "import io\n",
    "from configparser import ConfigParser\n",
    "\n",
    "from CrySPY.gen_struc.random.gen_pyxtal import Rnd_struc_gen_pyxtal\n"
   ]
  },
  {
   "cell_type": "code",
   "execution_count": null,
   "id": "3e4b6ea7",
   "metadata": {},
   "outputs": [],
   "source": [
    "import aiida\n",
    "aiida.load_profile()\n"
   ]
  },
  {
   "cell_type": "code",
   "execution_count": null,
   "id": "da8044c2",
   "metadata": {},
   "outputs": [],
   "source": [
    "SIMULATOR_PREFIX = 'simulator_'\n",
    "ID_PREFIX = 'ID_'\n"
   ]
  },
  {
   "cell_type": "code",
   "execution_count": null,
   "id": "69aa3d40",
   "metadata": {},
   "outputs": [],
   "source": [
    "# nodebank settings\n",
    "\n",
    "from tools.nodebank import NodeBank\n",
    "pwd = os.getcwd()\n",
    "print(pwd)\n",
    "nodebank = NodeBank(pwd)\n"
   ]
  },
  {
   "cell_type": "code",
   "execution_count": null,
   "id": "13a83d52",
   "metadata": {},
   "outputs": [],
   "source": [
    "!pwd"
   ]
  },
  {
   "cell_type": "code",
   "execution_count": null,
   "id": "39bd16e5",
   "metadata": {},
   "outputs": [],
   "source": []
  },
  {
   "cell_type": "code",
   "execution_count": null,
   "id": "51f11e3f",
   "metadata": {},
   "outputs": [],
   "source": [
    "import os\n",
    "import numpy as np\n",
    "\n",
    "\n",
    "from aiida.plugins import DataFactory\n",
    "from aiida.orm import Code\n",
    "from aiida.orm import Str, Dict, List, Int\n",
    "from aiida.engine import calcfunction, WorkChain\n",
    "\n",
    "from CrySPY.IO import read_input as rin\n",
    "from pymatgen.io.vasp.inputs import Poscar\n",
    "from pymatgen.core import Structure\n",
    "\n",
    "# load types\n",
    "StructureData = DataFactory('structure')\n",
    "FolderData = DataFactory('folder')\n",
    "SinglefileData = DataFactory('singlefile')\n",
    "ArrayData = DataFactory('array')\n",
    "LammpsPotential = DataFactory('lammps.potential')\n",
    "TrajectoryData = DataFactory('array.trajectory')\n",
    "\n",
    "# PandasFrameData = DataFactory('cryspy.dataframe')\n",
    "PandasFrameData = DataFactory('dataframe.frame')\n",
    "\n",
    "ConfigparserData = DataFactory('cryspy.configparser')\n",
    "StructurecollectionData = DataFactory('cryspy.structurecollection')\n",
    "EAData = DataFactory('cryspy.ea_data')\n",
    "EAidData = DataFactory('cryspy.ea_id_data')\n"
   ]
  },
  {
   "cell_type": "code",
   "execution_count": null,
   "id": "9d3265f0",
   "metadata": {
    "scrolled": false
   },
   "outputs": [],
   "source": [
    "pwd = os.getcwd()\n",
    "cryspy_in = os.path.join(pwd, 'cryspy.in0')\n",
    "inputs = {'cryspy_in': Str(cryspy_in)}\n",
    "initialize_WorkChain = WorkflowFactory('cryspy.initial_structures')\n",
    "initial_result = run(initialize_WorkChain, **inputs)\n"
   ]
  },
  {
   "cell_type": "code",
   "execution_count": null,
   "id": "0b8cee99",
   "metadata": {},
   "outputs": [],
   "source": [
    "# workflow結果表示\n",
    "initial_result\n"
   ]
  },
  {
   "cell_type": "code",
   "execution_count": null,
   "id": "43958089",
   "metadata": {},
   "outputs": [],
   "source": [
    "stat = initial_result[\"stat\"]\n"
   ]
  },
  {
   "cell_type": "code",
   "execution_count": null,
   "id": "b250d47b",
   "metadata": {},
   "outputs": [],
   "source": []
  },
  {
   "cell_type": "code",
   "execution_count": null,
   "id": "a0f0c3d5",
   "metadata": {},
   "outputs": [],
   "source": []
  },
  {
   "cell_type": "code",
   "execution_count": null,
   "id": "6bba66aa",
   "metadata": {},
   "outputs": [],
   "source": [
    "rslt_data_node = initial_result[\"rslt_data\"]\n",
    "rslt_data_node.df\n"
   ]
  },
  {
   "cell_type": "code",
   "execution_count": null,
   "id": "97cb90f1",
   "metadata": {},
   "outputs": [],
   "source": [
    "import shutil\n",
    "# cryspy.inは実行中に書き換えられる。\n",
    "shutil.copy(\"cryspy.in0\", \"cryspy.in\")\n"
   ]
  },
  {
   "cell_type": "markdown",
   "id": "6e531e5a",
   "metadata": {},
   "source": [
    "# "
   ]
  },
  {
   "cell_type": "code",
   "execution_count": null,
   "id": "8c93a3c1",
   "metadata": {},
   "outputs": [],
   "source": [
    "# all the initial structures\n",
    "\n",
    "all_initial_structures_node = initial_result[\"init_struc\"]\n"
   ]
  },
  {
   "cell_type": "markdown",
   "id": "b033ccc4",
   "metadata": {},
   "source": [
    "# select structures to optimize"
   ]
  },
  {
   "cell_type": "code",
   "execution_count": null,
   "id": "de59a67e",
   "metadata": {},
   "outputs": [],
   "source": [
    "        \n",
    "\n",
    "\n",
    "class select_structure_to_run_WorkChain(WorkChain):\n",
    "    @classmethod\n",
    "    def define(cls, spec):\n",
    "        super().define(spec)\n",
    "        spec.input(\"ea_id_data\", valid_type=EAidData, help='ea_id_data.')\n",
    "        spec.input(\"init_struc\", valid_type=StructurecollectionData, help='initial structures.')\n",
    "        spec.outline(\n",
    "            cls.select_structures\n",
    "        )\n",
    "\n",
    "        spec.output(\"init_struc\", valid_type=StructurecollectionData, help='selected initial structures.')\n",
    "        spec.output(\"work_path\", valid_type=Dict, help='directory to saved results.')\n",
    "        spec.output(\"ea_id_data\", valid_type=EAidData)\n",
    "        \n",
    "    def select_structures(self):\n",
    "        ea_id_node = self.inputs.ea_id_data\n",
    "        structure_node = self.inputs.init_struc\n",
    "        \n",
    "        ea_id_data = ea_id_node.ea_id_data\n",
    "        structures = structure_node.structurecollection\n",
    "        id_queueing = ea_id_data[1]\n",
    "        work_path_dic = {}\n",
    "        structures_dic = {}\n",
    "        for cid in id_queueing:\n",
    "            work_path = './work/{:06}/'.format(cid)\n",
    "            work_path = os.path.abspath(work_path)\n",
    "            structures_dic[cid] = structures[cid]\n",
    "            ID = str(cid)\n",
    "            work_path_dic[ID] = work_path\n",
    "        \n",
    "        struc = StructurecollectionData(structures_dic)\n",
    "        struc.store()\n",
    "        self.out('init_struc', struc)\n",
    "        \n",
    "        d = Dict(dict=work_path_dic)\n",
    "        d.store()\n",
    "        self.out('work_path', d)\n",
    "        \n",
    "        id_queueing  = []\n",
    "        ea_id = EAidData((ea_id_data[0],id_queueing, ea_id_data[2]))\n",
    "        ea_id.store()\n",
    "        self.out('ea_id_data', ea_id)\n",
    "    "
   ]
  },
  {
   "cell_type": "code",
   "execution_count": null,
   "id": "59384985",
   "metadata": {
    "scrolled": false
   },
   "outputs": [],
   "source": [
    "inputs = {\"ea_id_data\":  initial_result[\"ea_id_data\"], \"init_struc\":initial_result[\"init_struc\"] }\n",
    "\n",
    "select_structure_result = run(select_structure_to_run_WorkChain, **inputs)\n",
    "work_path_node = select_structure_result[\"work_path\"]\n",
    "structures_to_optimize_node = select_structure_result[\"init_struc\"]\n"
   ]
  },
  {
   "cell_type": "code",
   "execution_count": null,
   "id": "5f4e37c5",
   "metadata": {},
   "outputs": [],
   "source": [
    "select_structure_result"
   ]
  },
  {
   "cell_type": "code",
   "execution_count": null,
   "id": "08efaaad",
   "metadata": {},
   "outputs": [],
   "source": [
    "ea_id_node = select_structure_result[\"ea_id_data\"]\n",
    "ea_id_node.ea_id_data"
   ]
  },
  {
   "cell_type": "code",
   "execution_count": null,
   "id": "7ce5f982",
   "metadata": {},
   "outputs": [],
   "source": [
    "computer_local = 'localhost'\n",
    "code_lammps_opt = get_or_create_code('lammps.optimize',\n",
    "                                     computer_local, 'lammps')\n",
    "meta_options = {\n",
    "    \"resources\": {\n",
    "        \"num_machines\": 1,\n",
    "        \"num_mpiprocs_per_machine\": 4}\n",
    "}\n",
    "code_lammps_opt.label\n"
   ]
  },
  {
   "cell_type": "code",
   "execution_count": null,
   "id": "41f4954d",
   "metadata": {},
   "outputs": [],
   "source": [
    "# lammps potentials\n",
    "pair_style = 'tersoff'\n",
    "potential_dict = {\n",
    "    'Ga Ga Ga': '1.0 0.007874 1.846 1.918000 0.75000 -0.301300 1.0 1.0 1.44970 410.132 2.87 0.15 1.60916 535.199',\n",
    "    'N  N  N': '1.0 0.766120 0.000 0.178493 0.20172 -0.045238 1.0 1.0 2.38426 423.769 2.20 0.20 3.55779 1044.77',\n",
    "    'Ga Ga N': '1.0 0.001632 0.000 65.20700 2.82100 -0.518000 1.0 0.0 0.00000 0.00000 2.90 0.20 0.00000 0.00000',\n",
    "    'Ga N  N': '1.0 0.001632 0.000 65.20700 2.82100 -0.518000 1.0 1.0 2.63906 3864.27 2.90 0.20 2.93516 6136.44',\n",
    "    'N  Ga Ga': '1.0 0.001632 0.000 65.20700 2.82100 -0.518000 1.0 1.0 2.63906 3864.27 2.90 0.20 2.93516 6136.44',\n",
    "    'N  Ga N ': '1.0 0.766120 0.000 0.178493 0.20172 -0.045238 1.0 0.0 0.00000 0.00000 2.20 0.20 0.00000 0.00000',\n",
    "    'N  N  Ga': '1.0 0.001632 0.000 65.20700 2.82100 -0.518000 1.0 0.0 0.00000 0.00000 2.90 0.20 0.00000 0.00000',\n",
    "    'Ga N  Ga': '1.0 0.007874 1.846 1.918000 0.75000 -0.301300 1.0 0.0 0.00000 0.00000 2.87 0.15 0.00000 0.00000'}\n",
    "potential = DataFactory(\"lammps.potential\")(\n",
    "    type=pair_style, data=potential_dict\n",
    ")\n",
    "potential.attributes\n"
   ]
  },
  {
   "cell_type": "code",
   "execution_count": null,
   "id": "e68db394",
   "metadata": {},
   "outputs": [],
   "source": [
    "# lammps.optimize parameters\n",
    "parameters = DataFactory('dict')(dict={\n",
    "    'lammps_version': lammps_version(),\n",
    "    'output_variables': [\"temp\", \"etotal\", \"pe\", \"ke\"],\n",
    "    'thermo_keywords': [],\n",
    "    'units': 'metal',\n",
    "    'relax': {\n",
    "        'type': 'aniso',\n",
    "        'pressure': 0.0,\n",
    "        'vmax': 0.005,\n",
    "    },\n",
    "    \"minimize\": {\n",
    "        'style': 'cg',\n",
    "        'energy_tolerance': 1.0e-5,\n",
    "        'force_tolerance': 1.0e-3,\n",
    "        'max_iterations': 1000,\n",
    "        'max_evaluations': 10000\n",
    "        }\n",
    "})\n"
   ]
  },
  {
   "cell_type": "code",
   "execution_count": null,
   "id": "eada1b1b",
   "metadata": {},
   "outputs": [],
   "source": [
    "code_lammps_opt\n"
   ]
  },
  {
   "cell_type": "code",
   "execution_count": null,
   "id": "5cc88dee",
   "metadata": {
    "scrolled": false
   },
   "outputs": [],
   "source": [
    "if len(all_initial_structures_node.structurecollection.keys())>0 and len(work_path_node.get_dict())>0:\n",
    "    inputs = {'code_string': Str(code_lammps_opt.label),\n",
    "             \"initial_structures\": structures_to_optimize_node, \n",
    "             \"cwd\": work_path_node,\n",
    "             \"potential\": potential,\n",
    "             \"parameters\": parameters}\n",
    "    optimization_simulator_lammps_WorkChain = WorkflowFactory('cryspy.optimize_structures_lammps')\n",
    "    optimize_result, node = run_get_node(optimization_simulator_lammps_WorkChain, **inputs)\n",
    "    # finish_job(jobs)\n",
    "    "
   ]
  },
  {
   "cell_type": "code",
   "execution_count": null,
   "id": "617cb47c",
   "metadata": {},
   "outputs": [],
   "source": [
    "print(optimize_result[\"results\"].get_dict())\n"
   ]
  },
  {
   "cell_type": "code",
   "execution_count": null,
   "id": "f4a6a084",
   "metadata": {},
   "outputs": [],
   "source": [
    "all_optimized_structures_node = optimize_result[\"final_structures\"]\n",
    "len(all_optimized_structures_node.structurecollection.keys())\n"
   ]
  },
  {
   "cell_type": "markdown",
   "id": "741004d6",
   "metadata": {},
   "source": [
    "# next run"
   ]
  },
  {
   "cell_type": "code",
   "execution_count": null,
   "id": "4239f0d8",
   "metadata": {},
   "outputs": [],
   "source": [
    "# 修正すること。\n",
    "# stat, struc_dict = cryspy_restart.restart(all_initial_structures_node.structurecollection)\n",
    "ea_id_node = initial_result[\"ea_id_data\"]"
   ]
  },
  {
   "cell_type": "code",
   "execution_count": null,
   "id": "abc354a4",
   "metadata": {
    "scrolled": false
   },
   "outputs": [],
   "source": [
    "# optの対称性の登録\n",
    "@calcfunction\n",
    "def generate_rlst(all_initial_structures_node: StructurecollectionData, \n",
    "                  all_optimized_structures_node: StructurecollectionData, \n",
    "                  optimize_result: Dict, \n",
    "                  ea_id_data_node: EAidData, \n",
    "                  rslt_data_node: PandasFrameData):\n",
    "    init_struc_data = all_initial_structures_node.structurecollection\n",
    "    opt_struc = all_optimized_structures_node.structurecollection\n",
    "    opt_results = optimize_result.get_dict()\n",
    "    rslt_data = rslt_data_node.df\n",
    "    gen = ea_id_data_node.ea_id_data[0]\n",
    "    magmon = None\n",
    "    check_opt = 'done'\n",
    "    \n",
    "    symprec = rin.symprec\n",
    "    for i,energy in zip(opt_results[\"index\"], opt_results[\"energy\"]):\n",
    "        if energy is not None:\n",
    "            check_opt = 'done'\n",
    "        else:\n",
    "            check_opt = 'not_yet'\n",
    "        if energy is None:\n",
    "            energy = np.nan\n",
    "        else:\n",
    "            natot = len(init_struc_data[i].atomic_numbers)\n",
    "            energy /= natot\n",
    "            \n",
    "        in_spg = init_struc_data[i].get_space_group_info(symprec=symprec)\n",
    "        opt_spg = opt_struc[i].get_space_group_info(symprec=symprec)\n",
    "        rslt_data.loc[i] = [gen, in_spg[1], in_spg[0], opt_spg[1], opt_spg[0], \n",
    "                           energy, magmon, check_opt]\n",
    "        \n",
    "    return PandasFrameData(rslt_data)\n",
    "    # return rslt_data\n",
    "\n",
    "rslt_data_node_new = generate_rlst(all_initial_structures_node, all_optimized_structures_node, \n",
    "                              optimize_result[\"results\"], \n",
    "                              ea_id_node, rslt_data_node)\n",
    "\n",
    "# rslt for new EA\n",
    "rslt_data_node_new.df"
   ]
  },
  {
   "cell_type": "markdown",
   "id": "aee3ad26",
   "metadata": {},
   "source": [
    "# next_sg\n",
    "\n",
    "It generates new candidates by EA.\n"
   ]
  },
  {
   "cell_type": "code",
   "execution_count": null,
   "id": "fe428009",
   "metadata": {
    "scrolled": false
   },
   "outputs": [],
   "source": [
    "ea_data_node = initial_result[\"ea_data\"]\n",
    "rslt_data_node = rslt_data_node_new\n",
    "\n",
    "inputs = {'initial_structures': all_initial_structures_node,\n",
    "         'optimized_structures': all_optimized_structures_node,\n",
    "          'rslt_data': rslt_data_node,\n",
    "          'ea_id_data': ea_id_node,\n",
    "          'ea_data': ea_data_node,\n",
    "         'stat': stat}\n",
    "next_sg_WorkChain = WorkflowFactory('cryspy.next_sg')\n",
    "next_sg_results = run(next_sg_WorkChain, **inputs)\n"
   ]
  },
  {
   "cell_type": "code",
   "execution_count": null,
   "id": "a6fe2a4a",
   "metadata": {
    "scrolled": false
   },
   "outputs": [],
   "source": [
    "next_sg_results"
   ]
  },
  {
   "cell_type": "code",
   "execution_count": null,
   "id": "c46d76df",
   "metadata": {
    "scrolled": true
   },
   "outputs": [],
   "source": [
    "stat = next_sg_results[\"stat\"]\n",
    "stat.get_dict()"
   ]
  },
  {
   "cell_type": "code",
   "execution_count": null,
   "id": "df57bfdd",
   "metadata": {
    "scrolled": false
   },
   "outputs": [],
   "source": [
    "ea_id_node = next_sg_results[\"ea_id_data\"]\n",
    "print(ea_id_node.ea_id_data)\n"
   ]
  },
  {
   "cell_type": "code",
   "execution_count": null,
   "id": "626c7219",
   "metadata": {},
   "outputs": [],
   "source": [
    "all_initial_structures_node = next_sg_results[\"initial_structures\"]\n",
    "all_initial_structures_node.structurecollection.keys()"
   ]
  },
  {
   "cell_type": "code",
   "execution_count": null,
   "id": "4c1d542a",
   "metadata": {},
   "outputs": [],
   "source": [
    "next_sg_results[\"rslt_data\"].df.sort_values(by=\"E_eV_atom\")"
   ]
  },
  {
   "cell_type": "code",
   "execution_count": null,
   "id": "e31fb528",
   "metadata": {},
   "outputs": [],
   "source": [
    "all_initial_structures_node.structurecollection.keys()"
   ]
  },
  {
   "cell_type": "markdown",
   "id": "03586bb3",
   "metadata": {},
   "source": [
    "# next structure  optimization"
   ]
  },
  {
   "cell_type": "code",
   "execution_count": null,
   "id": "d13ee1d1",
   "metadata": {},
   "outputs": [],
   "source": [
    "inputs = {\"ea_id_data\":  ea_id_node, \"init_struc\": all_initial_structures_node }\n",
    "\n",
    "select_structure_result = run(select_structure_to_run_WorkChain, **inputs)\n",
    "work_path_node = select_structure_result[\"work_path\"]\n",
    "structures_to_optimize_node = select_structure_result[\"init_struc\"]\n",
    "print(work_path_node.get_dict().keys(),  structures_to_optimize_node.get_dict().keys())"
   ]
  },
  {
   "cell_type": "code",
   "execution_count": null,
   "id": "6fd3caeb",
   "metadata": {},
   "outputs": [],
   "source": [
    "if len(structures_to_optimize_node.structurecollection.keys())>0 and len(work_path_node.get_dict())>0:\n",
    "    inputs = {'code_string': Str(code_lammps_opt.label),\n",
    "             \"initial_structures\": structures_to_optimize_node, \n",
    "             \"cwd\": work_path_node,\n",
    "             \"potential\": potential,\n",
    "             \"parameters\": parameters}\n",
    "    optimization_simulator_lammps_WorkChain = WorkflowFactory('cryspy.optimize_structures_lammps')\n",
    "    optimize_result, node = run_get_node(optimization_simulator_lammps_WorkChain, **inputs)\n",
    "    # finish_job(jobs)"
   ]
  },
  {
   "cell_type": "code",
   "execution_count": null,
   "id": "468884d0",
   "metadata": {},
   "outputs": [],
   "source": [
    "print(optimize_result[\"results\"].get_dict())"
   ]
  },
  {
   "cell_type": "code",
   "execution_count": null,
   "id": "ba5dcf41",
   "metadata": {},
   "outputs": [],
   "source": [
    "# merge all_optimized_structures_node\n",
    "all_optimized_structures_node.structurecollection.keys(), optimize_result[\"final_structures\"].structurecollection.keys()"
   ]
  },
  {
   "cell_type": "code",
   "execution_count": null,
   "id": "f26a2353",
   "metadata": {},
   "outputs": [],
   "source": [
    "import copy\n",
    "@calcfunction\n",
    "def merge_structurecollection(struc1: StructurecollectionData, struc2: StructurecollectionData):\n",
    "    struc1 = struc1.structurecollection\n",
    "    struc2 = struc2.structurecollection\n",
    "    for key, value in struc2.items():\n",
    "        if key not in struc1:\n",
    "            struc1[key] = value\n",
    "        else:\n",
    "            print(f\"Warning: key {key} is in struc1.\")\n",
    "    return StructurecollectionData(struc1)"
   ]
  },
  {
   "cell_type": "code",
   "execution_count": null,
   "id": "286121c9",
   "metadata": {},
   "outputs": [],
   "source": [
    "all_optimized_structures_node = merge_structurecollection(all_optimized_structures_node, optimize_result[\"final_structures\"])\n",
    "all_optimized_structures_node.structurecollection.keys()"
   ]
  },
  {
   "cell_type": "code",
   "execution_count": null,
   "id": "c15e8109",
   "metadata": {},
   "outputs": [],
   "source": [
    "ea_id_node = next_sg_results[\"ea_id_data\"]\n",
    "all_initial_structures_node = next_sg_results[\"initial_structures\"]\n",
    "all_initial_structures_node.structurecollection.keys(), all_optimized_structures_node.structurecollection.keys()"
   ]
  },
  {
   "cell_type": "code",
   "execution_count": null,
   "id": "5622b5a8",
   "metadata": {
    "scrolled": false
   },
   "outputs": [],
   "source": [
    "rslt_data_node = generate_rlst(all_initial_structures_node, all_optimized_structures_node, \n",
    "                              optimize_result[\"results\"], \n",
    "                              ea_id_node, rslt_data_node)\n",
    "rslt_data_node.df.sort_values(by=\"E_eV_atom\")"
   ]
  },
  {
   "cell_type": "code",
   "execution_count": null,
   "id": "d752aa5b",
   "metadata": {},
   "outputs": [],
   "source": [
    "ea_data_node = next_sg_results[\"ea_data\"]\n",
    "ea_id_data_node = select_structure_result[\"ea_id_data\"]\n"
   ]
  },
  {
   "cell_type": "code",
   "execution_count": null,
   "id": "f3437501",
   "metadata": {},
   "outputs": [],
   "source": [
    "print(ea_id_data_node.get_dict())\n"
   ]
  },
  {
   "cell_type": "code",
   "execution_count": null,
   "id": "de37dbb8",
   "metadata": {},
   "outputs": [],
   "source": [
    "all_optimized_structures_node.structurecollection.keys()"
   ]
  },
  {
   "cell_type": "markdown",
   "id": "fe2878d3",
   "metadata": {},
   "source": [
    "# next_sg"
   ]
  },
  {
   "cell_type": "code",
   "execution_count": null,
   "id": "89404e03",
   "metadata": {},
   "outputs": [],
   "source": [
    "rslt_data_node.df.sort_values(by='E_eV_atom')"
   ]
  },
  {
   "cell_type": "code",
   "execution_count": null,
   "id": "44595e36",
   "metadata": {},
   "outputs": [],
   "source": [
    "stat[\"basic\"]"
   ]
  },
  {
   "cell_type": "code",
   "execution_count": null,
   "id": "4528f739",
   "metadata": {
    "scrolled": false
   },
   "outputs": [],
   "source": [
    "inputs = {'initial_structures': all_initial_structures_node,\n",
    "         'optimized_structures': all_optimized_structures_node,\n",
    "          'rslt_data': rslt_data_node,\n",
    "          'ea_id_data': ea_id_data_node,\n",
    "          'ea_data': ea_data_node,\n",
    "         'stat': stat}\n",
    "\n",
    "next_sg_WorkChain = WorkflowFactory('cryspy.next_sg')\n",
    "next_sg_results = run(next_sg_WorkChain, **inputs)\n"
   ]
  },
  {
   "cell_type": "code",
   "execution_count": null,
   "id": "085b7986",
   "metadata": {},
   "outputs": [],
   "source": [
    "next_sg_results"
   ]
  },
  {
   "cell_type": "code",
   "execution_count": null,
   "id": "86021c10",
   "metadata": {},
   "outputs": [],
   "source": [
    "ea_id_data = next_sg_results['ea_id_data']\n"
   ]
  },
  {
   "cell_type": "code",
   "execution_count": null,
   "id": "8ef854d0",
   "metadata": {},
   "outputs": [],
   "source": [
    "all_initial_structures_node = next_sg_results[\"initial_structures\"]\n",
    "print(all_initial_structures_node.get_dict().keys())\n"
   ]
  },
  {
   "cell_type": "markdown",
   "id": "17918fef",
   "metadata": {},
   "source": [
    "# structure optimization "
   ]
  },
  {
   "cell_type": "code",
   "execution_count": null,
   "id": "245123fb",
   "metadata": {},
   "outputs": [],
   "source": [
    "inputs = {\"ea_id_data\":  ea_id_data, \"init_struc\": all_initial_structures_node }\n",
    "\n",
    "select_structure_result = run(select_structure_to_run_WorkChain, **inputs)\n",
    "work_path_node = select_structure_result[\"work_path\"]\n",
    "structures_to_optimize_node = select_structure_result[\"init_struc\"]\n"
   ]
  },
  {
   "cell_type": "code",
   "execution_count": null,
   "id": "eabf7420",
   "metadata": {
    "scrolled": true
   },
   "outputs": [],
   "source": [
    "work_path_node.get_dict(), structures_to_optimize_node.get_dict().keys()\n"
   ]
  },
  {
   "cell_type": "code",
   "execution_count": null,
   "id": "94827b44",
   "metadata": {},
   "outputs": [],
   "source": [
    "if len(structures_to_optimize_node.structurecollection.keys())>0 and len(work_path_node.get_dict())>0:\n",
    "    inputs = {'code_string': Str(code_lammps_opt.label),\n",
    "             \"initial_structures\": structures_to_optimize_node, \n",
    "             \"cwd\": work_path_node,\n",
    "             \"potential\": potential,\n",
    "             \"parameters\": parameters}\n",
    "    optimization_simulator_lammps_WorkChain = WorkflowFactory('cryspy.optimize_structures_lammps')\n",
    "    optimize_result, node = run_get_node(optimization_simulator_lammps_WorkChain, **inputs)\n",
    "    # finish_job(jobs)\n",
    "    "
   ]
  },
  {
   "cell_type": "code",
   "execution_count": null,
   "id": "ffc5fca3",
   "metadata": {},
   "outputs": [],
   "source": [
    "optimize_result"
   ]
  },
  {
   "cell_type": "code",
   "execution_count": null,
   "id": "0fe28848",
   "metadata": {},
   "outputs": [],
   "source": [
    "all_optimized_structures_node = merge_structurecollection(all_optimized_structures_node, optimize_result[\"final_structures\"])\n",
    "all_optimized_structures_node.structurecollection.keys()\n"
   ]
  },
  {
   "cell_type": "code",
   "execution_count": null,
   "id": "f738eadf",
   "metadata": {},
   "outputs": [],
   "source": [
    "ea_id_node = next_sg_results[\"ea_id_data\"]\n",
    "all_initial_structures_node = next_sg_results[\"initial_structures\"]\n",
    "\n",
    "all_initial_structures_node.structurecollection.keys(), all_optimized_structures_node.structurecollection.keys()\n"
   ]
  },
  {
   "cell_type": "code",
   "execution_count": null,
   "id": "c93aa931",
   "metadata": {},
   "outputs": [],
   "source": [
    "rslt_data_node_new = generate_rlst(all_initial_structures_node, all_optimized_structures_node, \n",
    "                              optimize_result[\"results\"], \n",
    "                              ea_id_node, rslt_data_node)\n",
    "print(rslt_data_node_new.df.shape)\n",
    "rslt_data_node_new.df.sort_values(by=\"E_eV_atom\").head(50)"
   ]
  },
  {
   "cell_type": "code",
   "execution_count": null,
   "id": "8b2a93e9",
   "metadata": {},
   "outputs": [],
   "source": []
  },
  {
   "cell_type": "code",
   "execution_count": null,
   "id": "9008f454",
   "metadata": {},
   "outputs": [],
   "source": []
  },
  {
   "cell_type": "code",
   "execution_count": null,
   "id": "ce12df50",
   "metadata": {},
   "outputs": [],
   "source": []
  }
 ],
 "metadata": {
  "kernelspec": {
   "display_name": "py39",
   "language": "python",
   "name": "py39"
  },
  "language_info": {
   "codemirror_mode": {
    "name": "ipython",
    "version": 3
   },
   "file_extension": ".py",
   "mimetype": "text/x-python",
   "name": "python",
   "nbconvert_exporter": "python",
   "pygments_lexer": "ipython3",
   "version": "3.7.13"
  }
 },
 "nbformat": 4,
 "nbformat_minor": 5
}
